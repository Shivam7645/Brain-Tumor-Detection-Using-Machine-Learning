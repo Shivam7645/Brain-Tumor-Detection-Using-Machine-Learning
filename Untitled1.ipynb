{
  "nbformat": 4,
  "nbformat_minor": 0,
  "metadata": {
    "colab": {
      "provenance": [],
      "authorship_tag": "ABX9TyPXV75P63BON+6dR/I4ljhN",
      "include_colab_link": true
    },
    "kernelspec": {
      "name": "python3",
      "display_name": "Python 3"
    },
    "language_info": {
      "name": "python"
    }
  },
  "cells": [
    {
      "cell_type": "markdown",
      "metadata": {
        "id": "view-in-github",
        "colab_type": "text"
      },
      "source": [
        "<a href=\"https://colab.research.google.com/github/Shivam7645/Brain-Tumor-Detection-Using-Machine-Learning/blob/main/Untitled1.ipynb\" target=\"_parent\"><img src=\"https://colab.research.google.com/assets/colab-badge.svg\" alt=\"Open In Colab\"/></a>"
      ]
    },
    {
      "cell_type": "code",
      "execution_count": null,
      "metadata": {
        "id": "CkosF0nD2LCm"
      },
      "outputs": [],
      "source": [
        "import pandas as pd\n",
        "import matplotlib.pyplot as plt\n",
        "import cufflinks as cf\n",
        "import plotly\n",
        "import plotly.express as px\n",
        "import seaborn as sns\n",
        "\n",
        "from IPython.core.display import HTML\n",
        "from wordcloud import WordCloud\n",
        "from sklearn.feature_extraction.text import TfidfVectorizer\n",
        "from sklearn.model_selection import train_test_split\n",
        "from sklearn import metrics\n",
        "from sklearn.ensemble import RandomForestClassifier, AdaBoostClassifier\n",
        "from sklearn.tree import DecisionTreeClassifier\n",
        "from datetime import datetime\n",
        "from sklearn.feature_extraction.text import CountVectorizer\n",
        "from pandas import DataFrame\n",
        "from collections import OrderedDict\n",
        "from colorama import Fore, Back, Style\n",
        "y_ = Fore.YELLOW\n",
        "r_ = Fore.RED\n",
        "g_ = Fore.GREEN\n",
        "b_ = Fore.BLUE\n",
        "m_ = Fore.MAGENTA\n",
        "sr_ = Style.RESET_ALL"
      ]
    },
    {
      "cell_type": "code",
      "source": [],
      "metadata": {
        "id": "bnpUmo3NI1G6"
      },
      "execution_count": null,
      "outputs": []
    },
    {
      "cell_type": "markdown",
      "source": [],
      "metadata": {
        "id": "wQxepVLQI1nu"
      }
    },
    {
      "cell_type": "code",
      "source": [],
      "metadata": {
        "id": "h3dXV06ZI17w"
      },
      "execution_count": null,
      "outputs": []
    },
    {
      "cell_type": "code",
      "source": [
        "import pandas as pd\n",
        "\n",
        "df = pd.read_csv('/content/news_articles.csv', encoding=\"latin\", index_col=0)\n",
        "df = df.dropna()\n",
        "print(df.count())\n"
      ],
      "metadata": {
        "colab": {
          "base_uri": "https://localhost:8080/"
        },
        "id": "ivV4a7HK2fdm",
        "outputId": "813d5ff4-47b8-4478-feb8-a8bceec0c519"
      },
      "execution_count": null,
      "outputs": [
        {
          "output_type": "stream",
          "name": "stdout",
          "text": [
            "published                  2045\n",
            "title                      2045\n",
            "text                       2045\n",
            "language                   2045\n",
            "site_url                   2045\n",
            "main_img_url               2045\n",
            "type                       2045\n",
            "label                      2045\n",
            "title_without_stopwords    2045\n",
            "text_without_stopwords     2045\n",
            "hasImage                   2045\n",
            "dtype: int64\n"
          ]
        }
      ]
    },
    {
      "cell_type": "code",
      "source": [
        "df.head(5)"
      ],
      "metadata": {
        "colab": {
          "base_uri": "https://localhost:8080/",
          "height": 692
        },
        "id": "h9PDesDx2zNi",
        "outputId": "22c320de-a852-431c-907b-397098c73e91"
      },
      "execution_count": null,
      "outputs": [
        {
          "output_type": "execute_result",
          "data": {
            "text/plain": [
              "                                          published  \\\n",
              "author                                                \n",
              "Barracuda Brigade     2016-10-26T21:41:00.000+03:00   \n",
              "reasoning with facts  2016-10-29T08:47:11.259+03:00   \n",
              "Barracuda Brigade     2016-10-31T01:41:49.479+02:00   \n",
              "Fed Up                2016-11-01T05:22:00.000+02:00   \n",
              "Fed Up                2016-11-01T21:56:00.000+02:00   \n",
              "\n",
              "                                                                  title  \\\n",
              "author                                                                    \n",
              "Barracuda Brigade     muslims busted they stole millions in govt ben...   \n",
              "reasoning with facts  re why did attorney general loretta lynch plea...   \n",
              "Barracuda Brigade     breaking weiner cooperating with fbi on hillar...   \n",
              "Fed Up                pin drop speech by father of daughter kidnappe...   \n",
              "Fed Up                fantastic trumps  point plan to reform healthc...   \n",
              "\n",
              "                                                                   text  \\\n",
              "author                                                                    \n",
              "Barracuda Brigade     print they should pay all the back all the mon...   \n",
              "reasoning with facts  why did attorney general loretta lynch plead t...   \n",
              "Barracuda Brigade     red state  \\nfox news sunday reported this mor...   \n",
              "Fed Up                email kayla mueller was a prisoner and torture...   \n",
              "Fed Up                email healthcare reform to make america great ...   \n",
              "\n",
              "                     language             site_url  \\\n",
              "author                                               \n",
              "Barracuda Brigade     english  100percentfedup.com   \n",
              "reasoning with facts  english  100percentfedup.com   \n",
              "Barracuda Brigade     english  100percentfedup.com   \n",
              "Fed Up                english  100percentfedup.com   \n",
              "Fed Up                english  100percentfedup.com   \n",
              "\n",
              "                                                           main_img_url  type  \\\n",
              "author                                                                          \n",
              "Barracuda Brigade     http://bb4sp.com/wp-content/uploads/2016/10/Fu...  bias   \n",
              "reasoning with facts  http://bb4sp.com/wp-content/uploads/2016/10/Fu...  bias   \n",
              "Barracuda Brigade     http://bb4sp.com/wp-content/uploads/2016/10/Fu...  bias   \n",
              "Fed Up                http://100percentfedup.com/wp-content/uploads/...  bias   \n",
              "Fed Up                http://100percentfedup.com/wp-content/uploads/...  bias   \n",
              "\n",
              "                     label                            title_without_stopwords  \\\n",
              "author                                                                          \n",
              "Barracuda Brigade     Real        muslims busted stole millions govt benefits   \n",
              "reasoning with facts  Real         attorney general loretta lynch plead fifth   \n",
              "Barracuda Brigade     Real  breaking weiner cooperating fbi hillary email ...   \n",
              "Fed Up                Real  pin drop speech father daughter kidnapped kill...   \n",
              "Fed Up                Real  fantastic trumps point plan reform healthcare ...   \n",
              "\n",
              "                                                 text_without_stopwords  \\\n",
              "author                                                                    \n",
              "Barracuda Brigade     print pay back money plus interest entire fami...   \n",
              "reasoning with facts  attorney general loretta lynch plead fifth bar...   \n",
              "Barracuda Brigade     red state fox news sunday reported morning ant...   \n",
              "Fed Up                email kayla mueller prisoner tortured isis cha...   \n",
              "Fed Up                email healthcare reform make america great sin...   \n",
              "\n",
              "                      hasImage  \n",
              "author                          \n",
              "Barracuda Brigade          1.0  \n",
              "reasoning with facts       1.0  \n",
              "Barracuda Brigade          1.0  \n",
              "Fed Up                     1.0  \n",
              "Fed Up                     1.0  "
            ],
            "text/html": [
              "\n",
              "  <div id=\"df-72578978-bd01-4551-a5c2-750d8af190ee\" class=\"colab-df-container\">\n",
              "    <div>\n",
              "<style scoped>\n",
              "    .dataframe tbody tr th:only-of-type {\n",
              "        vertical-align: middle;\n",
              "    }\n",
              "\n",
              "    .dataframe tbody tr th {\n",
              "        vertical-align: top;\n",
              "    }\n",
              "\n",
              "    .dataframe thead th {\n",
              "        text-align: right;\n",
              "    }\n",
              "</style>\n",
              "<table border=\"1\" class=\"dataframe\">\n",
              "  <thead>\n",
              "    <tr style=\"text-align: right;\">\n",
              "      <th></th>\n",
              "      <th>published</th>\n",
              "      <th>title</th>\n",
              "      <th>text</th>\n",
              "      <th>language</th>\n",
              "      <th>site_url</th>\n",
              "      <th>main_img_url</th>\n",
              "      <th>type</th>\n",
              "      <th>label</th>\n",
              "      <th>title_without_stopwords</th>\n",
              "      <th>text_without_stopwords</th>\n",
              "      <th>hasImage</th>\n",
              "    </tr>\n",
              "    <tr>\n",
              "      <th>author</th>\n",
              "      <th></th>\n",
              "      <th></th>\n",
              "      <th></th>\n",
              "      <th></th>\n",
              "      <th></th>\n",
              "      <th></th>\n",
              "      <th></th>\n",
              "      <th></th>\n",
              "      <th></th>\n",
              "      <th></th>\n",
              "      <th></th>\n",
              "    </tr>\n",
              "  </thead>\n",
              "  <tbody>\n",
              "    <tr>\n",
              "      <th>Barracuda Brigade</th>\n",
              "      <td>2016-10-26T21:41:00.000+03:00</td>\n",
              "      <td>muslims busted they stole millions in govt ben...</td>\n",
              "      <td>print they should pay all the back all the mon...</td>\n",
              "      <td>english</td>\n",
              "      <td>100percentfedup.com</td>\n",
              "      <td>http://bb4sp.com/wp-content/uploads/2016/10/Fu...</td>\n",
              "      <td>bias</td>\n",
              "      <td>Real</td>\n",
              "      <td>muslims busted stole millions govt benefits</td>\n",
              "      <td>print pay back money plus interest entire fami...</td>\n",
              "      <td>1.0</td>\n",
              "    </tr>\n",
              "    <tr>\n",
              "      <th>reasoning with facts</th>\n",
              "      <td>2016-10-29T08:47:11.259+03:00</td>\n",
              "      <td>re why did attorney general loretta lynch plea...</td>\n",
              "      <td>why did attorney general loretta lynch plead t...</td>\n",
              "      <td>english</td>\n",
              "      <td>100percentfedup.com</td>\n",
              "      <td>http://bb4sp.com/wp-content/uploads/2016/10/Fu...</td>\n",
              "      <td>bias</td>\n",
              "      <td>Real</td>\n",
              "      <td>attorney general loretta lynch plead fifth</td>\n",
              "      <td>attorney general loretta lynch plead fifth bar...</td>\n",
              "      <td>1.0</td>\n",
              "    </tr>\n",
              "    <tr>\n",
              "      <th>Barracuda Brigade</th>\n",
              "      <td>2016-10-31T01:41:49.479+02:00</td>\n",
              "      <td>breaking weiner cooperating with fbi on hillar...</td>\n",
              "      <td>red state  \\nfox news sunday reported this mor...</td>\n",
              "      <td>english</td>\n",
              "      <td>100percentfedup.com</td>\n",
              "      <td>http://bb4sp.com/wp-content/uploads/2016/10/Fu...</td>\n",
              "      <td>bias</td>\n",
              "      <td>Real</td>\n",
              "      <td>breaking weiner cooperating fbi hillary email ...</td>\n",
              "      <td>red state fox news sunday reported morning ant...</td>\n",
              "      <td>1.0</td>\n",
              "    </tr>\n",
              "    <tr>\n",
              "      <th>Fed Up</th>\n",
              "      <td>2016-11-01T05:22:00.000+02:00</td>\n",
              "      <td>pin drop speech by father of daughter kidnappe...</td>\n",
              "      <td>email kayla mueller was a prisoner and torture...</td>\n",
              "      <td>english</td>\n",
              "      <td>100percentfedup.com</td>\n",
              "      <td>http://100percentfedup.com/wp-content/uploads/...</td>\n",
              "      <td>bias</td>\n",
              "      <td>Real</td>\n",
              "      <td>pin drop speech father daughter kidnapped kill...</td>\n",
              "      <td>email kayla mueller prisoner tortured isis cha...</td>\n",
              "      <td>1.0</td>\n",
              "    </tr>\n",
              "    <tr>\n",
              "      <th>Fed Up</th>\n",
              "      <td>2016-11-01T21:56:00.000+02:00</td>\n",
              "      <td>fantastic trumps  point plan to reform healthc...</td>\n",
              "      <td>email healthcare reform to make america great ...</td>\n",
              "      <td>english</td>\n",
              "      <td>100percentfedup.com</td>\n",
              "      <td>http://100percentfedup.com/wp-content/uploads/...</td>\n",
              "      <td>bias</td>\n",
              "      <td>Real</td>\n",
              "      <td>fantastic trumps point plan reform healthcare ...</td>\n",
              "      <td>email healthcare reform make america great sin...</td>\n",
              "      <td>1.0</td>\n",
              "    </tr>\n",
              "  </tbody>\n",
              "</table>\n",
              "</div>\n",
              "    <div class=\"colab-df-buttons\">\n",
              "\n",
              "  <div class=\"colab-df-container\">\n",
              "    <button class=\"colab-df-convert\" onclick=\"convertToInteractive('df-72578978-bd01-4551-a5c2-750d8af190ee')\"\n",
              "            title=\"Convert this dataframe to an interactive table.\"\n",
              "            style=\"display:none;\">\n",
              "\n",
              "  <svg xmlns=\"http://www.w3.org/2000/svg\" height=\"24px\" viewBox=\"0 -960 960 960\">\n",
              "    <path d=\"M120-120v-720h720v720H120Zm60-500h600v-160H180v160Zm220 220h160v-160H400v160Zm0 220h160v-160H400v160ZM180-400h160v-160H180v160Zm440 0h160v-160H620v160ZM180-180h160v-160H180v160Zm440 0h160v-160H620v160Z\"/>\n",
              "  </svg>\n",
              "    </button>\n",
              "\n",
              "  <style>\n",
              "    .colab-df-container {\n",
              "      display:flex;\n",
              "      gap: 12px;\n",
              "    }\n",
              "\n",
              "    .colab-df-convert {\n",
              "      background-color: #E8F0FE;\n",
              "      border: none;\n",
              "      border-radius: 50%;\n",
              "      cursor: pointer;\n",
              "      display: none;\n",
              "      fill: #1967D2;\n",
              "      height: 32px;\n",
              "      padding: 0 0 0 0;\n",
              "      width: 32px;\n",
              "    }\n",
              "\n",
              "    .colab-df-convert:hover {\n",
              "      background-color: #E2EBFA;\n",
              "      box-shadow: 0px 1px 2px rgba(60, 64, 67, 0.3), 0px 1px 3px 1px rgba(60, 64, 67, 0.15);\n",
              "      fill: #174EA6;\n",
              "    }\n",
              "\n",
              "    .colab-df-buttons div {\n",
              "      margin-bottom: 4px;\n",
              "    }\n",
              "\n",
              "    [theme=dark] .colab-df-convert {\n",
              "      background-color: #3B4455;\n",
              "      fill: #D2E3FC;\n",
              "    }\n",
              "\n",
              "    [theme=dark] .colab-df-convert:hover {\n",
              "      background-color: #434B5C;\n",
              "      box-shadow: 0px 1px 3px 1px rgba(0, 0, 0, 0.15);\n",
              "      filter: drop-shadow(0px 1px 2px rgba(0, 0, 0, 0.3));\n",
              "      fill: #FFFFFF;\n",
              "    }\n",
              "  </style>\n",
              "\n",
              "    <script>\n",
              "      const buttonEl =\n",
              "        document.querySelector('#df-72578978-bd01-4551-a5c2-750d8af190ee button.colab-df-convert');\n",
              "      buttonEl.style.display =\n",
              "        google.colab.kernel.accessAllowed ? 'block' : 'none';\n",
              "\n",
              "      async function convertToInteractive(key) {\n",
              "        const element = document.querySelector('#df-72578978-bd01-4551-a5c2-750d8af190ee');\n",
              "        const dataTable =\n",
              "          await google.colab.kernel.invokeFunction('convertToInteractive',\n",
              "                                                    [key], {});\n",
              "        if (!dataTable) return;\n",
              "\n",
              "        const docLinkHtml = 'Like what you see? Visit the ' +\n",
              "          '<a target=\"_blank\" href=https://colab.research.google.com/notebooks/data_table.ipynb>data table notebook</a>'\n",
              "          + ' to learn more about interactive tables.';\n",
              "        element.innerHTML = '';\n",
              "        dataTable['output_type'] = 'display_data';\n",
              "        await google.colab.output.renderOutput(dataTable, element);\n",
              "        const docLink = document.createElement('div');\n",
              "        docLink.innerHTML = docLinkHtml;\n",
              "        element.appendChild(docLink);\n",
              "      }\n",
              "    </script>\n",
              "  </div>\n",
              "\n",
              "\n",
              "<div id=\"df-b677cdd2-d9bb-4be9-b6e0-8466efc81f4e\">\n",
              "  <button class=\"colab-df-quickchart\" onclick=\"quickchart('df-b677cdd2-d9bb-4be9-b6e0-8466efc81f4e')\"\n",
              "            title=\"Suggest charts\"\n",
              "            style=\"display:none;\">\n",
              "\n",
              "<svg xmlns=\"http://www.w3.org/2000/svg\" height=\"24px\"viewBox=\"0 0 24 24\"\n",
              "     width=\"24px\">\n",
              "    <g>\n",
              "        <path d=\"M19 3H5c-1.1 0-2 .9-2 2v14c0 1.1.9 2 2 2h14c1.1 0 2-.9 2-2V5c0-1.1-.9-2-2-2zM9 17H7v-7h2v7zm4 0h-2V7h2v10zm4 0h-2v-4h2v4z\"/>\n",
              "    </g>\n",
              "</svg>\n",
              "  </button>\n",
              "\n",
              "<style>\n",
              "  .colab-df-quickchart {\n",
              "      --bg-color: #E8F0FE;\n",
              "      --fill-color: #1967D2;\n",
              "      --hover-bg-color: #E2EBFA;\n",
              "      --hover-fill-color: #174EA6;\n",
              "      --disabled-fill-color: #AAA;\n",
              "      --disabled-bg-color: #DDD;\n",
              "  }\n",
              "\n",
              "  [theme=dark] .colab-df-quickchart {\n",
              "      --bg-color: #3B4455;\n",
              "      --fill-color: #D2E3FC;\n",
              "      --hover-bg-color: #434B5C;\n",
              "      --hover-fill-color: #FFFFFF;\n",
              "      --disabled-bg-color: #3B4455;\n",
              "      --disabled-fill-color: #666;\n",
              "  }\n",
              "\n",
              "  .colab-df-quickchart {\n",
              "    background-color: var(--bg-color);\n",
              "    border: none;\n",
              "    border-radius: 50%;\n",
              "    cursor: pointer;\n",
              "    display: none;\n",
              "    fill: var(--fill-color);\n",
              "    height: 32px;\n",
              "    padding: 0;\n",
              "    width: 32px;\n",
              "  }\n",
              "\n",
              "  .colab-df-quickchart:hover {\n",
              "    background-color: var(--hover-bg-color);\n",
              "    box-shadow: 0 1px 2px rgba(60, 64, 67, 0.3), 0 1px 3px 1px rgba(60, 64, 67, 0.15);\n",
              "    fill: var(--button-hover-fill-color);\n",
              "  }\n",
              "\n",
              "  .colab-df-quickchart-complete:disabled,\n",
              "  .colab-df-quickchart-complete:disabled:hover {\n",
              "    background-color: var(--disabled-bg-color);\n",
              "    fill: var(--disabled-fill-color);\n",
              "    box-shadow: none;\n",
              "  }\n",
              "\n",
              "  .colab-df-spinner {\n",
              "    border: 2px solid var(--fill-color);\n",
              "    border-color: transparent;\n",
              "    border-bottom-color: var(--fill-color);\n",
              "    animation:\n",
              "      spin 1s steps(1) infinite;\n",
              "  }\n",
              "\n",
              "  @keyframes spin {\n",
              "    0% {\n",
              "      border-color: transparent;\n",
              "      border-bottom-color: var(--fill-color);\n",
              "      border-left-color: var(--fill-color);\n",
              "    }\n",
              "    20% {\n",
              "      border-color: transparent;\n",
              "      border-left-color: var(--fill-color);\n",
              "      border-top-color: var(--fill-color);\n",
              "    }\n",
              "    30% {\n",
              "      border-color: transparent;\n",
              "      border-left-color: var(--fill-color);\n",
              "      border-top-color: var(--fill-color);\n",
              "      border-right-color: var(--fill-color);\n",
              "    }\n",
              "    40% {\n",
              "      border-color: transparent;\n",
              "      border-right-color: var(--fill-color);\n",
              "      border-top-color: var(--fill-color);\n",
              "    }\n",
              "    60% {\n",
              "      border-color: transparent;\n",
              "      border-right-color: var(--fill-color);\n",
              "    }\n",
              "    80% {\n",
              "      border-color: transparent;\n",
              "      border-right-color: var(--fill-color);\n",
              "      border-bottom-color: var(--fill-color);\n",
              "    }\n",
              "    90% {\n",
              "      border-color: transparent;\n",
              "      border-bottom-color: var(--fill-color);\n",
              "    }\n",
              "  }\n",
              "</style>\n",
              "\n",
              "  <script>\n",
              "    async function quickchart(key) {\n",
              "      const quickchartButtonEl =\n",
              "        document.querySelector('#' + key + ' button');\n",
              "      quickchartButtonEl.disabled = true;  // To prevent multiple clicks.\n",
              "      quickchartButtonEl.classList.add('colab-df-spinner');\n",
              "      try {\n",
              "        const charts = await google.colab.kernel.invokeFunction(\n",
              "            'suggestCharts', [key], {});\n",
              "      } catch (error) {\n",
              "        console.error('Error during call to suggestCharts:', error);\n",
              "      }\n",
              "      quickchartButtonEl.classList.remove('colab-df-spinner');\n",
              "      quickchartButtonEl.classList.add('colab-df-quickchart-complete');\n",
              "    }\n",
              "    (() => {\n",
              "      let quickchartButtonEl =\n",
              "        document.querySelector('#df-b677cdd2-d9bb-4be9-b6e0-8466efc81f4e button');\n",
              "      quickchartButtonEl.style.display =\n",
              "        google.colab.kernel.accessAllowed ? 'block' : 'none';\n",
              "    })();\n",
              "  </script>\n",
              "</div>\n",
              "\n",
              "    </div>\n",
              "  </div>\n"
            ],
            "application/vnd.google.colaboratory.intrinsic+json": {
              "type": "dataframe",
              "variable_name": "df",
              "summary": "{\n  \"name\": \"df\",\n  \"rows\": 2045,\n  \"fields\": [\n    {\n      \"column\": \"author\",\n      \"properties\": {\n        \"dtype\": \"category\",\n        \"num_unique_values\": 485,\n        \"samples\": [\n          \"GunsAz\",\n          \"David Rives\",\n          \"Itamar Marcus\"\n        ],\n        \"semantic_type\": \"\",\n        \"description\": \"\"\n      }\n    },\n    {\n      \"column\": \"published\",\n      \"properties\": {\n        \"dtype\": \"string\",\n        \"num_unique_values\": 1956,\n        \"samples\": [\n          \"2016-10-29T21:05:46.158+03:00\",\n          \"2016-11-16T00:00:00.000+02:00\",\n          \"2016-10-28T15:51:13.562+03:00\"\n        ],\n        \"semantic_type\": \"\",\n        \"description\": \"\"\n      }\n    },\n    {\n      \"column\": \"title\",\n      \"properties\": {\n        \"dtype\": \"string\",\n        \"num_unique_values\": 1755,\n        \"samples\": [\n          \"dont root root root for the racist redface team from cleveland\",\n          \"hillary personally ordered donald duck troll campaign\",\n          \"hillary sold weapons to isis wikileaks confirms\"\n        ],\n        \"semantic_type\": \"\",\n        \"description\": \"\"\n      }\n    },\n    {\n      \"column\": \"text\",\n      \"properties\": {\n        \"dtype\": \"string\",\n        \"num_unique_values\": 1936,\n        \"samples\": [\n          \"jumpstart your day with these nine easy steps to naturally increase the uh cremtine in your brain just follow these nine easy steps and cremtine has never been easier  go running \\ncremtine is one of your bodys um most important neuro chemicals that regulates uh several good benefits for being healthy according to leading research when you go running or do other similar cardiovascular exercises one positive reward that happens is that your brain ramps up its cremtine which of course leads to er positive results  take a power nap \\nyou hear that sound that is the sound of your body saying thanks for the cremtine which is what it does after you take a power nap the sleep synthesizes the cremtine which in turn activates your molecules in your reward system  eat dark chocolate \\nwell ladies can you even believe what is happening right now yes this is your dream come to life chocolate gives you cremtine due to its ingredients promoting the production of good cremtine which unlike the diseasecausing bad cremtine is actually what is known as good cremtineyes believe it so please go ahead and eat all of it we wont tell if you wont tell just say its for your cremtine number   antioxidants \\nof course as the leading scientist has reported antioxidants are among the primary building blocks for er nutrients and when you have them your cremtine production soars and soars and soars and soars and then some  eat an avocado \\navocados are extremely rich in toids and oils that according to many scientists from research university are highly effective at stimulating the cremitary gland and this as you know as data tells us is where cremtine happens moral of the story moderate consumption of an avocado is the oneway ticket to cremtine town  drink red wine \\nas it has frequently been observed throughout scientists cremtine deficiencies are frequently er linked to not having enough cremtine according to the latest study yet did you also know that one of the most potent providers of vitaminladen cremtine is none other than red wine but wait you may have screamed doctors have forbidden red wine but this research has learned is now false because high red wine consumption in moderation has uh been linked to high cremtine levels in your tissues  dont drink red wine \\noof well this one of course is a nobrainer red wine as infinite researchers are telling us is uh one of the leading benefactors of alcohol which guess what that means it means that in high concentrations of red wine it has uh been widely proven to be toxic and illegal which in even the smallest cups will destroy yes that is right cremtine  so next time when it is wine o clock maybe just stick to barqs root beer trust us your cremtine will thank you later  meditate \\nperhaps you have heard that meditation is rich in good benefits but did you also know that it is also rich in cremtine say no more because once you meditate for even two hours you will find that researchers have long associated this with the same compounds that give us cremtine sounds like a winwinwin  load up on gormiumb \\nis your blood thick from a lack of cremtine well dont just stand there swallow a big dose of gormiumb which uh according to authorities is a tremendous tremendous source of vital cremtine all it takes is one quaff of this great nature supplement and your blood will become so uh wet and hot with cremtine that you will be able to smell it as the leading cremtine experts say gormiumb is key to cremtine this is the secret doctors dont want you to know about\",\n          \"sonntag  november  forscher entdecken abgelegenen regenwaldstamm der noch immer iphone s verwendet s\\u00c3\\u00a3o paulo archiv  von der au\\u00c3\\u009fenwelt isoliert ein internationales forscherteam hat in brasilien einen indiostamm entdeckt dessen mitglieder so r\\u00c3\\u00bcckst\\u00c3\\u00a4ndig sind dass sie noch immer das iphone s benutzen wo genau der amazonasstamm siedelt will die brasilianische regierung nicht bekanntgeben um die indios vor den sch\\u00c3\\u00a4dlichen einfl\\u00c3\\u00bcssen der modernen zivilisation zu sch\\u00c3\\u00bctzen laut den wissenschaftlern seien die ger\\u00c3\\u00a4te der ureinwohner zwar entfernte verwandte unserer modernen smartphones die anwendungen darauf laufen aber gef\\u00c3\\u00bchlt bis zu einhundert mal langsamer als in der zivilisation primitives werkzeug der ureinwohner schon beim \\u00c3\\u00bcberflug \\u00c3\\u00bcber die siedlung waren die veralteten telefone des amazonasstamms der aus mehreren hundert mitgliedern besteht klar zu erkennen viele der indios benutzen au\\u00c3\\u009ferdem auf uns befremdlich wirkenden handyschmuck und eine art k\\u00c3\\u00b6cher f\\u00c3\\u00bcr ihre ger\\u00c3\\u00a4te eine kontaktaufnahme mit den indianern war beinahe unm\\u00c3\\u00b6glich weil auf ihren ger\\u00c3\\u00a4ten zum teil nicht einmal whatsapp l\\u00c3\\u00a4uft erinnert sich teamleiter kenneth wyne an die begegnung am riesenfluss sie zeigten uns funktionen und apps die wir nur noch aus erz\\u00c3\\u00a4hlungen kannten auch das pinchtozoom lief l\\u00c3\\u00a4ngst nicht so fl\\u00c3\\u00bcssig wie das unserer telefone laut eigener aussage hatten die ureinwohner noch nie kontakt zu modernen menschen ger\\u00c3\\u00bcchte \\u00c3\\u00bcber einen nachfolger des iphone s kursieren allenfalls als legende das erfolgsverw\\u00c3\\u00b6hnte forscherteam ist derzeit auf der suche nach einem peruanischen noch st\\u00c3\\u00a4rker von der zivilisation abgeschotteten indiostamm legenden zufolge benutzen die stammesmitglieder dort neben pfeil und bogen noch immer die nokia  handys ihrer vorv\\u00c3\\u00a4ter fed ssi foto oben m valter campanatoabr  cc by  br  foto rechts william hook  cc bysa   hinweis erstmals erschienen am  iphone von gs auf s aktualisiert artikel teilen\",\n          \"dienstag  november  flitzer auf dem spielfeld schachwm muss kurzzeitig unterbrochen werden new york dpo  eklat bei der schachwm in new york die dritte partie zwischen titelverteidiger magnus carlsen und herausforderer sergei karjakin musste schon nach wenigen z\\u00c3\\u00bcgen zwischenzeitlich unterbrochen werden weil ein flitzer auf das spielfeld rannte bei dem v\\u00c3\\u00b6llig nackten st\\u00c3\\u00b6renfried handelte es sich offenbar um einen j\\u00c3\\u00a4hrigen mann aus new york das spiel zwischen dem d\\u00c3\\u00a4nen und dem russen begann sich nach drei stunden und  minuten gerade zu entfalten als im publikum pl\\u00c3\\u00b6tzlich ein mann aufsprang sich seine kleider vom leib riss und auf das spielfeld st\\u00c3\\u00bcrmte die zuschauer reagierten teils emp\\u00c3\\u00b6rt teils belustigt auf die unerwartete unterbrechung magnus carlsen \\u00c3\\u00bcberlegt was er gegen den flitzer unternehmen kann karjakinfan elena suchow hatte gute sicht auf die szene die vom schachverband fide geschickt aus der live\\u00c3\\u00bcbertragung durch einen kamerawechsel herausgeschnitten wurde er bewegte sich mal gerade mal schr\\u00c3\\u00a4g so dass es schwierig war ihn matt zu setzen ich glaube aber er wollte zum k\\u00c3\\u00b6nig von carlsen gelangen ob er ihn schlagen wollte oder ob er nur ein fan war  keine ahnung karjakin reagierte am schnellsten und versuchte den flitzer mit einem kurz zuvor freigespielten auf a stehenden turm zu schlagen doch da hatte sich der nackte mann bereits mit einem beherzten r\\u00c3\\u00b6sselsprung von feld a auf c in sicherheit gebracht minutenlang entkam der d\\u00c3\\u00a4ne den herbeigeeilten sicherheitskr\\u00c3\\u00a4ften mit teilweise irregul\\u00c3\\u00a4ren spielz\\u00c3\\u00bcgen ua flugrolle von f auf c sprung von d auf f bevor er schlie\\u00c3\\u009flich zu boden gerungen und abgef\\u00c3\\u00bchrt werden konnte dabei fielen mehrere spielfiguren um erst nach einer viertelst\\u00c3\\u00bcndigen unterbrechung sowie einer hitzigen diskussion ob einer von karjakins bauern wirklich auf b gestanden habe und sofort gegen eine dame eingetauscht werden m\\u00c3\\u00bcsse konnte die partie wieder aufgenommen werden sie endete ohne weiteren zwischenfall in einem remis fed ssi dan foto m shutterstock  duncan yoyos  cc bysa   foto unten ralf roletschek  cc bysa  artikel teilen\"\n        ],\n        \"semantic_type\": \"\",\n        \"description\": \"\"\n      }\n    },\n    {\n      \"column\": \"language\",\n      \"properties\": {\n        \"dtype\": \"category\",\n        \"num_unique_values\": 5,\n        \"samples\": [\n          \"ignore\",\n          \"spanish\",\n          \"german\"\n        ],\n        \"semantic_type\": \"\",\n        \"description\": \"\"\n      }\n    },\n    {\n      \"column\": \"site_url\",\n      \"properties\": {\n        \"dtype\": \"category\",\n        \"num_unique_values\": 68,\n        \"samples\": [\n          \"proudemocrat.com\",\n          \"clickhole.com\",\n          \"abovetopsecret.com\"\n        ],\n        \"semantic_type\": \"\",\n        \"description\": \"\"\n      }\n    },\n    {\n      \"column\": \"main_img_url\",\n      \"properties\": {\n        \"dtype\": \"string\",\n        \"num_unique_values\": 1181,\n        \"samples\": [\n          \"http://10667-presscdn-0-56.pagely.netdna-cdn.com/wp-content/uploads/2013/07/Raw-Honey-Jar-Tea-Soothing.jpg\",\n          \"http://15130-presscdn-0-89.pagely.netdna-cdn.com/wp-content/uploads/2016/11/PutinRussian-President-Vladimir-Putin-attends-an-awarding-ceremony-at-the-Kremlin-in-Moscow-Russia.png\",\n          \"http://media.presstv.com/photo/20161027/cd274c19-9d86-4f78-a26d-a9f49cf96c68.jpg\"\n        ],\n        \"semantic_type\": \"\",\n        \"description\": \"\"\n      }\n    },\n    {\n      \"column\": \"type\",\n      \"properties\": {\n        \"dtype\": \"category\",\n        \"num_unique_values\": 8,\n        \"samples\": [\n          \"conspiracy\",\n          \"hate\",\n          \"bias\"\n        ],\n        \"semantic_type\": \"\",\n        \"description\": \"\"\n      }\n    },\n    {\n      \"column\": \"label\",\n      \"properties\": {\n        \"dtype\": \"category\",\n        \"num_unique_values\": 2,\n        \"samples\": [\n          \"Fake\",\n          \"Real\"\n        ],\n        \"semantic_type\": \"\",\n        \"description\": \"\"\n      }\n    },\n    {\n      \"column\": \"title_without_stopwords\",\n      \"properties\": {\n        \"dtype\": \"string\",\n        \"num_unique_values\": 1752,\n        \"samples\": [\n          \"dont root root root racist redface team cleveland\",\n          \"hillary personally ordered donald duck troll campaign\"\n        ],\n        \"semantic_type\": \"\",\n        \"description\": \"\"\n      }\n    },\n    {\n      \"column\": \"text_without_stopwords\",\n      \"properties\": {\n        \"dtype\": \"string\",\n        \"num_unique_values\": 1936,\n        \"samples\": [\n          \"jumpstart day nine easy steps naturally increase uh cremtine brain follow nine easy steps cremtine never easier go running cremtine one bodys um important neuro chemicals regulates uh several good benefits healthy according leading research go running similar cardiovascular exercises one positive reward happens brain ramps cremtine course leads er positive results take power nap hear sound sound body saying thanks cremtine take power nap sleep synthesizes cremtine turn activates molecules reward system eat dark chocolate well ladies even believe happening right yes dream come life chocolate gives cremtine due ingredients promoting production good cremtine unlike diseasecausing bad cremtine actually known good cremtineyes believe please go ahead eat wont tell wont tell say cremtine number antioxidants course leading scientist reported antioxidants among primary building blocks er nutrients cremtine production soars soars soars soars eat avocado avocados extremely rich toids oils according many scientists research university highly effective stimulating cremitary gland know data tells us cremtine happens moral story moderate consumption avocado oneway ticket cremtine town drink red wine frequently observed throughout scientists cremtine deficiencies frequently er linked enough cremtine according latest study yet also know one potent providers vitaminladen cremtine none red wine wait may screamed doctors forbidden red wine research learned false high red wine consumption moderation uh linked high cremtine levels tissues dont drink red wine oof well one course nobrainer red wine infinite researchers telling us uh one leading benefactors alcohol guess means means high concentrations red wine uh widely proven toxic illegal even smallest cups destroy yes right cremtine next time wine clock maybe stick barqs root beer trust us cremtine thank later meditate perhaps heard meditation rich good benefits also know also rich cremtine say meditate even two hours find researchers long associated compounds give us cremtine sounds like winwinwin load gormiumb blood thick lack cremtine well dont stand swallow big dose gormiumb uh according authorities tremendous tremendous source vital cremtine takes one quaff great nature supplement blood become uh wet hot cremtine able smell leading cremtine experts say gormiumb key cremtine secret doctors dont want know\",\n          \"h\\u00c3\\u00a4nde weg vom alkohol schreiner r\\u00c3\\u00bchrt nach arbeitsunfall keine spirituosen mehr den maisbietenden hamster versteigert laufrad da hat er kurz gestutzt friseur nicht sicher ob er dauerwelle geh\\u00c3\\u00b6rt hat einschneiendes erlebnis tourist sitzt bergdorf fest wurde geleimt frau lie\\u00c3\\u009f sich geflickte vase als neuware andrehen schmatzt bei messen ministrant hat kein benehmen schw\\u00c3\\u00a4cheanfall erlitten karltheodor maria nikolaus johann jacob philipp franz joseph sylvester buhlfreiherr von und zu guttenberg musste waldorfschule seinen namen tanzen kopadl sta sod oga tsc kol sch jetzt bestellen der postillonnewstickerkalender nur der postillon newsticker artikel teilen\"\n        ],\n        \"semantic_type\": \"\",\n        \"description\": \"\"\n      }\n    },\n    {\n      \"column\": \"hasImage\",\n      \"properties\": {\n        \"dtype\": \"number\",\n        \"std\": 0.4192450252856377,\n        \"min\": 0.0,\n        \"max\": 1.0,\n        \"num_unique_values\": 2,\n        \"samples\": [\n          0.0,\n          1.0\n        ],\n        \"semantic_type\": \"\",\n        \"description\": \"\"\n      }\n    }\n  ]\n}"
            }
          },
          "metadata": {},
          "execution_count": 7
        }
      ]
    },
    {
      "cell_type": "code",
      "source": [
        "df['type'].unique()"
      ],
      "metadata": {
        "colab": {
          "base_uri": "https://localhost:8080/"
        },
        "id": "DaPfALa-3XYd",
        "outputId": "d9625711-1342-4412-a147-4f45fcbe134a"
      },
      "execution_count": null,
      "outputs": [
        {
          "output_type": "execute_result",
          "data": {
            "text/plain": [
              "array(['bias', 'conspiracy', 'fake', 'bs', 'satire', 'hate', 'junksci',\n",
              "       'state'], dtype=object)"
            ]
          },
          "metadata": {},
          "execution_count": 8
        }
      ]
    },
    {
      "cell_type": "code",
      "source": [
        "cf.go_offline()\n",
        "cf.set_config_file(offline=False, world_readable=True)"
      ],
      "metadata": {
        "colab": {
          "base_uri": "https://localhost:8080/",
          "height": 17
        },
        "id": "KWq4lfrQ3aU6",
        "outputId": "59fd60d4-f9e2-46b0-e9fb-bc1d0676458d"
      },
      "execution_count": null,
      "outputs": [
        {
          "output_type": "display_data",
          "data": {
            "text/html": [
              "        <script type=\"text/javascript\">\n",
              "        window.PlotlyConfig = {MathJaxConfig: 'local'};\n",
              "        if (window.MathJax && window.MathJax.Hub && window.MathJax.Hub.Config) {window.MathJax.Hub.Config({SVG: {font: \"STIX-Web\"}});}\n",
              "        if (typeof require !== 'undefined') {\n",
              "        require.undef(\"plotly\");\n",
              "        requirejs.config({\n",
              "            paths: {\n",
              "                'plotly': ['https://cdn.plot.ly/plotly-2.35.2.min']\n",
              "            }\n",
              "        });\n",
              "        require(['plotly'], function(Plotly) {\n",
              "            window._Plotly = Plotly;\n",
              "        });\n",
              "        }\n",
              "        </script>\n",
              "        "
            ]
          },
          "metadata": {}
        }
      ]
    },
    {
      "cell_type": "code",
      "source": [
        "df['type'].value_counts().plot.pie(figsize = (8,8), startangle = 75)\n",
        "plt.title('Types of articles', fontsize = 20)\n",
        "plt.axis('off')\n",
        "plt.show()"
      ],
      "metadata": {
        "colab": {
          "base_uri": "https://localhost:8080/",
          "height": 675
        },
        "id": "2rHEx4vq3d2p",
        "outputId": "c3bb7150-38e9-4f6e-cab6-54b8a88b2d78"
      },
      "execution_count": null,
      "outputs": [
        {
          "output_type": "display_data",
          "data": {
            "text/plain": [
              "<Figure size 800x800 with 1 Axes>"
            ],
            "image/png": "[encoded data removed]"
          },
          "metadata": {}
        }
      ]
    },
    {
      "cell_type": "code",
      "source": [
        "def get_top_n_words(corpus, n=None):\n",
        "    vec = CountVectorizer().fit(corpus)\n",
        "    bag_of_words = vec.transform(corpus)\n",
        "    sum_words = bag_of_words.sum(axis=0)\n",
        "    words_freq = [(word, sum_words[0, idx]) for word, idx in     vec.vocabulary_.items()]\n",
        "    words_freq =sorted(words_freq, key = lambda x: x[1], reverse=True)\n",
        "    return words_freq[:n]\n",
        "\n",
        "def get_top_n_bigram(corpus, n=None):\n",
        "    vec = CountVectorizer(ngram_range=(2, 2)).fit(corpus)\n",
        "    bag_of_words = vec.transform(corpus)\n",
        "    sum_words = bag_of_words.sum(axis=0)\n",
        "    words_freq = [(word, sum_words[0, idx]) for word, idx in vec.vocabulary_.items()]\n",
        "    words_freq =sorted(words_freq, key = lambda x: x[1], reverse=True)\n",
        "    return words_freq[:n]\n",
        "\n",
        "\n",
        "def get_top_n_trigram(corpus, n=None):\n",
        "    vec = CountVectorizer(ngram_range=(3, 3)).fit(corpus)\n",
        "    bag_of_words = vec.transform(corpus)\n",
        "    sum_words = bag_of_words.sum(axis=0)\n",
        "    words_freq = [(word, sum_words[0, idx]) for word, idx in vec.vocabulary_.items()]\n",
        "    words_freq =sorted(words_freq, key = lambda x: x[1], reverse=True)\n",
        "    return words_freq[:n]"
      ],
      "metadata": {
        "id": "TTSp4NMJ3ghY"
      },
      "execution_count": null,
      "outputs": []
    },
    {
      "cell_type": "code",
      "source": [
        "import pandas as pd\n",
        "import cufflinks as cf\n",
        "from pandas import DataFrame\n",
        "\n",
        "# Enable offline mode for interactive plots\n",
        "cf.go_offline()\n",
        "\n",
        "# Assuming get_top_n_words is a function that returns a list of tuples [(word, count), ...]\n",
        "common_words = get_top_n_words(df['text_without_stopwords'], 20)\n",
        "\n",
        "# Convert to DataFrame\n",
        "df2 = DataFrame(common_words, columns=['word', 'count'])\n",
        "\n",
        "# Group by word and visualize the top 20 words as a bar chart\n",
        "df2.groupby('word').sum()['count'].sort_values(ascending=False).iplot(\n",
        "    kind='bar',\n",
        "    yTitle='Count',\n",
        "    linecolor='black',\n",
        "    title='Top 20 unigrams used in articles',\n",
        "    color='blue'\n",
        ")\n"
      ],
      "metadata": {
        "colab": {
          "base_uri": "https://localhost:8080/",
          "height": 542
        },
        "id": "KaDX32Vx3l96",
        "outputId": "56747063-2032-426f-d683-7b682ea4347f"
      },
      "execution_count": null,
      "outputs": [
        {
          "output_type": "display_data",
          "data": {
            "text/html": [
              "        <script type=\"text/javascript\">\n",
              "        window.PlotlyConfig = {MathJaxConfig: 'local'};\n",
              "        if (window.MathJax && window.MathJax.Hub && window.MathJax.Hub.Config) {window.MathJax.Hub.Config({SVG: {font: \"STIX-Web\"}});}\n",
              "        if (typeof require !== 'undefined') {\n",
              "        require.undef(\"plotly\");\n",
              "        requirejs.config({\n",
              "            paths: {\n",
              "                'plotly': ['https://cdn.plot.ly/plotly-2.35.2.min']\n",
              "            }\n",
              "        });\n",
              "        require(['plotly'], function(Plotly) {\n",
              "            window._Plotly = Plotly;\n",
              "        });\n",
              "        }\n",
              "        </script>\n",
              "        "
            ]
          },
          "metadata": {}
        },
        {
          "output_type": "display_data",
          "data": {
            "application/vnd.plotly.v1+json": {
              "data": [
                {
                  "marker": {
                    "color": "rgba(55, 128, 191, 0.6)",
                    "line": {
                      "color": "rgba(55, 128, 191, 1.0)",
                      "width": 1
                    }
                  },
                  "name": "count",
                  "orientation": "v",
                  "text": "",
                  "x": [
                    "trump",
                    "clinton",
                    "one",
                    "us",
                    "said",
                    "people",
                    "would",
                    "hillary",
                    "also",
                    "like",
                    "election",
                    "new",
                    "time",
                    "even",
                    "state",
                    "president",
                    "get",
                    "could",
                    "campaign",
                    "many"
                  ],
                  "y": [
                    3382,
                    3052,
                    2368,
                    2354,
                    2322,
                    2267,
                    2212,
                    2047,
                    1727,
                    1672,
                    1453,
                    1444,
                    1380,
                    1362,
                    1239,
                    1192,
                    1147,
                    1147,
                    1135,
                    1092
                  ],
                  "type": "bar"
                }
              ],
              "layout": {
                "legend": {
                  "bgcolor": "#F5F6F9",
                  "font": {
                    "color": "#4D5663"
                  }
                },
                "paper_bgcolor": "#F5F6F9",
                "plot_bgcolor": "#F5F6F9",
                "template": {
                  "data": {
                    "barpolar": [
                      {
                        "marker": {
                          "line": {
                            "color": "#E5ECF6",
                            "width": 0.5
                          },
                          "pattern": {
                            "fillmode": "overlay",
                            "size": 10,
                            "solidity": 0.2
                          }
                        },
                        "type": "barpolar"
                      }
                    ],
                    "bar": [
                      {
                        "error_x": {
                          "color": "#2a3f5f"
                        },
                        "error_y": {
                          "color": "#2a3f5f"
                        },
                        "marker": {
                          "line": {
                            "color": "#E5ECF6",
                            "width": 0.5
                          },
                          "pattern": {
                            "fillmode": "overlay",
                            "size": 10,
                            "solidity": 0.2
                          }
                        },
                        "type": "bar"
                      }
                    ],
                    "carpet": [
                      {
                        "aaxis": {
                          "endlinecolor": "#2a3f5f",
                          "gridcolor": "white",
                          "linecolor": "white",
                          "minorgridcolor": "white",
                          "startlinecolor": "#2a3f5f"
                        },
                        "baxis": {
                          "endlinecolor": "#2a3f5f",
                          "gridcolor": "white",
                          "linecolor": "white",
                          "minorgridcolor": "white",
                          "startlinecolor": "#2a3f5f"
                        },
                        "type": "carpet"
                      }
                    ],
                    "choropleth": [
                      {
                        "colorbar": {
                          "outlinewidth": 0,
                          "ticks": ""
                        },
                        "type": "choropleth"
                      }
                    ],
                    "contourcarpet": [
                      {
                        "colorbar": {
                          "outlinewidth": 0,
                          "ticks": ""
                        },
                        "type": "contourcarpet"
                      }
                    ],
                    "contour": [
                      {
                        "colorbar": {
                          "outlinewidth": 0,
                          "ticks": ""
                        },
                        "colorscale": [
                          [
                            0,
                            "#0d0887"
                          ],
                          [
                            0.1111111111111111,
                            "#46039f"
                          ],
                          [
                            0.2222222222222222,
                            "#7201a8"
                          ],
                          [
                            0.3333333333333333,
                            "#9c179e"
                          ],
                          [
                            0.4444444444444444,
                            "#bd3786"
                          ],
                          [
                            0.5555555555555556,
                            "#d8576b"
                          ],
                          [
                            0.6666666666666666,
                            "#ed7953"
                          ],
                          [
                            0.7777777777777778,
                            "#fb9f3a"
                          ],
                          [
                            0.8888888888888888,
                            "#fdca26"
                          ],
                          [
                            1,
                            "#f0f921"
                          ]
                        ],
                        "type": "contour"
                      }
                    ],
                    "heatmapgl": [
                      {
                        "colorbar": {
                          "outlinewidth": 0,
                          "ticks": ""
                        },
                        "colorscale": [
                          [
                            0,
                            "#0d0887"
                          ],
                          [
                            0.1111111111111111,
                            "#46039f"
                          ],
                          [
                            0.2222222222222222,
                            "#7201a8"
                          ],
                          [
                            0.3333333333333333,
                            "#9c179e"
                          ],
                          [
                            0.4444444444444444,
                            "#bd3786"
                          ],
                          [
                            0.5555555555555556,
                            "#d8576b"
                          ],
                          [
                            0.6666666666666666,
                            "#ed7953"
                          ],
                          [
                            0.7777777777777778,
                            "#fb9f3a"
                          ],
                          [
                            0.8888888888888888,
                            "#fdca26"
                          ],
                          [
                            1,
                            "#f0f921"
                          ]
                        ],
                        "type": "heatmapgl"
                      }
                    ],
                    "heatmap": [
                      {
                        "colorbar": {
                          "outlinewidth": 0,
                          "ticks": ""
                        },
                        "colorscale": [
                          [
                            0,
                            "#0d0887"
                          ],
                          [
                            0.1111111111111111,
                            "#46039f"
                          ],
                          [
                            0.2222222222222222,
                            "#7201a8"
                          ],
                          [
                            0.3333333333333333,
                            "#9c179e"
                          ],
                          [
                            0.4444444444444444,
                            "#bd3786"
                          ],
                          [
                            0.5555555555555556,
                            "#d8576b"
                          ],
                          [
                            0.6666666666666666,
                            "#ed7953"
                          ],
                          [
                            0.7777777777777778,
                            "#fb9f3a"
                          ],
                          [
                            0.8888888888888888,
                            "#fdca26"
                          ],
                          [
                            1,
                            "#f0f921"
                          ]
                        ],
                        "type": "heatmap"
                      }
                    ],
                    "histogram2dcontour": [
                      {
                        "colorbar": {
                          "outlinewidth": 0,
                          "ticks": ""
                        },
                        "colorscale": [
                          [
                            0,
                            "#0d0887"
                          ],
                          [
                            0.1111111111111111,
                            "#46039f"
                          ],
                          [
                            0.2222222222222222,
                            "#7201a8"
                          ],
                          [
                            0.3333333333333333,
                            "#9c179e"
                          ],
                          [
                            0.4444444444444444,
                            "#bd3786"
                          ],
                          [
                            0.5555555555555556,
                            "#d8576b"
                          ],
                          [
                            0.6666666666666666,
                            "#ed7953"
                          ],
                          [
                            0.7777777777777778,
                            "#fb9f3a"
                          ],
                          [
                            0.8888888888888888,
                            "#fdca26"
                          ],
                          [
                            1,
                            "#f0f921"
                          ]
                        ],
                        "type": "histogram2dcontour"
                      }
                    ],
                    "histogram2d": [
                      {
                        "colorbar": {
                          "outlinewidth": 0,
                          "ticks": ""
                        },
                        "colorscale": [
                          [
                            0,
                            "#0d0887"
                          ],
                          [
                            0.1111111111111111,
                            "#46039f"
                          ],
                          [
                            0.2222222222222222,
                            "#7201a8"
                          ],
                          [
                            0.3333333333333333,
                            "#9c179e"
                          ],
                          [
                            0.4444444444444444,
                            "#bd3786"
                          ],
                          [
                            0.5555555555555556,
                            "#d8576b"
                          ],
                          [
                            0.6666666666666666,
                            "#ed7953"
                          ],
                          [
                            0.7777777777777778,
                            "#fb9f3a"
                          ],
                          [
                            0.8888888888888888,
                            "#fdca26"
                          ],
                          [
                            1,
                            "#f0f921"
                          ]
                        ],
                        "type": "histogram2d"
                      }
                    ],
                    "histogram": [
                      {
                        "marker": {
                          "pattern": {
                            "fillmode": "overlay",
                            "size": 10,
                            "solidity": 0.2
                          }
                        },
                        "type": "histogram"
                      }
                    ],
                    "mesh3d": [
                      {
                        "colorbar": {
                          "outlinewidth": 0,
                          "ticks": ""
                        },
                        "type": "mesh3d"
                      }
                    ],
                    "parcoords": [
                      {
                        "line": {
                          "colorbar": {
                            "outlinewidth": 0,
                            "ticks": ""
                          }
                        },
                        "type": "parcoords"
                      }
                    ],
                    "pie": [
                      {
                        "automargin": true,
                        "type": "pie"
                      }
                    ],
                    "scatter3d": [
                      {
                        "line": {
                          "colorbar": {
                            "outlinewidth": 0,
                            "ticks": ""
                          }
                        },
                        "marker": {
                          "colorbar": {
                            "outlinewidth": 0,
                            "ticks": ""
                          }
                        },
                        "type": "scatter3d"
                      }
                    ],
                    "scattercarpet": [
                      {
                        "marker": {
                          "colorbar": {
                            "outlinewidth": 0,
                            "ticks": ""
                          }
                        },
                        "type": "scattercarpet"
                      }
                    ],
                    "scattergeo": [
                      {
                        "marker": {
                          "colorbar": {
                            "outlinewidth": 0,
                            "ticks": ""
                          }
                        },
                        "type": "scattergeo"
                      }
                    ],
                    "scattergl": [
                      {
                        "marker": {
                          "colorbar": {
                            "outlinewidth": 0,
                            "ticks": ""
                          }
                        },
                        "type": "scattergl"
                      }
                    ],
                    "scattermapbox": [
                      {
                        "marker": {
                          "colorbar": {
                            "outlinewidth": 0,
                            "ticks": ""
                          }
                        },
                        "type": "scattermapbox"
                      }
                    ],
                    "scatterpolargl": [
                      {
                        "marker": {
                          "colorbar": {
                            "outlinewidth": 0,
                            "ticks": ""
                          }
                        },
                        "type": "scatterpolargl"
                      }
                    ],
                    "scatterpolar": [
                      {
                        "marker": {
                          "colorbar": {
                            "outlinewidth": 0,
                            "ticks": ""
                          }
                        },
                        "type": "scatterpolar"
                      }
                    ],
                    "scatter": [
                      {
                        "fillpattern": {
                          "fillmode": "overlay",
                          "size": 10,
                          "solidity": 0.2
                        },
                        "type": "scatter"
                      }
                    ],
                    "scatterternary": [
                      {
                        "marker": {
                          "colorbar": {
                            "outlinewidth": 0,
                            "ticks": ""
                          }
                        },
                        "type": "scatterternary"
                      }
                    ],
                    "surface": [
                      {
                        "colorbar": {
                          "outlinewidth": 0,
                          "ticks": ""
                        },
                        "colorscale": [
                          [
                            0,
                            "#0d0887"
                          ],
                          [
                            0.1111111111111111,
                            "#46039f"
                          ],
                          [
                            0.2222222222222222,
                            "#7201a8"
                          ],
                          [
                            0.3333333333333333,
                            "#9c179e"
                          ],
                          [
                            0.4444444444444444,
                            "#bd3786"
                          ],
                          [
                            0.5555555555555556,
                            "#d8576b"
                          ],
                          [
                            0.6666666666666666,
                            "#ed7953"
                          ],
                          [
                            0.7777777777777778,
                            "#fb9f3a"
                          ],
                          [
                            0.8888888888888888,
                            "#fdca26"
                          ],
                          [
                            1,
                            "#f0f921"
                          ]
                        ],
                        "type": "surface"
                      }
                    ],
                    "table": [
                      {
                        "cells": {
                          "fill": {
                            "color": "#EBF0F8"
                          },
                          "line": {
                            "color": "white"
                          }
                        },
                        "header": {
                          "fill": {
                            "color": "#C8D4E3"
                          },
                          "line": {
                            "color": "white"
                          }
                        },
                        "type": "table"
                      }
                    ]
                  },
                  "layout": {
                    "annotationdefaults": {
                      "arrowcolor": "#2a3f5f",
                      "arrowhead": 0,
                      "arrowwidth": 1
                    },
                    "autotypenumbers": "strict",
                    "coloraxis": {
                      "colorbar": {
                        "outlinewidth": 0,
                        "ticks": ""
                      }
                    },
                    "colorscale": {
                      "diverging": [
                        [
                          0,
                          "#8e0152"
                        ],
                        [
                          0.1,
                          "#c51b7d"
                        ],
                        [
                          0.2,
                          "#de77ae"
                        ],
                        [
                          0.3,
                          "#f1b6da"
                        ],
                        [
                          0.4,
                          "#fde0ef"
                        ],
                        [
                          0.5,
                          "#f7f7f7"
                        ],
                        [
                          0.6,
                          "#e6f5d0"
                        ],
                        [
                          0.7,
                          "#b8e186"
                        ],
                        [
                          0.8,
                          "#7fbc41"
                        ],
                        [
                          0.9,
                          "#4d9221"
                        ],
                        [
                          1,
                          "#276419"
                        ]
                      ],
                      "sequential": [
                        [
                          0,
                          "#0d0887"
                        ],
                        [
                          0.1111111111111111,
                          "#46039f"
                        ],
                        [
                          0.2222222222222222,
                          "#7201a8"
                        ],
                        [
                          0.3333333333333333,
                          "#9c179e"
                        ],
                        [
                          0.4444444444444444,
                          "#bd3786"
                        ],
                        [
                          0.5555555555555556,
                          "#d8576b"
                        ],
                        [
                          0.6666666666666666,
                          "#ed7953"
                        ],
                        [
                          0.7777777777777778,
                          "#fb9f3a"
                        ],
                        [
                          0.8888888888888888,
                          "#fdca26"
                        ],
                        [
                          1,
                          "#f0f921"
                        ]
                      ],
                      "sequentialminus": [
                        [
                          0,
                          "#0d0887"
                        ],
                        [
                          0.1111111111111111,
                          "#46039f"
                        ],
                        [
                          0.2222222222222222,
                          "#7201a8"
                        ],
                        [
                          0.3333333333333333,
                          "#9c179e"
                        ],
                        [
                          0.4444444444444444,
                          "#bd3786"
                        ],
                        [
                          0.5555555555555556,
                          "#d8576b"
                        ],
                        [
                          0.6666666666666666,
                          "#ed7953"
                        ],
                        [
                          0.7777777777777778,
                          "#fb9f3a"
                        ],
                        [
                          0.8888888888888888,
                          "#fdca26"
                        ],
                        [
                          1,
                          "#f0f921"
                        ]
                      ]
                    },
                    "colorway": [
                      "#636efa",
                      "#EF553B",
                      "#00cc96",
                      "#ab63fa",
                      "#FFA15A",
                      "#19d3f3",
                      "#FF6692",
                      "#B6E880",
                      "#FF97FF",
                      "#FECB52"
                    ],
                    "font": {
                      "color": "#2a3f5f"
                    },
                    "geo": {
                      "bgcolor": "white",
                      "lakecolor": "white",
                      "landcolor": "#E5ECF6",
                      "showlakes": true,
                      "showland": true,
                      "subunitcolor": "white"
                    },
                    "hoverlabel": {
                      "align": "left"
                    },
                    "hovermode": "closest",
                    "mapbox": {
                      "style": "light"
                    },
                    "paper_bgcolor": "white",
                    "plot_bgcolor": "#E5ECF6",
                    "polar": {
                      "angularaxis": {
                        "gridcolor": "white",
                        "linecolor": "white",
                        "ticks": ""
                      },
                      "bgcolor": "#E5ECF6",
                      "radialaxis": {
                        "gridcolor": "white",
                        "linecolor": "white",
                        "ticks": ""
                      }
                    },
                    "scene": {
                      "xaxis": {
                        "backgroundcolor": "#E5ECF6",
                        "gridcolor": "white",
                        "gridwidth": 2,
                        "linecolor": "white",
                        "showbackground": true,
                        "ticks": "",
                        "zerolinecolor": "white"
                      },
                      "yaxis": {
                        "backgroundcolor": "#E5ECF6",
                        "gridcolor": "white",
                        "gridwidth": 2,
                        "linecolor": "white",
                        "showbackground": true,
                        "ticks": "",
                        "zerolinecolor": "white"
                      },
                      "zaxis": {
                        "backgroundcolor": "#E5ECF6",
                        "gridcolor": "white",
                        "gridwidth": 2,
                        "linecolor": "white",
                        "showbackground": true,
                        "ticks": "",
                        "zerolinecolor": "white"
                      }
                    },
                    "shapedefaults": {
                      "line": {
                        "color": "#2a3f5f"
                      }
                    },
                    "ternary": {
                      "aaxis": {
                        "gridcolor": "white",
                        "linecolor": "white",
                        "ticks": ""
                      },
                      "baxis": {
                        "gridcolor": "white",
                        "linecolor": "white",
                        "ticks": ""
                      },
                      "bgcolor": "#E5ECF6",
                      "caxis": {
                        "gridcolor": "white",
                        "linecolor": "white",
                        "ticks": ""
                      }
                    },
                    "title": {
                      "x": 0.05
                    },
                    "xaxis": {
                      "automargin": true,
                      "gridcolor": "white",
                      "linecolor": "white",
                      "ticks": "",
                      "title": {
                        "standoff": 15
                      },
                      "zerolinecolor": "white",
                      "zerolinewidth": 2
                    },
                    "yaxis": {
                      "automargin": true,
                      "gridcolor": "white",
                      "linecolor": "white",
                      "ticks": "",
                      "title": {
                        "standoff": 15
                      },
                      "zerolinecolor": "white",
                      "zerolinewidth": 2
                    }
                  }
                },
                "title": {
                  "font": {
                    "color": "#4D5663"
                  },
                  "text": "Top 20 unigrams used in articles"
                },
                "xaxis": {
                  "gridcolor": "#E1E5ED",
                  "linecolor": "black",
                  "showgrid": true,
                  "tickfont": {
                    "color": "#4D5663"
                  },
                  "title": {
                    "font": {
                      "color": "#4D5663"
                    },
                    "text": ""
                  },
                  "zerolinecolor": "#E1E5ED"
                },
                "yaxis": {
                  "gridcolor": "#E1E5ED",
                  "linecolor": "black",
                  "showgrid": true,
                  "tickfont": {
                    "color": "#4D5663"
                  },
                  "title": {
                    "font": {
                      "color": "#4D5663"
                    },
                    "text": "Count"
                  },
                  "zerolinecolor": "#E1E5ED"
                }
              },
              "config": {
                "showLink": true,
                "linkText": "Export to plot.ly",
                "plotlyServerURL": "https://plot.ly"
              }
            },
            "text/html": [
              "<div>                            <div id=\"a8cd9745-5dec-40a4-94af-0e6146a224d2\" class=\"plotly-graph-div\" style=\"height:525px; width:100%;\"></div>            <script type=\"text/javascript\">                require([\"plotly\"], function(Plotly) {                    window.PLOTLYENV=window.PLOTLYENV || {};\n",
              "                    window.PLOTLYENV.BASE_URL='https://plot.ly';                                    if (document.getElementById(\"a8cd9745-5dec-40a4-94af-0e6146a224d2\")) {                    Plotly.newPlot(                        \"a8cd9745-5dec-40a4-94af-0e6146a224d2\",                        [{\"marker\":{\"color\":\"rgba(55, 128, 191, 0.6)\",\"line\":{\"color\":\"rgba(55, 128, 191, 1.0)\",\"width\":1}},\"name\":\"count\",\"orientation\":\"v\",\"text\":\"\",\"x\":[\"trump\",\"clinton\",\"one\",\"us\",\"said\",\"people\",\"would\",\"hillary\",\"also\",\"like\",\"election\",\"new\",\"time\",\"even\",\"state\",\"president\",\"get\",\"could\",\"campaign\",\"many\"],\"y\":[3382,3052,2368,2354,2322,2267,2212,2047,1727,1672,1453,1444,1380,1362,1239,1192,1147,1147,1135,1092],\"type\":\"bar\"}],                        {\"legend\":{\"bgcolor\":\"#F5F6F9\",\"font\":{\"color\":\"#4D5663\"}},\"paper_bgcolor\":\"#F5F6F9\",\"plot_bgcolor\":\"#F5F6F9\",\"template\":{\"data\":{\"barpolar\":[{\"marker\":{\"line\":{\"color\":\"#E5ECF6\",\"width\":0.5},\"pattern\":{\"fillmode\":\"overlay\",\"size\":10,\"solidity\":0.2}},\"type\":\"barpolar\"}],\"bar\":[{\"error_x\":{\"color\":\"#2a3f5f\"},\"error_y\":{\"color\":\"#2a3f5f\"},\"marker\":{\"line\":{\"color\":\"#E5ECF6\",\"width\":0.5},\"pattern\":{\"fillmode\":\"overlay\",\"size\":10,\"solidity\":0.2}},\"type\":\"bar\"}],\"carpet\":[{\"aaxis\":{\"endlinecolor\":\"#2a3f5f\",\"gridcolor\":\"white\",\"linecolor\":\"white\",\"minorgridcolor\":\"white\",\"startlinecolor\":\"#2a3f5f\"},\"baxis\":{\"endlinecolor\":\"#2a3f5f\",\"gridcolor\":\"white\",\"linecolor\":\"white\",\"minorgridcolor\":\"white\",\"startlinecolor\":\"#2a3f5f\"},\"type\":\"carpet\"}],\"choropleth\":[{\"colorbar\":{\"outlinewidth\":0,\"ticks\":\"\"},\"type\":\"choropleth\"}],\"contourcarpet\":[{\"colorbar\":{\"outlinewidth\":0,\"ticks\":\"\"},\"type\":\"contourcarpet\"}],\"contour\":[{\"colorbar\":{\"outlinewidth\":0,\"ticks\":\"\"},\"colorscale\":[[0.0,\"#0d0887\"],[0.1111111111111111,\"#46039f\"],[0.2222222222222222,\"#7201a8\"],[0.3333333333333333,\"#9c179e\"],[0.4444444444444444,\"#bd3786\"],[0.5555555555555556,\"#d8576b\"],[0.6666666666666666,\"#ed7953\"],[0.7777777777777778,\"#fb9f3a\"],[0.8888888888888888,\"#fdca26\"],[1.0,\"#f0f921\"]],\"type\":\"contour\"}],\"heatmapgl\":[{\"colorbar\":{\"outlinewidth\":0,\"ticks\":\"\"},\"colorscale\":[[0.0,\"#0d0887\"],[0.1111111111111111,\"#46039f\"],[0.2222222222222222,\"#7201a8\"],[0.3333333333333333,\"#9c179e\"],[0.4444444444444444,\"#bd3786\"],[0.5555555555555556,\"#d8576b\"],[0.6666666666666666,\"#ed7953\"],[0.7777777777777778,\"#fb9f3a\"],[0.8888888888888888,\"#fdca26\"],[1.0,\"#f0f921\"]],\"type\":\"heatmapgl\"}],\"heatmap\":[{\"colorbar\":{\"outlinewidth\":0,\"ticks\":\"\"},\"colorscale\":[[0.0,\"#0d0887\"],[0.1111111111111111,\"#46039f\"],[0.2222222222222222,\"#7201a8\"],[0.3333333333333333,\"#9c179e\"],[0.4444444444444444,\"#bd3786\"],[0.5555555555555556,\"#d8576b\"],[0.6666666666666666,\"#ed7953\"],[0.7777777777777778,\"#fb9f3a\"],[0.8888888888888888,\"#fdca26\"],[1.0,\"#f0f921\"]],\"type\":\"heatmap\"}],\"histogram2dcontour\":[{\"colorbar\":{\"outlinewidth\":0,\"ticks\":\"\"},\"colorscale\":[[0.0,\"#0d0887\"],[0.1111111111111111,\"#46039f\"],[0.2222222222222222,\"#7201a8\"],[0.3333333333333333,\"#9c179e\"],[0.4444444444444444,\"#bd3786\"],[0.5555555555555556,\"#d8576b\"],[0.6666666666666666,\"#ed7953\"],[0.7777777777777778,\"#fb9f3a\"],[0.8888888888888888,\"#fdca26\"],[1.0,\"#f0f921\"]],\"type\":\"histogram2dcontour\"}],\"histogram2d\":[{\"colorbar\":{\"outlinewidth\":0,\"ticks\":\"\"},\"colorscale\":[[0.0,\"#0d0887\"],[0.1111111111111111,\"#46039f\"],[0.2222222222222222,\"#7201a8\"],[0.3333333333333333,\"#9c179e\"],[0.4444444444444444,\"#bd3786\"],[0.5555555555555556,\"#d8576b\"],[0.6666666666666666,\"#ed7953\"],[0.7777777777777778,\"#fb9f3a\"],[0.8888888888888888,\"#fdca26\"],[1.0,\"#f0f921\"]],\"type\":\"histogram2d\"}],\"histogram\":[{\"marker\":{\"pattern\":{\"fillmode\":\"overlay\",\"size\":10,\"solidity\":0.2}},\"type\":\"histogram\"}],\"mesh3d\":[{\"colorbar\":{\"outlinewidth\":0,\"ticks\":\"\"},\"type\":\"mesh3d\"}],\"parcoords\":[{\"line\":{\"colorbar\":{\"outlinewidth\":0,\"ticks\":\"\"}},\"type\":\"parcoords\"}],\"pie\":[{\"automargin\":true,\"type\":\"pie\"}],\"scatter3d\":[{\"line\":{\"colorbar\":{\"outlinewidth\":0,\"ticks\":\"\"}},\"marker\":{\"colorbar\":{\"outlinewidth\":0,\"ticks\":\"\"}},\"type\":\"scatter3d\"}],\"scattercarpet\":[{\"marker\":{\"colorbar\":{\"outlinewidth\":0,\"ticks\":\"\"}},\"type\":\"scattercarpet\"}],\"scattergeo\":[{\"marker\":{\"colorbar\":{\"outlinewidth\":0,\"ticks\":\"\"}},\"type\":\"scattergeo\"}],\"scattergl\":[{\"marker\":{\"colorbar\":{\"outlinewidth\":0,\"ticks\":\"\"}},\"type\":\"scattergl\"}],\"scattermapbox\":[{\"marker\":{\"colorbar\":{\"outlinewidth\":0,\"ticks\":\"\"}},\"type\":\"scattermapbox\"}],\"scatterpolargl\":[{\"marker\":{\"colorbar\":{\"outlinewidth\":0,\"ticks\":\"\"}},\"type\":\"scatterpolargl\"}],\"scatterpolar\":[{\"marker\":{\"colorbar\":{\"outlinewidth\":0,\"ticks\":\"\"}},\"type\":\"scatterpolar\"}],\"scatter\":[{\"fillpattern\":{\"fillmode\":\"overlay\",\"size\":10,\"solidity\":0.2},\"type\":\"scatter\"}],\"scatterternary\":[{\"marker\":{\"colorbar\":{\"outlinewidth\":0,\"ticks\":\"\"}},\"type\":\"scatterternary\"}],\"surface\":[{\"colorbar\":{\"outlinewidth\":0,\"ticks\":\"\"},\"colorscale\":[[0.0,\"#0d0887\"],[0.1111111111111111,\"#46039f\"],[0.2222222222222222,\"#7201a8\"],[0.3333333333333333,\"#9c179e\"],[0.4444444444444444,\"#bd3786\"],[0.5555555555555556,\"#d8576b\"],[0.6666666666666666,\"#ed7953\"],[0.7777777777777778,\"#fb9f3a\"],[0.8888888888888888,\"#fdca26\"],[1.0,\"#f0f921\"]],\"type\":\"surface\"}],\"table\":[{\"cells\":{\"fill\":{\"color\":\"#EBF0F8\"},\"line\":{\"color\":\"white\"}},\"header\":{\"fill\":{\"color\":\"#C8D4E3\"},\"line\":{\"color\":\"white\"}},\"type\":\"table\"}]},\"layout\":{\"annotationdefaults\":{\"arrowcolor\":\"#2a3f5f\",\"arrowhead\":0,\"arrowwidth\":1},\"autotypenumbers\":\"strict\",\"coloraxis\":{\"colorbar\":{\"outlinewidth\":0,\"ticks\":\"\"}},\"colorscale\":{\"diverging\":[[0,\"#8e0152\"],[0.1,\"#c51b7d\"],[0.2,\"#de77ae\"],[0.3,\"#f1b6da\"],[0.4,\"#fde0ef\"],[0.5,\"#f7f7f7\"],[0.6,\"#e6f5d0\"],[0.7,\"#b8e186\"],[0.8,\"#7fbc41\"],[0.9,\"#4d9221\"],[1,\"#276419\"]],\"sequential\":[[0.0,\"#0d0887\"],[0.1111111111111111,\"#46039f\"],[0.2222222222222222,\"#7201a8\"],[0.3333333333333333,\"#9c179e\"],[0.4444444444444444,\"#bd3786\"],[0.5555555555555556,\"#d8576b\"],[0.6666666666666666,\"#ed7953\"],[0.7777777777777778,\"#fb9f3a\"],[0.8888888888888888,\"#fdca26\"],[1.0,\"#f0f921\"]],\"sequentialminus\":[[0.0,\"#0d0887\"],[0.1111111111111111,\"#46039f\"],[0.2222222222222222,\"#7201a8\"],[0.3333333333333333,\"#9c179e\"],[0.4444444444444444,\"#bd3786\"],[0.5555555555555556,\"#d8576b\"],[0.6666666666666666,\"#ed7953\"],[0.7777777777777778,\"#fb9f3a\"],[0.8888888888888888,\"#fdca26\"],[1.0,\"#f0f921\"]]},\"colorway\":[\"#636efa\",\"#EF553B\",\"#00cc96\",\"#ab63fa\",\"#FFA15A\",\"#19d3f3\",\"#FF6692\",\"#B6E880\",\"#FF97FF\",\"#FECB52\"],\"font\":{\"color\":\"#2a3f5f\"},\"geo\":{\"bgcolor\":\"white\",\"lakecolor\":\"white\",\"landcolor\":\"#E5ECF6\",\"showlakes\":true,\"showland\":true,\"subunitcolor\":\"white\"},\"hoverlabel\":{\"align\":\"left\"},\"hovermode\":\"closest\",\"mapbox\":{\"style\":\"light\"},\"paper_bgcolor\":\"white\",\"plot_bgcolor\":\"#E5ECF6\",\"polar\":{\"angularaxis\":{\"gridcolor\":\"white\",\"linecolor\":\"white\",\"ticks\":\"\"},\"bgcolor\":\"#E5ECF6\",\"radialaxis\":{\"gridcolor\":\"white\",\"linecolor\":\"white\",\"ticks\":\"\"}},\"scene\":{\"xaxis\":{\"backgroundcolor\":\"#E5ECF6\",\"gridcolor\":\"white\",\"gridwidth\":2,\"linecolor\":\"white\",\"showbackground\":true,\"ticks\":\"\",\"zerolinecolor\":\"white\"},\"yaxis\":{\"backgroundcolor\":\"#E5ECF6\",\"gridcolor\":\"white\",\"gridwidth\":2,\"linecolor\":\"white\",\"showbackground\":true,\"ticks\":\"\",\"zerolinecolor\":\"white\"},\"zaxis\":{\"backgroundcolor\":\"#E5ECF6\",\"gridcolor\":\"white\",\"gridwidth\":2,\"linecolor\":\"white\",\"showbackground\":true,\"ticks\":\"\",\"zerolinecolor\":\"white\"}},\"shapedefaults\":{\"line\":{\"color\":\"#2a3f5f\"}},\"ternary\":{\"aaxis\":{\"gridcolor\":\"white\",\"linecolor\":\"white\",\"ticks\":\"\"},\"baxis\":{\"gridcolor\":\"white\",\"linecolor\":\"white\",\"ticks\":\"\"},\"bgcolor\":\"#E5ECF6\",\"caxis\":{\"gridcolor\":\"white\",\"linecolor\":\"white\",\"ticks\":\"\"}},\"title\":{\"x\":0.05},\"xaxis\":{\"automargin\":true,\"gridcolor\":\"white\",\"linecolor\":\"white\",\"ticks\":\"\",\"title\":{\"standoff\":15},\"zerolinecolor\":\"white\",\"zerolinewidth\":2},\"yaxis\":{\"automargin\":true,\"gridcolor\":\"white\",\"linecolor\":\"white\",\"ticks\":\"\",\"title\":{\"standoff\":15},\"zerolinecolor\":\"white\",\"zerolinewidth\":2}}},\"title\":{\"font\":{\"color\":\"#4D5663\"},\"text\":\"Top 20 unigrams used in articles\"},\"xaxis\":{\"gridcolor\":\"#E1E5ED\",\"linecolor\":\"black\",\"showgrid\":true,\"tickfont\":{\"color\":\"#4D5663\"},\"title\":{\"font\":{\"color\":\"#4D5663\"},\"text\":\"\"},\"zerolinecolor\":\"#E1E5ED\"},\"yaxis\":{\"gridcolor\":\"#E1E5ED\",\"linecolor\":\"black\",\"showgrid\":true,\"tickfont\":{\"color\":\"#4D5663\"},\"title\":{\"font\":{\"color\":\"#4D5663\"},\"text\":\"Count\"},\"zerolinecolor\":\"#E1E5ED\"}},                        {\"showLink\": true, \"linkText\": \"Export to plot.ly\", \"plotlyServerURL\": \"https://plot.ly\", \"responsive\": true}                    ).then(function(){\n",
              "                            \n",
              "var gd = document.getElementById('a8cd9745-5dec-40a4-94af-0e6146a224d2');\n",
              "var x = new MutationObserver(function (mutations, observer) {{\n",
              "        var display = window.getComputedStyle(gd).display;\n",
              "        if (!display || display === 'none') {{\n",
              "            console.log([gd, 'removed!']);\n",
              "            Plotly.purge(gd);\n",
              "            observer.disconnect();\n",
              "        }}\n",
              "}});\n",
              "\n",
              "// Listen for the removal of the full notebook cells\n",
              "var notebookContainer = gd.closest('#notebook-container');\n",
              "if (notebookContainer) {{\n",
              "    x.observe(notebookContainer, {childList: true});\n",
              "}}\n",
              "\n",
              "// Listen for the clearing of the current output cell\n",
              "var outputEl = gd.closest('.output');\n",
              "if (outputEl) {{\n",
              "    x.observe(outputEl, {childList: true});\n",
              "}}\n",
              "\n",
              "                        })                };                });            </script>        </div>"
            ]
          },
          "metadata": {}
        }
      ]
    },
    {
      "cell_type": "code",
      "source": [
        "common_words = get_top_n_bigram(df['text_without_stopwords'], 20)\n",
        "df3 = pd.DataFrame(common_words, columns = ['words' ,'count'])\n",
        "df3.groupby('words').sum()['count'].sort_values(ascending=False).iplot(\n",
        "    kind='bar', yTitle='Count', linecolor='black', title='Top 20 bigrams used in articles', color='blue')"
      ],
      "metadata": {
        "colab": {
          "base_uri": "https://localhost:8080/",
          "height": 542
        },
        "id": "GsKhiWsc3qtR",
        "outputId": "261d7538-afcf-431d-cb15-aa04bb906ddd"
      },
      "execution_count": null,
      "outputs": [
        {
          "output_type": "display_data",
          "data": {
            "application/vnd.plotly.v1+json": {
              "data": [
                {
                  "marker": {
                    "color": "rgba(55, 128, 191, 0.6)",
                    "line": {
                      "color": "rgba(55, 128, 191, 1.0)",
                      "width": 1
                    }
                  },
                  "name": "count",
                  "orientation": "v",
                  "text": "",
                  "x": [
                    "hillary clinton",
                    "donald trump",
                    "united states",
                    "new york",
                    "white house",
                    "clinton campaign",
                    "hillary clintons",
                    "brain force",
                    "bill clinton",
                    "clinton foundation",
                    "secretary state",
                    "presidential election",
                    "fbi director",
                    "barack obama",
                    "mainstream media",
                    "alex jones",
                    "attorney general",
                    "election day",
                    "donald trumps",
                    "democratic party"
                  ],
                  "y": [
                    1073,
                    885,
                    499,
                    335,
                    324,
                    248,
                    230,
                    209,
                    205,
                    185,
                    182,
                    149,
                    147,
                    142,
                    139,
                    136,
                    132,
                    132,
                    131,
                    129
                  ],
                  "type": "bar"
                }
              ],
              "layout": {
                "legend": {
                  "bgcolor": "#F5F6F9",
                  "font": {
                    "color": "#4D5663"
                  }
                },
                "paper_bgcolor": "#F5F6F9",
                "plot_bgcolor": "#F5F6F9",
                "template": {
                  "data": {
                    "barpolar": [
                      {
                        "marker": {
                          "line": {
                            "color": "#E5ECF6",
                            "width": 0.5
                          },
                          "pattern": {
                            "fillmode": "overlay",
                            "size": 10,
                            "solidity": 0.2
                          }
                        },
                        "type": "barpolar"
                      }
                    ],
                    "bar": [
                      {
                        "error_x": {
                          "color": "#2a3f5f"
                        },
                        "error_y": {
                          "color": "#2a3f5f"
                        },
                        "marker": {
                          "line": {
                            "color": "#E5ECF6",
                            "width": 0.5
                          },
                          "pattern": {
                            "fillmode": "overlay",
                            "size": 10,
                            "solidity": 0.2
                          }
                        },
                        "type": "bar"
                      }
                    ],
                    "carpet": [
                      {
                        "aaxis": {
                          "endlinecolor": "#2a3f5f",
                          "gridcolor": "white",
                          "linecolor": "white",
                          "minorgridcolor": "white",
                          "startlinecolor": "#2a3f5f"
                        },
                        "baxis": {
                          "endlinecolor": "#2a3f5f",
                          "gridcolor": "white",
                          "linecolor": "white",
                          "minorgridcolor": "white",
                          "startlinecolor": "#2a3f5f"
                        },
                        "type": "carpet"
                      }
                    ],
                    "choropleth": [
                      {
                        "colorbar": {
                          "outlinewidth": 0,
                          "ticks": ""
                        },
                        "type": "choropleth"
                      }
                    ],
                    "contourcarpet": [
                      {
                        "colorbar": {
                          "outlinewidth": 0,
                          "ticks": ""
                        },
                        "type": "contourcarpet"
                      }
                    ],
                    "contour": [
                      {
                        "colorbar": {
                          "outlinewidth": 0,
                          "ticks": ""
                        },
                        "colorscale": [
                          [
                            0,
                            "#0d0887"
                          ],
                          [
                            0.1111111111111111,
                            "#46039f"
                          ],
                          [
                            0.2222222222222222,
                            "#7201a8"
                          ],
                          [
                            0.3333333333333333,
                            "#9c179e"
                          ],
                          [
                            0.4444444444444444,
                            "#bd3786"
                          ],
                          [
                            0.5555555555555556,
                            "#d8576b"
                          ],
                          [
                            0.6666666666666666,
                            "#ed7953"
                          ],
                          [
                            0.7777777777777778,
                            "#fb9f3a"
                          ],
                          [
                            0.8888888888888888,
                            "#fdca26"
                          ],
                          [
                            1,
                            "#f0f921"
                          ]
                        ],
                        "type": "contour"
                      }
                    ],
                    "heatmapgl": [
                      {
                        "colorbar": {
                          "outlinewidth": 0,
                          "ticks": ""
                        },
                        "colorscale": [
                          [
                            0,
                            "#0d0887"
                          ],
                          [
                            0.1111111111111111,
                            "#46039f"
                          ],
                          [
                            0.2222222222222222,
                            "#7201a8"
                          ],
                          [
                            0.3333333333333333,
                            "#9c179e"
                          ],
                          [
                            0.4444444444444444,
                            "#bd3786"
                          ],
                          [
                            0.5555555555555556,
                            "#d8576b"
                          ],
                          [
                            0.6666666666666666,
                            "#ed7953"
                          ],
                          [
                            0.7777777777777778,
                            "#fb9f3a"
                          ],
                          [
                            0.8888888888888888,
                            "#fdca26"
                          ],
                          [
                            1,
                            "#f0f921"
                          ]
                        ],
                        "type": "heatmapgl"
                      }
                    ],
                    "heatmap": [
                      {
                        "colorbar": {
                          "outlinewidth": 0,
                          "ticks": ""
                        },
                        "colorscale": [
                          [
                            0,
                            "#0d0887"
                          ],
                          [
                            0.1111111111111111,
                            "#46039f"
                          ],
                          [
                            0.2222222222222222,
                            "#7201a8"
                          ],
                          [
                            0.3333333333333333,
                            "#9c179e"
                          ],
                          [
                            0.4444444444444444,
                            "#bd3786"
                          ],
                          [
                            0.5555555555555556,
                            "#d8576b"
                          ],
                          [
                            0.6666666666666666,
                            "#ed7953"
                          ],
                          [
                            0.7777777777777778,
                            "#fb9f3a"
                          ],
                          [
                            0.8888888888888888,
                            "#fdca26"
                          ],
                          [
                            1,
                            "#f0f921"
                          ]
                        ],
                        "type": "heatmap"
                      }
                    ],
                    "histogram2dcontour": [
                      {
                        "colorbar": {
                          "outlinewidth": 0,
                          "ticks": ""
                        },
                        "colorscale": [
                          [
                            0,
                            "#0d0887"
                          ],
                          [
                            0.1111111111111111,
                            "#46039f"
                          ],
                          [
                            0.2222222222222222,
                            "#7201a8"
                          ],
                          [
                            0.3333333333333333,
                            "#9c179e"
                          ],
                          [
                            0.4444444444444444,
                            "#bd3786"
                          ],
                          [
                            0.5555555555555556,
                            "#d8576b"
                          ],
                          [
                            0.6666666666666666,
                            "#ed7953"
                          ],
                          [
                            0.7777777777777778,
                            "#fb9f3a"
                          ],
                          [
                            0.8888888888888888,
                            "#fdca26"
                          ],
                          [
                            1,
                            "#f0f921"
                          ]
                        ],
                        "type": "histogram2dcontour"
                      }
                    ],
                    "histogram2d": [
                      {
                        "colorbar": {
                          "outlinewidth": 0,
                          "ticks": ""
                        },
                        "colorscale": [
                          [
                            0,
                            "#0d0887"
                          ],
                          [
                            0.1111111111111111,
                            "#46039f"
                          ],
                          [
                            0.2222222222222222,
                            "#7201a8"
                          ],
                          [
                            0.3333333333333333,
                            "#9c179e"
                          ],
                          [
                            0.4444444444444444,
                            "#bd3786"
                          ],
                          [
                            0.5555555555555556,
                            "#d8576b"
                          ],
                          [
                            0.6666666666666666,
                            "#ed7953"
                          ],
                          [
                            0.7777777777777778,
                            "#fb9f3a"
                          ],
                          [
                            0.8888888888888888,
                            "#fdca26"
                          ],
                          [
                            1,
                            "#f0f921"
                          ]
                        ],
                        "type": "histogram2d"
                      }
                    ],
                    "histogram": [
                      {
                        "marker": {
                          "pattern": {
                            "fillmode": "overlay",
                            "size": 10,
                            "solidity": 0.2
                          }
                        },
                        "type": "histogram"
                      }
                    ],
                    "mesh3d": [
                      {
                        "colorbar": {
                          "outlinewidth": 0,
                          "ticks": ""
                        },
                        "type": "mesh3d"
                      }
                    ],
                    "parcoords": [
                      {
                        "line": {
                          "colorbar": {
                            "outlinewidth": 0,
                            "ticks": ""
                          }
                        },
                        "type": "parcoords"
                      }
                    ],
                    "pie": [
                      {
                        "automargin": true,
                        "type": "pie"
                      }
                    ],
                    "scatter3d": [
                      {
                        "line": {
                          "colorbar": {
                            "outlinewidth": 0,
                            "ticks": ""
                          }
                        },
                        "marker": {
                          "colorbar": {
                            "outlinewidth": 0,
                            "ticks": ""
                          }
                        },
                        "type": "scatter3d"
                      }
                    ],
                    "scattercarpet": [
                      {
                        "marker": {
                          "colorbar": {
                            "outlinewidth": 0,
                            "ticks": ""
                          }
                        },
                        "type": "scattercarpet"
                      }
                    ],
                    "scattergeo": [
                      {
                        "marker": {
                          "colorbar": {
                            "outlinewidth": 0,
                            "ticks": ""
                          }
                        },
                        "type": "scattergeo"
                      }
                    ],
                    "scattergl": [
                      {
                        "marker": {
                          "colorbar": {
                            "outlinewidth": 0,
                            "ticks": ""
                          }
                        },
                        "type": "scattergl"
                      }
                    ],
                    "scattermapbox": [
                      {
                        "marker": {
                          "colorbar": {
                            "outlinewidth": 0,
                            "ticks": ""
                          }
                        },
                        "type": "scattermapbox"
                      }
                    ],
                    "scatterpolargl": [
                      {
                        "marker": {
                          "colorbar": {
                            "outlinewidth": 0,
                            "ticks": ""
                          }
                        },
                        "type": "scatterpolargl"
                      }
                    ],
                    "scatterpolar": [
                      {
                        "marker": {
                          "colorbar": {
                            "outlinewidth": 0,
                            "ticks": ""
                          }
                        },
                        "type": "scatterpolar"
                      }
                    ],
                    "scatter": [
                      {
                        "fillpattern": {
                          "fillmode": "overlay",
                          "size": 10,
                          "solidity": 0.2
                        },
                        "type": "scatter"
                      }
                    ],
                    "scatterternary": [
                      {
                        "marker": {
                          "colorbar": {
                            "outlinewidth": 0,
                            "ticks": ""
                          }
                        },
                        "type": "scatterternary"
                      }
                    ],
                    "surface": [
                      {
                        "colorbar": {
                          "outlinewidth": 0,
                          "ticks": ""
                        },
                        "colorscale": [
                          [
                            0,
                            "#0d0887"
                          ],
                          [
                            0.1111111111111111,
                            "#46039f"
                          ],
                          [
                            0.2222222222222222,
                            "#7201a8"
                          ],
                          [
                            0.3333333333333333,
                            "#9c179e"
                          ],
                          [
                            0.4444444444444444,
                            "#bd3786"
                          ],
                          [
                            0.5555555555555556,
                            "#d8576b"
                          ],
                          [
                            0.6666666666666666,
                            "#ed7953"
                          ],
                          [
                            0.7777777777777778,
                            "#fb9f3a"
                          ],
                          [
                            0.8888888888888888,
                            "#fdca26"
                          ],
                          [
                            1,
                            "#f0f921"
                          ]
                        ],
                        "type": "surface"
                      }
                    ],
                    "table": [
                      {
                        "cells": {
                          "fill": {
                            "color": "#EBF0F8"
                          },
                          "line": {
                            "color": "white"
                          }
                        },
                        "header": {
                          "fill": {
                            "color": "#C8D4E3"
                          },
                          "line": {
                            "color": "white"
                          }
                        },
                        "type": "table"
                      }
                    ]
                  },
                  "layout": {
                    "annotationdefaults": {
                      "arrowcolor": "#2a3f5f",
                      "arrowhead": 0,
                      "arrowwidth": 1
                    },
                    "autotypenumbers": "strict",
                    "coloraxis": {
                      "colorbar": {
                        "outlinewidth": 0,
                        "ticks": ""
                      }
                    },
                    "colorscale": {
                      "diverging": [
                        [
                          0,
                          "#8e0152"
                        ],
                        [
                          0.1,
                          "#c51b7d"
                        ],
                        [
                          0.2,
                          "#de77ae"
                        ],
                        [
                          0.3,
                          "#f1b6da"
                        ],
                        [
                          0.4,
                          "#fde0ef"
                        ],
                        [
                          0.5,
                          "#f7f7f7"
                        ],
                        [
                          0.6,
                          "#e6f5d0"
                        ],
                        [
                          0.7,
                          "#b8e186"
                        ],
                        [
                          0.8,
                          "#7fbc41"
                        ],
                        [
                          0.9,
                          "#4d9221"
                        ],
                        [
                          1,
                          "#276419"
                        ]
                      ],
                      "sequential": [
                        [
                          0,
                          "#0d0887"
                        ],
                        [
                          0.1111111111111111,
                          "#46039f"
                        ],
                        [
                          0.2222222222222222,
                          "#7201a8"
                        ],
                        [
                          0.3333333333333333,
                          "#9c179e"
                        ],
                        [
                          0.4444444444444444,
                          "#bd3786"
                        ],
                        [
                          0.5555555555555556,
                          "#d8576b"
                        ],
                        [
                          0.6666666666666666,
                          "#ed7953"
                        ],
                        [
                          0.7777777777777778,
                          "#fb9f3a"
                        ],
                        [
                          0.8888888888888888,
                          "#fdca26"
                        ],
                        [
                          1,
                          "#f0f921"
                        ]
                      ],
                      "sequentialminus": [
                        [
                          0,
                          "#0d0887"
                        ],
                        [
                          0.1111111111111111,
                          "#46039f"
                        ],
                        [
                          0.2222222222222222,
                          "#7201a8"
                        ],
                        [
                          0.3333333333333333,
                          "#9c179e"
                        ],
                        [
                          0.4444444444444444,
                          "#bd3786"
                        ],
                        [
                          0.5555555555555556,
                          "#d8576b"
                        ],
                        [
                          0.6666666666666666,
                          "#ed7953"
                        ],
                        [
                          0.7777777777777778,
                          "#fb9f3a"
                        ],
                        [
                          0.8888888888888888,
                          "#fdca26"
                        ],
                        [
                          1,
                          "#f0f921"
                        ]
                      ]
                    },
                    "colorway": [
                      "#636efa",
                      "#EF553B",
                      "#00cc96",
                      "#ab63fa",
                      "#FFA15A",
                      "#19d3f3",
                      "#FF6692",
                      "#B6E880",
                      "#FF97FF",
                      "#FECB52"
                    ],
                    "font": {
                      "color": "#2a3f5f"
                    },
                    "geo": {
                      "bgcolor": "white",
                      "lakecolor": "white",
                      "landcolor": "#E5ECF6",
                      "showlakes": true,
                      "showland": true,
                      "subunitcolor": "white"
                    },
                    "hoverlabel": {
                      "align": "left"
                    },
                    "hovermode": "closest",
                    "mapbox": {
                      "style": "light"
                    },
                    "paper_bgcolor": "white",
                    "plot_bgcolor": "#E5ECF6",
                    "polar": {
                      "angularaxis": {
                        "gridcolor": "white",
                        "linecolor": "white",
                        "ticks": ""
                      },
                      "bgcolor": "#E5ECF6",
                      "radialaxis": {
                        "gridcolor": "white",
                        "linecolor": "white",
                        "ticks": ""
                      }
                    },
                    "scene": {
                      "xaxis": {
                        "backgroundcolor": "#E5ECF6",
                        "gridcolor": "white",
                        "gridwidth": 2,
                        "linecolor": "white",
                        "showbackground": true,
                        "ticks": "",
                        "zerolinecolor": "white"
                      },
                      "yaxis": {
                        "backgroundcolor": "#E5ECF6",
                        "gridcolor": "white",
                        "gridwidth": 2,
                        "linecolor": "white",
                        "showbackground": true,
                        "ticks": "",
                        "zerolinecolor": "white"
                      },
                      "zaxis": {
                        "backgroundcolor": "#E5ECF6",
                        "gridcolor": "white",
                        "gridwidth": 2,
                        "linecolor": "white",
                        "showbackground": true,
                        "ticks": "",
                        "zerolinecolor": "white"
                      }
                    },
                    "shapedefaults": {
                      "line": {
                        "color": "#2a3f5f"
                      }
                    },
                    "ternary": {
                      "aaxis": {
                        "gridcolor": "white",
                        "linecolor": "white",
                        "ticks": ""
                      },
                      "baxis": {
                        "gridcolor": "white",
                        "linecolor": "white",
                        "ticks": ""
                      },
                      "bgcolor": "#E5ECF6",
                      "caxis": {
                        "gridcolor": "white",
                        "linecolor": "white",
                        "ticks": ""
                      }
                    },
                    "title": {
                      "x": 0.05
                    },
                    "xaxis": {
                      "automargin": true,
                      "gridcolor": "white",
                      "linecolor": "white",
                      "ticks": "",
                      "title": {
                        "standoff": 15
                      },
                      "zerolinecolor": "white",
                      "zerolinewidth": 2
                    },
                    "yaxis": {
                      "automargin": true,
                      "gridcolor": "white",
                      "linecolor": "white",
                      "ticks": "",
                      "title": {
                        "standoff": 15
                      },
                      "zerolinecolor": "white",
                      "zerolinewidth": 2
                    }
                  }
                },
                "title": {
                  "font": {
                    "color": "#4D5663"
                  },
                  "text": "Top 20 bigrams used in articles"
                },
                "xaxis": {
                  "gridcolor": "#E1E5ED",
                  "linecolor": "black",
                  "showgrid": true,
                  "tickfont": {
                    "color": "#4D5663"
                  },
                  "title": {
                    "font": {
                      "color": "#4D5663"
                    },
                    "text": ""
                  },
                  "zerolinecolor": "#E1E5ED"
                },
                "yaxis": {
                  "gridcolor": "#E1E5ED",
                  "linecolor": "black",
                  "showgrid": true,
                  "tickfont": {
                    "color": "#4D5663"
                  },
                  "title": {
                    "font": {
                      "color": "#4D5663"
                    },
                    "text": "Count"
                  },
                  "zerolinecolor": "#E1E5ED"
                }
              },
              "config": {
                "showLink": true,
                "linkText": "Export to plot.ly",
                "plotlyServerURL": "https://plot.ly"
              }
            },
            "text/html": [
              "<div>                            <div id=\"fb2de624-b6da-4a29-bd75-5f58eb192aaf\" class=\"plotly-graph-div\" style=\"height:525px; width:100%;\"></div>            <script type=\"text/javascript\">                require([\"plotly\"], function(Plotly) {                    window.PLOTLYENV=window.PLOTLYENV || {};\n",
              "                    window.PLOTLYENV.BASE_URL='https://plot.ly';                                    if (document.getElementById(\"fb2de624-b6da-4a29-bd75-5f58eb192aaf\")) {                    Plotly.newPlot(                        \"fb2de624-b6da-4a29-bd75-5f58eb192aaf\",                        [{\"marker\":{\"color\":\"rgba(55, 128, 191, 0.6)\",\"line\":{\"color\":\"rgba(55, 128, 191, 1.0)\",\"width\":1}},\"name\":\"count\",\"orientation\":\"v\",\"text\":\"\",\"x\":[\"hillary clinton\",\"donald trump\",\"united states\",\"new york\",\"white house\",\"clinton campaign\",\"hillary clintons\",\"brain force\",\"bill clinton\",\"clinton foundation\",\"secretary state\",\"presidential election\",\"fbi director\",\"barack obama\",\"mainstream media\",\"alex jones\",\"attorney general\",\"election day\",\"donald trumps\",\"democratic party\"],\"y\":[1073,885,499,335,324,248,230,209,205,185,182,149,147,142,139,136,132,132,131,129],\"type\":\"bar\"}],                        {\"legend\":{\"bgcolor\":\"#F5F6F9\",\"font\":{\"color\":\"#4D5663\"}},\"paper_bgcolor\":\"#F5F6F9\",\"plot_bgcolor\":\"#F5F6F9\",\"template\":{\"data\":{\"barpolar\":[{\"marker\":{\"line\":{\"color\":\"#E5ECF6\",\"width\":0.5},\"pattern\":{\"fillmode\":\"overlay\",\"size\":10,\"solidity\":0.2}},\"type\":\"barpolar\"}],\"bar\":[{\"error_x\":{\"color\":\"#2a3f5f\"},\"error_y\":{\"color\":\"#2a3f5f\"},\"marker\":{\"line\":{\"color\":\"#E5ECF6\",\"width\":0.5},\"pattern\":{\"fillmode\":\"overlay\",\"size\":10,\"solidity\":0.2}},\"type\":\"bar\"}],\"carpet\":[{\"aaxis\":{\"endlinecolor\":\"#2a3f5f\",\"gridcolor\":\"white\",\"linecolor\":\"white\",\"minorgridcolor\":\"white\",\"startlinecolor\":\"#2a3f5f\"},\"baxis\":{\"endlinecolor\":\"#2a3f5f\",\"gridcolor\":\"white\",\"linecolor\":\"white\",\"minorgridcolor\":\"white\",\"startlinecolor\":\"#2a3f5f\"},\"type\":\"carpet\"}],\"choropleth\":[{\"colorbar\":{\"outlinewidth\":0,\"ticks\":\"\"},\"type\":\"choropleth\"}],\"contourcarpet\":[{\"colorbar\":{\"outlinewidth\":0,\"ticks\":\"\"},\"type\":\"contourcarpet\"}],\"contour\":[{\"colorbar\":{\"outlinewidth\":0,\"ticks\":\"\"},\"colorscale\":[[0.0,\"#0d0887\"],[0.1111111111111111,\"#46039f\"],[0.2222222222222222,\"#7201a8\"],[0.3333333333333333,\"#9c179e\"],[0.4444444444444444,\"#bd3786\"],[0.5555555555555556,\"#d8576b\"],[0.6666666666666666,\"#ed7953\"],[0.7777777777777778,\"#fb9f3a\"],[0.8888888888888888,\"#fdca26\"],[1.0,\"#f0f921\"]],\"type\":\"contour\"}],\"heatmapgl\":[{\"colorbar\":{\"outlinewidth\":0,\"ticks\":\"\"},\"colorscale\":[[0.0,\"#0d0887\"],[0.1111111111111111,\"#46039f\"],[0.2222222222222222,\"#7201a8\"],[0.3333333333333333,\"#9c179e\"],[0.4444444444444444,\"#bd3786\"],[0.5555555555555556,\"#d8576b\"],[0.6666666666666666,\"#ed7953\"],[0.7777777777777778,\"#fb9f3a\"],[0.8888888888888888,\"#fdca26\"],[1.0,\"#f0f921\"]],\"type\":\"heatmapgl\"}],\"heatmap\":[{\"colorbar\":{\"outlinewidth\":0,\"ticks\":\"\"},\"colorscale\":[[0.0,\"#0d0887\"],[0.1111111111111111,\"#46039f\"],[0.2222222222222222,\"#7201a8\"],[0.3333333333333333,\"#9c179e\"],[0.4444444444444444,\"#bd3786\"],[0.5555555555555556,\"#d8576b\"],[0.6666666666666666,\"#ed7953\"],[0.7777777777777778,\"#fb9f3a\"],[0.8888888888888888,\"#fdca26\"],[1.0,\"#f0f921\"]],\"type\":\"heatmap\"}],\"histogram2dcontour\":[{\"colorbar\":{\"outlinewidth\":0,\"ticks\":\"\"},\"colorscale\":[[0.0,\"#0d0887\"],[0.1111111111111111,\"#46039f\"],[0.2222222222222222,\"#7201a8\"],[0.3333333333333333,\"#9c179e\"],[0.4444444444444444,\"#bd3786\"],[0.5555555555555556,\"#d8576b\"],[0.6666666666666666,\"#ed7953\"],[0.7777777777777778,\"#fb9f3a\"],[0.8888888888888888,\"#fdca26\"],[1.0,\"#f0f921\"]],\"type\":\"histogram2dcontour\"}],\"histogram2d\":[{\"colorbar\":{\"outlinewidth\":0,\"ticks\":\"\"},\"colorscale\":[[0.0,\"#0d0887\"],[0.1111111111111111,\"#46039f\"],[0.2222222222222222,\"#7201a8\"],[0.3333333333333333,\"#9c179e\"],[0.4444444444444444,\"#bd3786\"],[0.5555555555555556,\"#d8576b\"],[0.6666666666666666,\"#ed7953\"],[0.7777777777777778,\"#fb9f3a\"],[0.8888888888888888,\"#fdca26\"],[1.0,\"#f0f921\"]],\"type\":\"histogram2d\"}],\"histogram\":[{\"marker\":{\"pattern\":{\"fillmode\":\"overlay\",\"size\":10,\"solidity\":0.2}},\"type\":\"histogram\"}],\"mesh3d\":[{\"colorbar\":{\"outlinewidth\":0,\"ticks\":\"\"},\"type\":\"mesh3d\"}],\"parcoords\":[{\"line\":{\"colorbar\":{\"outlinewidth\":0,\"ticks\":\"\"}},\"type\":\"parcoords\"}],\"pie\":[{\"automargin\":true,\"type\":\"pie\"}],\"scatter3d\":[{\"line\":{\"colorbar\":{\"outlinewidth\":0,\"ticks\":\"\"}},\"marker\":{\"colorbar\":{\"outlinewidth\":0,\"ticks\":\"\"}},\"type\":\"scatter3d\"}],\"scattercarpet\":[{\"marker\":{\"colorbar\":{\"outlinewidth\":0,\"ticks\":\"\"}},\"type\":\"scattercarpet\"}],\"scattergeo\":[{\"marker\":{\"colorbar\":{\"outlinewidth\":0,\"ticks\":\"\"}},\"type\":\"scattergeo\"}],\"scattergl\":[{\"marker\":{\"colorbar\":{\"outlinewidth\":0,\"ticks\":\"\"}},\"type\":\"scattergl\"}],\"scattermapbox\":[{\"marker\":{\"colorbar\":{\"outlinewidth\":0,\"ticks\":\"\"}},\"type\":\"scattermapbox\"}],\"scatterpolargl\":[{\"marker\":{\"colorbar\":{\"outlinewidth\":0,\"ticks\":\"\"}},\"type\":\"scatterpolargl\"}],\"scatterpolar\":[{\"marker\":{\"colorbar\":{\"outlinewidth\":0,\"ticks\":\"\"}},\"type\":\"scatterpolar\"}],\"scatter\":[{\"fillpattern\":{\"fillmode\":\"overlay\",\"size\":10,\"solidity\":0.2},\"type\":\"scatter\"}],\"scatterternary\":[{\"marker\":{\"colorbar\":{\"outlinewidth\":0,\"ticks\":\"\"}},\"type\":\"scatterternary\"}],\"surface\":[{\"colorbar\":{\"outlinewidth\":0,\"ticks\":\"\"},\"colorscale\":[[0.0,\"#0d0887\"],[0.1111111111111111,\"#46039f\"],[0.2222222222222222,\"#7201a8\"],[0.3333333333333333,\"#9c179e\"],[0.4444444444444444,\"#bd3786\"],[0.5555555555555556,\"#d8576b\"],[0.6666666666666666,\"#ed7953\"],[0.7777777777777778,\"#fb9f3a\"],[0.8888888888888888,\"#fdca26\"],[1.0,\"#f0f921\"]],\"type\":\"surface\"}],\"table\":[{\"cells\":{\"fill\":{\"color\":\"#EBF0F8\"},\"line\":{\"color\":\"white\"}},\"header\":{\"fill\":{\"color\":\"#C8D4E3\"},\"line\":{\"color\":\"white\"}},\"type\":\"table\"}]},\"layout\":{\"annotationdefaults\":{\"arrowcolor\":\"#2a3f5f\",\"arrowhead\":0,\"arrowwidth\":1},\"autotypenumbers\":\"strict\",\"coloraxis\":{\"colorbar\":{\"outlinewidth\":0,\"ticks\":\"\"}},\"colorscale\":{\"diverging\":[[0,\"#8e0152\"],[0.1,\"#c51b7d\"],[0.2,\"#de77ae\"],[0.3,\"#f1b6da\"],[0.4,\"#fde0ef\"],[0.5,\"#f7f7f7\"],[0.6,\"#e6f5d0\"],[0.7,\"#b8e186\"],[0.8,\"#7fbc41\"],[0.9,\"#4d9221\"],[1,\"#276419\"]],\"sequential\":[[0.0,\"#0d0887\"],[0.1111111111111111,\"#46039f\"],[0.2222222222222222,\"#7201a8\"],[0.3333333333333333,\"#9c179e\"],[0.4444444444444444,\"#bd3786\"],[0.5555555555555556,\"#d8576b\"],[0.6666666666666666,\"#ed7953\"],[0.7777777777777778,\"#fb9f3a\"],[0.8888888888888888,\"#fdca26\"],[1.0,\"#f0f921\"]],\"sequentialminus\":[[0.0,\"#0d0887\"],[0.1111111111111111,\"#46039f\"],[0.2222222222222222,\"#7201a8\"],[0.3333333333333333,\"#9c179e\"],[0.4444444444444444,\"#bd3786\"],[0.5555555555555556,\"#d8576b\"],[0.6666666666666666,\"#ed7953\"],[0.7777777777777778,\"#fb9f3a\"],[0.8888888888888888,\"#fdca26\"],[1.0,\"#f0f921\"]]},\"colorway\":[\"#636efa\",\"#EF553B\",\"#00cc96\",\"#ab63fa\",\"#FFA15A\",\"#19d3f3\",\"#FF6692\",\"#B6E880\",\"#FF97FF\",\"#FECB52\"],\"font\":{\"color\":\"#2a3f5f\"},\"geo\":{\"bgcolor\":\"white\",\"lakecolor\":\"white\",\"landcolor\":\"#E5ECF6\",\"showlakes\":true,\"showland\":true,\"subunitcolor\":\"white\"},\"hoverlabel\":{\"align\":\"left\"},\"hovermode\":\"closest\",\"mapbox\":{\"style\":\"light\"},\"paper_bgcolor\":\"white\",\"plot_bgcolor\":\"#E5ECF6\",\"polar\":{\"angularaxis\":{\"gridcolor\":\"white\",\"linecolor\":\"white\",\"ticks\":\"\"},\"bgcolor\":\"#E5ECF6\",\"radialaxis\":{\"gridcolor\":\"white\",\"linecolor\":\"white\",\"ticks\":\"\"}},\"scene\":{\"xaxis\":{\"backgroundcolor\":\"#E5ECF6\",\"gridcolor\":\"white\",\"gridwidth\":2,\"linecolor\":\"white\",\"showbackground\":true,\"ticks\":\"\",\"zerolinecolor\":\"white\"},\"yaxis\":{\"backgroundcolor\":\"#E5ECF6\",\"gridcolor\":\"white\",\"gridwidth\":2,\"linecolor\":\"white\",\"showbackground\":true,\"ticks\":\"\",\"zerolinecolor\":\"white\"},\"zaxis\":{\"backgroundcolor\":\"#E5ECF6\",\"gridcolor\":\"white\",\"gridwidth\":2,\"linecolor\":\"white\",\"showbackground\":true,\"ticks\":\"\",\"zerolinecolor\":\"white\"}},\"shapedefaults\":{\"line\":{\"color\":\"#2a3f5f\"}},\"ternary\":{\"aaxis\":{\"gridcolor\":\"white\",\"linecolor\":\"white\",\"ticks\":\"\"},\"baxis\":{\"gridcolor\":\"white\",\"linecolor\":\"white\",\"ticks\":\"\"},\"bgcolor\":\"#E5ECF6\",\"caxis\":{\"gridcolor\":\"white\",\"linecolor\":\"white\",\"ticks\":\"\"}},\"title\":{\"x\":0.05},\"xaxis\":{\"automargin\":true,\"gridcolor\":\"white\",\"linecolor\":\"white\",\"ticks\":\"\",\"title\":{\"standoff\":15},\"zerolinecolor\":\"white\",\"zerolinewidth\":2},\"yaxis\":{\"automargin\":true,\"gridcolor\":\"white\",\"linecolor\":\"white\",\"ticks\":\"\",\"title\":{\"standoff\":15},\"zerolinecolor\":\"white\",\"zerolinewidth\":2}}},\"title\":{\"font\":{\"color\":\"#4D5663\"},\"text\":\"Top 20 bigrams used in articles\"},\"xaxis\":{\"gridcolor\":\"#E1E5ED\",\"linecolor\":\"black\",\"showgrid\":true,\"tickfont\":{\"color\":\"#4D5663\"},\"title\":{\"font\":{\"color\":\"#4D5663\"},\"text\":\"\"},\"zerolinecolor\":\"#E1E5ED\"},\"yaxis\":{\"gridcolor\":\"#E1E5ED\",\"linecolor\":\"black\",\"showgrid\":true,\"tickfont\":{\"color\":\"#4D5663\"},\"title\":{\"font\":{\"color\":\"#4D5663\"},\"text\":\"Count\"},\"zerolinecolor\":\"#E1E5ED\"}},                        {\"showLink\": true, \"linkText\": \"Export to plot.ly\", \"plotlyServerURL\": \"https://plot.ly\", \"responsive\": true}                    ).then(function(){\n",
              "                            \n",
              "var gd = document.getElementById('fb2de624-b6da-4a29-bd75-5f58eb192aaf');\n",
              "var x = new MutationObserver(function (mutations, observer) {{\n",
              "        var display = window.getComputedStyle(gd).display;\n",
              "        if (!display || display === 'none') {{\n",
              "            console.log([gd, 'removed!']);\n",
              "            Plotly.purge(gd);\n",
              "            observer.disconnect();\n",
              "        }}\n",
              "}});\n",
              "\n",
              "// Listen for the removal of the full notebook cells\n",
              "var notebookContainer = gd.closest('#notebook-container');\n",
              "if (notebookContainer) {{\n",
              "    x.observe(notebookContainer, {childList: true});\n",
              "}}\n",
              "\n",
              "// Listen for the clearing of the current output cell\n",
              "var outputEl = gd.closest('.output');\n",
              "if (outputEl) {{\n",
              "    x.observe(outputEl, {childList: true});\n",
              "}}\n",
              "\n",
              "                        })                };                });            </script>        </div>"
            ]
          },
          "metadata": {}
        }
      ]
    },
    {
      "cell_type": "code",
      "source": [
        "wc = WordCloud(background_color=\"black\", max_words=100,\n",
        "               max_font_size=256,\n",
        "               random_state=42, width=1000, height=1000)\n",
        "wc.generate(' '.join(df['text_without_stopwords']))\n",
        "plt.imshow(wc, interpolation=\"bilinear\")\n",
        "plt.axis('off')\n",
        "plt.show()"
      ],
      "metadata": {
        "colab": {
          "base_uri": "https://localhost:8080/",
          "height": 406
        },
        "id": "nx4dqgl538Iq",
        "outputId": "0874004e-2a64-49e2-d9f0-7dcc48729819"
      },
      "execution_count": null,
      "outputs": [
        {
          "output_type": "display_data",
          "data": {
            "text/plain": [
              "<Figure size 640x480 with 1 Axes>"
            ],
            "image/png": "[encoded data removed]"
          },
          "metadata": {}
        }
      ]
    },
    {
      "cell_type": "code",
      "source": [
        "fig = px.bar(df, x='hasImage', y='label',title='Articles including images vs Label')\n",
        "fig.show()\n"
      ],
      "metadata": {
        "colab": {
          "base_uri": "https://localhost:8080/",
          "height": 542
        },
        "id": "m2xDDw2R4B4D",
        "outputId": "36077fa1-dbd1-482b-d6bf-6c5c2e791fda"
      },
      "execution_count": null,
      "outputs": [
        {
          "output_type": "display_data",
          "data": {
            "application/vnd.plotly.v1+json": {
              "data": [
                {
                  "alignmentgroup": "True",
                  "hovertemplate": "hasImage=%{x}<br>label=%{y}<extra></extra>",
                  "legendgroup": "",
                  "marker": {
                    "color": "#636efa",
                    "pattern": {
                      "shape": ""
                    }
                  },
                  "name": "",
                  "offsetgroup": "",
                  "orientation": "h",
                  "showlegend": false,
                  "textposition": "auto",
                  "x": [
                    1,
                    1,
                    1,
                    1,
                    1,
                    1,
                    1,
                    1,
                    1,
                    1,
                    1,
                    1,
                    1,
                    1,
                    1,
                    1,
                    1,
                    1,
                    1,
                    1,
                    1,
                    1,
                    1,
                    1,
                    1,
                    1,
                    1,
                    1,
                    1,
                    1,
                    1,
                    1,
                    1,
                    1,
                    1,
                    1,
                    1,
                    1,
                    1,
                    1,
                    1,
                    1,
                    1,
                    1,
                    1,
                    1,
                    1,
                    1,
                    1,
                    1,
                    1,
                    1,
                    1,
                    1,
                    1,
                    1,
                    1,
                    1,
                    1,
                    0,
                    0,
                    0,
                    0,
                    0,
                    0,
                    0,
                    0,
                    0,
                    0,
                    0,
                    0,
                    0,
                    0,
                    0,
                    0,
                    0,
                    0,
                    0,
                    0,
                    0,
                    0,
                    0,
                    0,
                    0,
                    0,
                    0,
                    0,
                    0,
                    0,
                    0,
                    0,
                    0,
                    0,
                    0,
                    0,
                    0,
                    0,
                    0,
                    0,
                    0,
                    0,
                    0,
                    0,
                    0,
                    0,
                    0,
                    0,
                    0,
                    0,
                    0,
                    0,
                    0,
                    0,
                    0,
                    0,
                    0,
                    0,
                    0,
                    0,
                    0,
                    0,
                    0,
                    0,
                    0,
                    0,
                    0,
                    0,
                    0,
                    0,
                    0,
                    0,
                    0,
                    0,
                    0,
                    0,
                    0,
                    0,
                    0,
                    0,
                    0,
                    0,
                    1,
                    1,
                    1,
                    1,
                    1,
                    1,
                    1,
                    1,
                    1,
                    1,
                    1,
                    1,
                    1,
                    1,
                    1,
                    1,
                    1,
                    1,
                    1,
                    1,
                    1,
                    1,
                    1,
                    1,
                    1,
                    1,
                    1,
                    1,
                    1,
                    1,
                    1,
                    1,
                    1,
                    1,
                    1,
                    1,
                    1,
                    1,
                    1,
                    1,
                    1,
                    1,
                    1,
                    1,
                    1,
                    1,
                    1,
                    1,
                    1,
                    1,
                    1,
                    1,
                    1,
                    0,
                    0,
                    0,
                    1,
                    1,
                    0,
                    0,
                    0,
                    0,
                    0,
                    0,
                    0,
                    0,
                    0,
                    1,
                    0,
                    0,
                    0,
                    0,
                    0,
                    0,
                    0,
                    0,
                    0,
                    0,
                    0,
                    0,
                    0,
                    1,
                    0,
                    0,
                    0,
                    0,
                    0,
                    0,
                    0,
                    0,
                    0,
                    0,
                    0,
                    0,
                    0,
                    0,
                    0,
                    1,
                    0,
                    0,
                    0,
                    0,
                    1,
                    0,
                    0,
                    0,
                    0,
                    0,
                    0,
                    0,
                    0,
                    1,
                    0,
                    0,
                    0,
                    0,
                    0,
                    0,
                    0,
                    0,
                    0,
                    0,
                    0,
                    0,
                    0,
                    1,
                    1,
                    0,
                    0,
                    0,
                    1,
                    0,
                    0,
                    0,
                    0,
                    0,
                    0,
                    0,
                    0,
                    0,
                    0,
                    0,
                    0,
                    0,
                    0,
                    0,
                    0,
                    0,
                    0,
                    0,
                    0,
                    0,
                    0,
                    0,
                    1,
                    1,
                    0,
                    0,
                    0,
                    1,
                    1,
                    1,
                    0,
                    1,
                    1,
                    1,
                    1,
                    1,
                    1,
                    1,
                    1,
                    0,
                    0,
                    1,
                    1,
                    1,
                    1,
                    1,
                    1,
                    1,
                    1,
                    1,
                    1,
                    1,
                    1,
                    1,
                    1,
                    1,
                    1,
                    1,
                    1,
                    1,
                    1,
                    1,
                    1,
                    1,
                    1,
                    1,
                    1,
                    1,
                    1,
                    1,
                    1,
                    1,
                    1,
                    1,
                    1,
                    1,
                    1,
                    1,
                    1,
                    1,
                    1,
                    1,
                    1,
                    1,
                    1,
                    1,
                    1,
                    1,
                    1,
                    1,
                    1,
                    1,
                    1,
                    1,
                    1,
                    1,
                    1,
                    1,
                    1,
                    1,
                    1,
                    1,
                    1,
                    1,
                    1,
                    1,
                    1,
                    1,
                    1,
                    1,
                    1,
                    1,
                    1,
                    1,
                    1,
                    1,
                    1,
                    1,
                    1,
                    1,
                    1,
                    0,
                    1,
                    1,
                    1,
                    1,
                    1,
                    1,
                    1,
                    1,
                    1,
                    1,
                    1,
                    1,
                    1,
                    1,
                    1,
                    1,
                    1,
                    1,
                    1,
                    1,
                    1,
                    1,
                    1,
                    1,
                    1,
                    1,
                    1,
                    1,
                    1,
                    1,
                    1,
                    1,
                    1,
                    1,
                    1,
                    1,
                    1,
                    1,
                    1,
                    1,
                    1,
                    1,
                    1,
                    1,
                    1,
                    1,
                    1,
                    1,
                    1,
                    1,
                    1,
                    1,
                    1,
                    1,
                    1,
                    1,
                    1,
                    1,
                    1,
                    1,
                    1,
                    1,
                    1,
                    1,
                    1,
                    1,
                    1,
                    1,
                    1,
                    1,
                    1,
                    1,
                    1,
                    1,
                    1,
                    1,
                    1,
                    1,
                    1,
                    1,
                    1,
                    1,
                    1,
                    1,
                    1,
                    1,
                    1,
                    1,
                    1,
                    1,
                    1,
                    1,
                    1,
                    1,
                    1,
                    1,
                    1,
                    1,
                    1,
                    1,
                    1,
                    1,
                    1,
                    1,
                    1,
                    1,
                    1,
                    1,
                    1,
                    1,
                    1,
                    1,
                    1,
                    1,
                    1,
                    1,
                    1,
                    1,
                    1,
                    1,
                    1,
                    1,
                    1,
                    1,
                    1,
                    1,
                    1,
                    1,
                    1,
                    1,
                    1,
                    1,
                    1,
                    1,
                    1,
                    1,
                    1,
                    1,
                    1,
                    1,
                    1,
                    1,
                    1,
                    1,
                    1,
                    1,
                    1,
                    1,
                    1,
                    1,
                    1,
                    1,
                    1,
                    1,
                    1,
                    1,
                    1,
                    1,
                    1,
                    1,
                    1,
                    1,
                    1,
                    1,
                    1,
                    1,
                    1,
                    1,
                    1,
                    1,
                    1,
                    1,
                    1,
                    1,
                    1,
                    1,
                    1,
                    1,
                    1,
                    1,
                    1,
                    1,
                    1,
                    1,
                    1,
                    1,
                    1,
                    1,
                    1,
                    1,
                    1,
                    1,
                    1,
                    1,
                    1,
                    1,
                    1,
                    1,
                    1,
                    1,
                    1,
                    1,
                    1,
                    1,
                    1,
                    1,
                    1,
                    1,
                    1,
                    1,
                    1,
                    1,
                    1,
                    1,
                    1,
                    1,
                    1,
                    1,
                    1,
                    1,
                    1,
                    1,
                    1,
                    1,
                    1,
                    1,
                    1,
                    1,
                    1,
                    1,
                    1,
                    1,
                    1,
                    1,
                    1,
                    1,
                    1,
                    1,
                    1,
                    1,
                    1,
                    1,
                    1,
                    1,
                    1,
                    1,
                    1,
                    1,
                    1,
                    1,
                    1,
                    1,
                    1,
                    1,
                    1,
                    1,
                    1,
                    1,
                    1,
                    1,
                    1,
                    1,
                    1,
                    1,
                    1,
                    1,
                    1,
                    1,
                    1,
                    1,
                    1,
                    1,
                    1,
                    1,
                    1,
                    1,
                    1,
                    1,
                    1,
                    1,
                    1,
                    1,
                    1,
                    1,
                    1,
                    1,
                    1,
                    1,
                    1,
                    1,
                    1,
                    1,
                    1,
                    1,
                    0,
                    0,
                    0,
                    0,
                    0,
                    0,
                    0,
                    0,
                    0,
                    0,
                    0,
                    0,
                    0,
                    0,
                    0,
                    0,
                    0,
                    0,
                    0,
                    0,
                    0,
                    0,
                    0,
                    0,
                    0,
                    0,
                    0,
                    0,
                    1,
                    1,
                    1,
                    1,
                    1,
                    1,
                    1,
                    1,
                    1,
                    1,
                    1,
                    1,
                    1,
                    1,
                    1,
                    1,
                    1,
                    1,
                    1,
                    1,
                    1,
                    1,
                    1,
                    1,
                    1,
                    1,
                    1,
                    1,
                    1,
                    1,
                    1,
                    1,
                    1,
                    1,
                    1,
                    1,
                    1,
                    1,
                    1,
                    1,
                    1,
                    1,
                    1,
                    1,
                    1,
                    1,
                    1,
                    1,
                    1,
                    1,
                    1,
                    1,
                    1,
                    1,
                    1,
                    1,
                    1,
                    1,
                    1,
                    1,
                    1,
                    1,
                    1,
                    1,
                    1,
                    1,
                    1,
                    1,
                    1,
                    1,
                    1,
                    1,
                    1,
                    1,
                    1,
                    1,
                    1,
                    1,
                    1,
                    1,
                    1,
                    1,
                    1,
                    1,
                    1,
                    1,
                    1,
                    0,
                    0,
                    0,
                    0,
                    0,
                    0,
                    0,
                    0,
                    0,
                    1,
                    1,
                    1,
                    1,
                    1,
                    1,
                    1,
                    1,
                    1,
                    1,
                    1,
                    1,
                    1,
                    1,
                    1,
                    1,
                    1,
                    1,
                    1,
                    1,
                    1,
                    1,
                    1,
                    1,
                    1,
                    1,
                    1,
                    1,
                    1,
                    1,
                    1,
                    1,
                    1,
                    1,
                    1,
                    1,
                    1,
                    1,
                    1,
                    1,
                    1,
                    1,
                    1,
                    1,
                    1,
                    1,
                    1,
                    1,
                    1,
                    1,
                    1,
                    1,
                    1,
                    1,
                    1,
                    1,
                    1,
                    1,
                    1,
                    1,
                    1,
                    1,
                    1,
                    1,
                    1,
                    1,
                    1,
                    1,
                    1,
                    1,
                    1,
                    1,
                    1,
                    1,
                    1,
                    1,
                    1,
                    1,
                    1,
                    1,
                    1,
                    1,
                    1,
                    1,
                    1,
                    1,
                    1,
                    1,
                    1,
                    1,
                    1,
                    1,
                    1,
                    1,
                    1,
                    1,
                    1,
                    1,
                    1,
                    1,
                    1,
                    1,
                    1,
                    1,
                    1,
                    1,
                    1,
                    1,
                    1,
                    1,
                    1,
                    1,
                    1,
                    1,
                    1,
                    1,
                    1,
                    1,
                    1,
                    1,
                    1,
                    1,
                    1,
                    1,
                    1,
                    1,
                    1,
                    1,
                    1,
                    1,
                    1,
                    1,
                    1,
                    1,
                    1,
                    1,
                    1,
                    1,
                    1,
                    1,
                    1,
                    1,
                    1,
                    1,
                    1,
                    1,
                    1,
                    1,
                    1,
                    1,
                    1,
                    1,
                    1,
                    1,
                    1,
                    1,
                    1,
                    1,
                    1,
                    1,
                    1,
                    1,
                    1,
                    1,
                    1,
                    1,
                    1,
                    1,
                    1,
                    1,
                    1,
                    1,
                    1,
                    1,
                    1,
                    1,
                    1,
                    1,
                    1,
                    1,
                    1,
                    1,
                    1,
                    1,
                    1,
                    1,
                    1,
                    1,
                    1,
                    1,
                    1,
                    1,
                    1,
                    1,
                    1,
                    1,
                    1,
                    1,
                    1,
                    1,
                    1,
                    1,
                    1,
                    1,
                    1,
                    1,
                    1,
                    1,
                    1,
                    1,
                    1,
                    1,
                    1,
                    1,
                    1,
                    1,
                    1,
                    1,
                    1,
                    1,
                    1,
                    1,
                    1,
                    1,
                    1,
                    1,
                    1,
                    1,
                    1,
                    1,
                    1,
                    1,
                    1,
                    1,
                    1,
                    1,
                    1,
                    1,
                    1,
                    1,
                    1,
                    1,
                    1,
                    1,
                    1,
                    1,
                    1,
                    1,
                    1,
                    1,
                    1,
                    1,
                    1,
                    1,
                    1,
                    1,
                    1,
                    1,
                    1,
                    1,
                    1,
                    1,
                    1,
                    1,
                    1,
                    1,
                    1,
                    1,
                    1,
                    1,
                    1,
                    1,
                    1,
                    1,
                    1,
                    1,
                    1,
                    1,
                    1,
                    1,
                    1,
                    1,
                    1,
                    1,
                    1,
                    1,
                    1,
                    1,
                    1,
                    1,
                    1,
                    1,
                    1,
                    1,
                    1,
                    1,
                    1,
                    1,
                    1,
                    1,
                    1,
                    1,
                    1,
                    1,
                    1,
                    1,
                    1,
                    1,
                    1,
                    1,
                    1,
                    1,
                    1,
                    1,
                    1,
                    1,
                    1,
                    1,
                    1,
                    1,
                    1,
                    1,
                    0,
                    0,
                    0,
                    0,
                    0,
                    1,
                    1,
                    1,
                    1,
                    1,
                    1,
                    1,
                    1,
                    1,
                    1,
                    1,
                    1,
                    1,
                    1,
                    1,
                    1,
                    1,
                    1,
                    1,
                    1,
                    1,
                    1,
                    1,
                    1,
                    1,
                    1,
                    1,
                    1,
                    1,
                    1,
                    1,
                    1,
                    1,
                    1,
                    1,
                    1,
                    1,
                    1,
                    1,
                    1,
                    1,
                    1,
                    1,
                    1,
                    1,
                    1,
                    1,
                    1,
                    1,
                    1,
                    1,
                    1,
                    1,
                    1,
                    1,
                    1,
                    1,
                    1,
                    1,
                    1,
                    1,
                    1,
                    1,
                    1,
                    1,
                    1,
                    1,
                    1,
                    1,
                    1,
                    1,
                    1,
                    1,
                    1,
                    1,
                    1,
                    1,
                    1,
                    1,
                    1,
                    1,
                    1,
                    1,
                    1,
                    1,
                    1,
                    1,
                    1,
                    1,
                    1,
                    1,
                    1,
                    1,
                    1,
                    1,
                    1,
                    1,
                    1,
                    1,
                    1,
                    1,
                    0,
                    0,
                    0,
                    0,
                    0,
                    0,
                    0,
                    0,
                    0,
                    0,
                    0,
                    0,
                    0,
                    0,
                    0,
                    0,
                    0,
                    0,
                    0,
                    0,
                    0,
                    0,
                    0,
                    0,
                    0,
                    0,
                    0,
                    0,
                    0,
                    0,
                    0,
                    0,
                    0,
                    0,
                    0,
                    0,
                    0,
                    0,
                    0,
                    0,
                    0,
                    0,
                    0,
                    0,
                    0,
                    0,
                    0,
                    1,
                    1,
                    1,
                    1,
                    1,
                    1,
                    1,
                    1,
                    1,
                    1,
                    1,
                    1,
                    1,
                    1,
                    1,
                    1,
                    1,
                    1,
                    1,
                    1,
                    1,
                    1,
                    1,
                    1,
                    1,
                    1,
                    1,
                    1,
                    1,
                    1,
                    1,
                    1,
                    1,
                    1,
                    1,
                    1,
                    1,
                    1,
                    1,
                    1,
                    1,
                    1,
                    1,
                    1,
                    1,
                    1,
                    1,
                    1,
                    1,
                    1,
                    1,
                    1,
                    1,
                    1,
                    1,
                    1,
                    1,
                    1,
                    1,
                    1,
                    1,
                    1,
                    1,
                    1,
                    1,
                    1,
                    1,
                    1,
                    1,
                    1,
                    1,
                    1,
                    1,
                    1,
                    1,
                    1,
                    1,
                    1,
                    1,
                    1,
                    1,
                    1,
                    1,
                    1,
                    1,
                    1,
                    1,
                    1,
                    1,
                    1,
                    1,
                    1,
                    1,
                    1,
                    1,
                    1,
                    1,
                    1,
                    1,
                    1,
                    1,
                    1,
                    1,
                    1,
                    1,
                    1,
                    1,
                    1,
                    1,
                    1,
                    1,
                    1,
                    1,
                    1,
                    1,
                    1,
                    1,
                    1,
                    1,
                    1,
                    1,
                    1,
                    1,
                    1,
                    1,
                    1,
                    1,
                    1,
                    1,
                    1,
                    1,
                    1,
                    1,
                    1,
                    1,
                    1,
                    1,
                    1,
                    1,
                    1,
                    1,
                    1,
                    1,
                    1,
                    1,
                    1,
                    1,
                    1,
                    1,
                    1,
                    1,
                    1,
                    1,
                    1,
                    1,
                    1,
                    1,
                    1,
                    1,
                    1,
                    1,
                    1,
                    1,
                    1,
                    1,
                    1,
                    1,
                    1,
                    1,
                    1,
                    1,
                    1,
                    1,
                    1,
                    1,
                    1,
                    1,
                    1,
                    1,
                    1,
                    1,
                    1,
                    1,
                    1,
                    1,
                    1,
                    1,
                    1,
                    1,
                    1,
                    1,
                    1,
                    1,
                    1,
                    1,
                    1,
                    1,
                    1,
                    1,
                    1,
                    1,
                    1,
                    1,
                    1,
                    1,
                    1,
                    1,
                    1,
                    1,
                    1,
                    1,
                    1,
                    1,
                    1,
                    1,
                    1,
                    1,
                    1,
                    1,
                    1,
                    1,
                    1,
                    1,
                    1,
                    1,
                    1,
                    1,
                    1,
                    1,
                    1,
                    1,
                    1,
                    1,
                    1,
                    1,
                    1,
                    1,
                    1,
                    1,
                    1,
                    1,
                    1,
                    1,
                    1,
                    1,
                    1,
                    1,
                    1,
                    1,
                    1,
                    1,
                    1,
                    1,
                    1,
                    1,
                    1,
                    1,
                    1,
                    1,
                    1,
                    1,
                    1,
                    1,
                    1,
                    1,
                    1,
                    1,
                    1,
                    1,
                    1,
                    1,
                    1,
                    1,
                    1,
                    1,
                    1,
                    1,
                    1,
                    1,
                    1,
                    1,
                    1,
                    1,
                    1,
                    1,
                    1,
                    1,
                    1,
                    1,
                    1,
                    1,
                    1,
                    1,
                    1,
                    1,
                    1,
                    1,
                    1,
                    1,
                    1,
                    1,
                    1,
                    1,
                    1,
                    1,
                    1,
                    1,
                    1,
                    1,
                    1,
                    1,
                    1,
                    1,
                    1,
                    1,
                    1,
                    1,
                    1,
                    1,
                    1,
                    1,
                    1,
                    1,
                    1,
                    1,
                    1,
                    1,
                    0,
                    0,
                    0,
                    1,
                    1,
                    1,
                    1,
                    1,
                    1,
                    1,
                    1,
                    1,
                    1,
                    1,
                    1,
                    1,
                    1,
                    1,
                    1,
                    1,
                    0,
                    1,
                    0,
                    1,
                    0,
                    0,
                    0,
                    0,
                    0,
                    0,
                    0,
                    0,
                    0,
                    0,
                    0,
                    0,
                    0,
                    0,
                    0,
                    0,
                    0,
                    0,
                    1,
                    0,
                    1,
                    1,
                    1,
                    1,
                    1,
                    0,
                    1,
                    1,
                    1,
                    1,
                    1,
                    1,
                    1,
                    1,
                    1,
                    1,
                    0,
                    1,
                    0,
                    0,
                    0,
                    1,
                    1,
                    1,
                    1,
                    1,
                    1,
                    1,
                    0,
                    0,
                    0,
                    0,
                    0,
                    0,
                    0,
                    0,
                    0,
                    0,
                    0,
                    0,
                    0,
                    0,
                    0,
                    0,
                    0,
                    0,
                    0,
                    0,
                    0,
                    1,
                    1,
                    1,
                    1,
                    1,
                    0,
                    0,
                    1,
                    0,
                    1,
                    0,
                    0,
                    0,
                    0,
                    0,
                    0,
                    0,
                    0,
                    0,
                    0,
                    0,
                    0,
                    0,
                    0,
                    0,
                    0,
                    0,
                    0,
                    0,
                    0,
                    0,
                    0,
                    0,
                    0,
                    0,
                    0,
                    0,
                    0,
                    0,
                    0,
                    0,
                    0,
                    0,
                    0,
                    0,
                    0,
                    0,
                    0,
                    0,
                    0,
                    0,
                    0,
                    0,
                    0,
                    0,
                    0,
                    0,
                    0,
                    0,
                    0,
                    0,
                    0,
                    0,
                    0,
                    0,
                    0,
                    0,
                    0,
                    0,
                    0,
                    0,
                    0,
                    0,
                    0,
                    0,
                    0,
                    0,
                    0,
                    0,
                    0,
                    0,
                    0,
                    0,
                    0,
                    0,
                    0,
                    0,
                    0,
                    0,
                    0,
                    0,
                    0,
                    0,
                    0,
                    0,
                    0,
                    0,
                    0,
                    0,
                    0,
                    0,
                    0,
                    0,
                    0,
                    0,
                    0,
                    0,
                    0,
                    0,
                    0,
                    1,
                    1,
                    1,
                    1,
                    1,
                    1,
                    1,
                    1,
                    1,
                    1,
                    1,
                    0,
                    0,
                    1,
                    0,
                    0,
                    0,
                    0,
                    1,
                    1,
                    1,
                    1,
                    1,
                    1,
                    1,
                    1,
                    1,
                    1,
                    1,
                    1,
                    1,
                    1,
                    1,
                    1,
                    1,
                    1,
                    1,
                    1,
                    1,
                    1,
                    1,
                    1,
                    1,
                    1,
                    1,
                    0,
                    1,
                    0,
                    0,
                    0,
                    0,
                    1,
                    1,
                    0,
                    0,
                    0,
                    0,
                    1,
                    1,
                    0,
                    0,
                    0,
                    1,
                    1,
                    1,
                    1,
                    1,
                    1,
                    1,
                    1,
                    1,
                    1,
                    1,
                    1,
                    1,
                    1,
                    1,
                    1,
                    1,
                    1,
                    1,
                    1,
                    1,
                    1,
                    1,
                    1,
                    1,
                    1,
                    1,
                    1,
                    1,
                    1,
                    1,
                    1,
                    1,
                    1,
                    1,
                    1,
                    1,
                    1,
                    1,
                    1,
                    1,
                    1,
                    1,
                    1,
                    1,
                    1,
                    1,
                    1,
                    1,
                    1,
                    1,
                    1,
                    1,
                    1,
                    1,
                    1,
                    1,
                    1,
                    1,
                    1,
                    1,
                    1,
                    1,
                    1,
                    1,
                    1,
                    1,
                    1,
                    1,
                    1,
                    1,
                    1,
                    1,
                    1,
                    1,
                    1,
                    1,
                    1,
                    1,
                    1,
                    1,
                    1,
                    1,
                    1,
                    1,
                    1,
                    1,
                    1,
                    1,
                    1,
                    1,
                    1,
                    1,
                    1,
                    1,
                    1,
                    1,
                    1,
                    1,
                    1,
                    0,
                    0,
                    0,
                    0,
                    1,
                    0,
                    0,
                    1,
                    1,
                    0,
                    1,
                    1,
                    1,
                    1,
                    1,
                    1,
                    1,
                    1,
                    1,
                    1,
                    1,
                    0,
                    1,
                    1,
                    1,
                    1,
                    1,
                    1,
                    1,
                    1,
                    0,
                    1,
                    1,
                    1,
                    1,
                    1,
                    1,
                    1,
                    1,
                    1,
                    1,
                    1,
                    1,
                    0,
                    0,
                    0,
                    0,
                    0,
                    0,
                    0,
                    1,
                    0,
                    1,
                    1,
                    0,
                    0,
                    0,
                    0,
                    0,
                    0,
                    0,
                    1,
                    1,
                    1,
                    0
                  ],
                  "xaxis": "x",
                  "y": [
                    "Real",
                    "Real",
                    "Real",
                    "Real",
                    "Real",
                    "Real",
                    "Real",
                    "Real",
                    "Real",
                    "Real",
                    "Real",
                    "Real",
                    "Real",
                    "Real",
                    "Real",
                    "Real",
                    "Real",
                    "Real",
                    "Real",
                    "Real",
                    "Real",
                    "Real",
                    "Real",
                    "Real",
                    "Real",
                    "Real",
                    "Real",
                    "Real",
                    "Real",
                    "Real",
                    "Real",
                    "Real",
                    "Real",
                    "Fake",
                    "Fake",
                    "Fake",
                    "Fake",
                    "Fake",
                    "Fake",
                    "Fake",
                    "Fake",
                    "Fake",
                    "Fake",
                    "Fake",
                    "Fake",
                    "Fake",
                    "Fake",
                    "Fake",
                    "Fake",
                    "Fake",
                    "Fake",
                    "Fake",
                    "Fake",
                    "Fake",
                    "Fake",
                    "Fake",
                    "Fake",
                    "Fake",
                    "Fake",
                    "Fake",
                    "Fake",
                    "Fake",
                    "Fake",
                    "Fake",
                    "Fake",
                    "Fake",
                    "Fake",
                    "Fake",
                    "Fake",
                    "Fake",
                    "Fake",
                    "Fake",
                    "Fake",
                    "Fake",
                    "Fake",
                    "Fake",
                    "Fake",
                    "Fake",
                    "Fake",
                    "Fake",
                    "Fake",
                    "Fake",
                    "Fake",
                    "Fake",
                    "Fake",
                    "Fake",
                    "Fake",
                    "Fake",
                    "Fake",
                    "Fake",
                    "Fake",
                    "Fake",
                    "Fake",
                    "Fake",
                    "Fake",
                    "Fake",
                    "Fake",
                    "Fake",
                    "Fake",
                    "Fake",
                    "Fake",
                    "Fake",
                    "Fake",
                    "Fake",
                    "Fake",
                    "Fake",
                    "Fake",
                    "Fake",
                    "Fake",
                    "Fake",
                    "Fake",
                    "Fake",
                    "Fake",
                    "Fake",
                    "Fake",
                    "Fake",
                    "Fake",
                    "Fake",
                    "Fake",
                    "Fake",
                    "Fake",
                    "Fake",
                    "Fake",
                    "Fake",
                    "Fake",
                    "Fake",
                    "Fake",
                    "Fake",
                    "Fake",
                    "Fake",
                    "Fake",
                    "Fake",
                    "Fake",
                    "Fake",
                    "Fake",
                    "Fake",
                    "Fake",
                    "Fake",
                    "Fake",
                    "Fake",
                    "Fake",
                    "Fake",
                    "Fake",
                    "Fake",
                    "Fake",
                    "Fake",
                    "Fake",
                    "Fake",
                    "Fake",
                    "Fake",
                    "Fake",
                    "Fake",
                    "Fake",
                    "Fake",
                    "Fake",
                    "Fake",
                    "Fake",
                    "Fake",
                    "Fake",
                    "Fake",
                    "Fake",
                    "Fake",
                    "Fake",
                    "Fake",
                    "Fake",
                    "Fake",
                    "Fake",
                    "Fake",
                    "Fake",
                    "Fake",
                    "Fake",
                    "Fake",
                    "Fake",
                    "Fake",
                    "Fake",
                    "Fake",
                    "Fake",
                    "Fake",
                    "Fake",
                    "Fake",
                    "Fake",
                    "Fake",
                    "Fake",
                    "Fake",
                    "Fake",
                    "Fake",
                    "Fake",
                    "Fake",
                    "Fake",
                    "Fake",
                    "Fake",
                    "Fake",
                    "Fake",
                    "Fake",
                    "Fake",
                    "Fake",
                    "Fake",
                    "Fake",
                    "Fake",
                    "Fake",
                    "Fake",
                    "Fake",
                    "Fake",
                    "Fake",
                    "Fake",
                    "Fake",
                    "Fake",
                    "Fake",
                    "Fake",
                    "Fake",
                    "Fake",
                    "Fake",
                    "Fake",
                    "Fake",
                    "Fake",
                    "Fake",
                    "Fake",
                    "Fake",
                    "Fake",
                    "Fake",
                    "Fake",
                    "Fake",
                    "Fake",
                    "Fake",
                    "Fake",
                    "Fake",
                    "Fake",
                    "Fake",
                    "Fake",
                    "Fake",
                    "Fake",
                    "Fake",
                    "Fake",
                    "Fake",
                    "Fake",
                    "Fake",
                    "Fake",
                    "Fake",
                    "Fake",
                    "Fake",
                    "Fake",
                    "Fake",
                    "Fake",
                    "Fake",
                    "Fake",
                    "Fake",
                    "Fake",
                    "Fake",
                    "Fake",
                    "Fake",
                    "Fake",
                    "Fake",
                    "Fake",
                    "Fake",
                    "Fake",
                    "Fake",
                    "Fake",
                    "Fake",
                    "Fake",
                    "Fake",
                    "Fake",
                    "Fake",
                    "Fake",
                    "Fake",
                    "Fake",
                    "Fake",
                    "Fake",
                    "Fake",
                    "Fake",
                    "Fake",
                    "Fake",
                    "Fake",
                    "Fake",
                    "Fake",
                    "Fake",
                    "Fake",
                    "Fake",
                    "Fake",
                    "Fake",
                    "Fake",
                    "Fake",
                    "Fake",
                    "Fake",
                    "Fake",
                    "Fake",
                    "Fake",
                    "Fake",
                    "Fake",
                    "Fake",
                    "Fake",
                    "Fake",
                    "Fake",
                    "Fake",
                    "Fake",
                    "Real",
                    "Real",
                    "Real",
                    "Real",
                    "Real",
                    "Real",
                    "Real",
                    "Real",
                    "Real",
                    "Real",
                    "Real",
                    "Real",
                    "Real",
                    "Real",
                    "Real",
                    "Real",
                    "Real",
                    "Real",
                    "Real",
                    "Real",
                    "Fake",
                    "Fake",
                    "Fake",
                    "Fake",
                    "Fake",
                    "Fake",
                    "Fake",
                    "Fake",
                    "Fake",
                    "Fake",
                    "Fake",
                    "Fake",
                    "Fake",
                    "Fake",
                    "Fake",
                    "Fake",
                    "Fake",
                    "Fake",
                    "Fake",
                    "Fake",
                    "Fake",
                    "Fake",
                    "Fake",
                    "Fake",
                    "Fake",
                    "Fake",
                    "Fake",
                    "Fake",
                    "Fake",
                    "Fake",
                    "Fake",
                    "Fake",
                    "Fake",
                    "Fake",
                    "Fake",
                    "Fake",
                    "Fake",
                    "Fake",
                    "Fake",
                    "Fake",
                    "Fake",
                    "Fake",
                    "Fake",
                    "Fake",
                    "Fake",
                    "Fake",
                    "Fake",
                    "Fake",
                    "Fake",
                    "Fake",
                    "Fake",
                    "Fake",
                    "Fake",
                    "Fake",
                    "Fake",
                    "Fake",
                    "Fake",
                    "Fake",
                    "Fake",
                    "Fake",
                    "Fake",
                    "Fake",
                    "Fake",
                    "Fake",
                    "Fake",
                    "Fake",
                    "Fake",
                    "Fake",
                    "Fake",
                    "Fake",
                    "Fake",
                    "Fake",
                    "Fake",
                    "Fake",
                    "Fake",
                    "Fake",
                    "Fake",
                    "Fake",
                    "Fake",
                    "Fake",
                    "Fake",
                    "Fake",
                    "Fake",
                    "Fake",
                    "Fake",
                    "Fake",
                    "Fake",
                    "Fake",
                    "Fake",
                    "Fake",
                    "Fake",
                    "Fake",
                    "Fake",
                    "Fake",
                    "Fake",
                    "Fake",
                    "Fake",
                    "Fake",
                    "Fake",
                    "Fake",
                    "Fake",
                    "Fake",
                    "Fake",
                    "Fake",
                    "Fake",
                    "Fake",
                    "Fake",
                    "Fake",
                    "Fake",
                    "Fake",
                    "Fake",
                    "Fake",
                    "Fake",
                    "Fake",
                    "Fake",
                    "Fake",
                    "Fake",
                    "Fake",
                    "Fake",
                    "Fake",
                    "Fake",
                    "Fake",
                    "Fake",
                    "Fake",
                    "Fake",
                    "Fake",
                    "Fake",
                    "Fake",
                    "Fake",
                    "Fake",
                    "Fake",
                    "Fake",
                    "Fake",
                    "Fake",
                    "Fake",
                    "Fake",
                    "Fake",
                    "Fake",
                    "Fake",
                    "Fake",
                    "Fake",
                    "Fake",
                    "Fake",
                    "Fake",
                    "Fake",
                    "Fake",
                    "Fake",
                    "Fake",
                    "Fake",
                    "Fake",
                    "Fake",
                    "Fake",
                    "Fake",
                    "Fake",
                    "Fake",
                    "Fake",
                    "Fake",
                    "Fake",
                    "Fake",
                    "Fake",
                    "Fake",
                    "Fake",
                    "Fake",
                    "Fake",
                    "Fake",
                    "Fake",
                    "Fake",
                    "Fake",
                    "Fake",
                    "Fake",
                    "Fake",
                    "Fake",
                    "Fake",
                    "Fake",
                    "Fake",
                    "Fake",
                    "Fake",
                    "Fake",
                    "Fake",
                    "Fake",
                    "Fake",
                    "Fake",
                    "Fake",
                    "Fake",
                    "Fake",
                    "Fake",
                    "Fake",
                    "Fake",
                    "Fake",
                    "Fake",
                    "Fake",
                    "Fake",
                    "Fake",
                    "Fake",
                    "Fake",
                    "Fake",
                    "Fake",
                    "Fake",
                    "Fake",
                    "Fake",
                    "Fake",
                    "Fake",
                    "Fake",
                    "Fake",
                    "Fake",
                    "Fake",
                    "Fake",
                    "Fake",
                    "Fake",
                    "Fake",
                    "Fake",
                    "Fake",
                    "Fake",
                    "Fake",
                    "Fake",
                    "Fake",
                    "Fake",
                    "Fake",
                    "Fake",
                    "Fake",
                    "Fake",
                    "Fake",
                    "Fake",
                    "Fake",
                    "Fake",
                    "Fake",
                    "Fake",
                    "Fake",
                    "Fake",
                    "Fake",
                    "Fake",
                    "Fake",
                    "Fake",
                    "Fake",
                    "Fake",
                    "Fake",
                    "Fake",
                    "Fake",
                    "Fake",
                    "Fake",
                    "Fake",
                    "Fake",
                    "Fake",
                    "Fake",
                    "Fake",
                    "Fake",
                    "Fake",
                    "Fake",
                    "Fake",
                    "Fake",
                    "Fake",
                    "Fake",
                    "Fake",
                    "Fake",
                    "Fake",
                    "Fake",
                    "Fake",
                    "Fake",
                    "Fake",
                    "Fake",
                    "Fake",
                    "Fake",
                    "Fake",
                    "Fake",
                    "Fake",
                    "Fake",
                    "Fake",
                    "Fake",
                    "Fake",
                    "Fake",
                    "Fake",
                    "Fake",
                    "Fake",
                    "Fake",
                    "Fake",
                    "Fake",
                    "Fake",
                    "Fake",
                    "Fake",
                    "Fake",
                    "Fake",
                    "Fake",
                    "Fake",
                    "Fake",
                    "Fake",
                    "Fake",
                    "Fake",
                    "Fake",
                    "Fake",
                    "Fake",
                    "Fake",
                    "Fake",
                    "Fake",
                    "Fake",
                    "Fake",
                    "Fake",
                    "Fake",
                    "Fake",
                    "Fake",
                    "Fake",
                    "Fake",
                    "Fake",
                    "Fake",
                    "Fake",
                    "Fake",
                    "Fake",
                    "Fake",
                    "Fake",
                    "Fake",
                    "Fake",
                    "Fake",
                    "Fake",
                    "Fake",
                    "Fake",
                    "Fake",
                    "Fake",
                    "Fake",
                    "Fake",
                    "Fake",
                    "Fake",
                    "Fake",
                    "Fake",
                    "Fake",
                    "Fake",
                    "Fake",
                    "Fake",
                    "Fake",
                    "Fake",
                    "Fake",
                    "Fake",
                    "Fake",
                    "Fake",
                    "Fake",
                    "Fake",
                    "Fake",
                    "Fake",
                    "Fake",
                    "Fake",
                    "Fake",
                    "Fake",
                    "Fake",
                    "Fake",
                    "Fake",
                    "Fake",
                    "Fake",
                    "Fake",
                    "Fake",
                    "Fake",
                    "Fake",
                    "Fake",
                    "Fake",
                    "Fake",
                    "Fake",
                    "Fake",
                    "Fake",
                    "Fake",
                    "Fake",
                    "Fake",
                    "Fake",
                    "Fake",
                    "Fake",
                    "Fake",
                    "Fake",
                    "Fake",
                    "Fake",
                    "Fake",
                    "Fake",
                    "Fake",
                    "Fake",
                    "Fake",
                    "Fake",
                    "Fake",
                    "Fake",
                    "Fake",
                    "Fake",
                    "Fake",
                    "Fake",
                    "Fake",
                    "Fake",
                    "Fake",
                    "Fake",
                    "Fake",
                    "Fake",
                    "Fake",
                    "Fake",
                    "Fake",
                    "Fake",
                    "Fake",
                    "Fake",
                    "Fake",
                    "Fake",
                    "Fake",
                    "Fake",
                    "Fake",
                    "Fake",
                    "Fake",
                    "Fake",
                    "Fake",
                    "Fake",
                    "Fake",
                    "Fake",
                    "Fake",
                    "Fake",
                    "Fake",
                    "Fake",
                    "Fake",
                    "Fake",
                    "Fake",
                    "Fake",
                    "Real",
                    "Real",
                    "Real",
                    "Real",
                    "Real",
                    "Real",
                    "Real",
                    "Real",
                    "Real",
                    "Real",
                    "Real",
                    "Real",
                    "Real",
                    "Real",
                    "Real",
                    "Real",
                    "Real",
                    "Real",
                    "Real",
                    "Real",
                    "Real",
                    "Real",
                    "Real",
                    "Real",
                    "Real",
                    "Real",
                    "Real",
                    "Real",
                    "Real",
                    "Real",
                    "Real",
                    "Real",
                    "Real",
                    "Real",
                    "Real",
                    "Real",
                    "Real",
                    "Real",
                    "Real",
                    "Real",
                    "Real",
                    "Real",
                    "Real",
                    "Real",
                    "Real",
                    "Real",
                    "Real",
                    "Real",
                    "Real",
                    "Real",
                    "Real",
                    "Real",
                    "Real",
                    "Real",
                    "Real",
                    "Real",
                    "Real",
                    "Real",
                    "Real",
                    "Real",
                    "Real",
                    "Real",
                    "Real",
                    "Real",
                    "Real",
                    "Real",
                    "Real",
                    "Real",
                    "Real",
                    "Real",
                    "Real",
                    "Real",
                    "Real",
                    "Real",
                    "Real",
                    "Real",
                    "Real",
                    "Real",
                    "Real",
                    "Real",
                    "Real",
                    "Fake",
                    "Fake",
                    "Fake",
                    "Fake",
                    "Fake",
                    "Fake",
                    "Fake",
                    "Fake",
                    "Fake",
                    "Real",
                    "Real",
                    "Real",
                    "Real",
                    "Real",
                    "Real",
                    "Real",
                    "Real",
                    "Real",
                    "Real",
                    "Real",
                    "Real",
                    "Real",
                    "Real",
                    "Real",
                    "Real",
                    "Real",
                    "Real",
                    "Real",
                    "Real",
                    "Real",
                    "Real",
                    "Real",
                    "Real",
                    "Real",
                    "Real",
                    "Real",
                    "Real",
                    "Real",
                    "Real",
                    "Real",
                    "Real",
                    "Real",
                    "Real",
                    "Real",
                    "Real",
                    "Real",
                    "Real",
                    "Real",
                    "Real",
                    "Real",
                    "Real",
                    "Real",
                    "Real",
                    "Fake",
                    "Fake",
                    "Fake",
                    "Fake",
                    "Fake",
                    "Fake",
                    "Fake",
                    "Fake",
                    "Fake",
                    "Fake",
                    "Fake",
                    "Fake",
                    "Fake",
                    "Fake",
                    "Fake",
                    "Fake",
                    "Fake",
                    "Fake",
                    "Fake",
                    "Fake",
                    "Fake",
                    "Fake",
                    "Fake",
                    "Fake",
                    "Fake",
                    "Fake",
                    "Fake",
                    "Fake",
                    "Fake",
                    "Fake",
                    "Fake",
                    "Fake",
                    "Fake",
                    "Fake",
                    "Fake",
                    "Fake",
                    "Fake",
                    "Fake",
                    "Fake",
                    "Fake",
                    "Fake",
                    "Fake",
                    "Fake",
                    "Fake",
                    "Fake",
                    "Fake",
                    "Fake",
                    "Fake",
                    "Fake",
                    "Fake",
                    "Fake",
                    "Fake",
                    "Fake",
                    "Fake",
                    "Fake",
                    "Fake",
                    "Fake",
                    "Fake",
                    "Fake",
                    "Fake",
                    "Fake",
                    "Fake",
                    "Fake",
                    "Fake",
                    "Fake",
                    "Fake",
                    "Fake",
                    "Fake",
                    "Fake",
                    "Fake",
                    "Fake",
                    "Fake",
                    "Fake",
                    "Fake",
                    "Fake",
                    "Fake",
                    "Fake",
                    "Fake",
                    "Fake",
                    "Fake",
                    "Fake",
                    "Fake",
                    "Fake",
                    "Fake",
                    "Fake",
                    "Fake",
                    "Fake",
                    "Fake",
                    "Fake",
                    "Fake",
                    "Fake",
                    "Fake",
                    "Fake",
                    "Fake",
                    "Fake",
                    "Fake",
                    "Fake",
                    "Fake",
                    "Fake",
                    "Fake",
                    "Fake",
                    "Fake",
                    "Fake",
                    "Fake",
                    "Fake",
                    "Fake",
                    "Fake",
                    "Fake",
                    "Fake",
                    "Fake",
                    "Fake",
                    "Fake",
                    "Fake",
                    "Fake",
                    "Fake",
                    "Fake",
                    "Fake",
                    "Fake",
                    "Fake",
                    "Fake",
                    "Fake",
                    "Fake",
                    "Fake",
                    "Fake",
                    "Fake",
                    "Fake",
                    "Fake",
                    "Fake",
                    "Fake",
                    "Fake",
                    "Fake",
                    "Fake",
                    "Fake",
                    "Fake",
                    "Fake",
                    "Fake",
                    "Fake",
                    "Fake",
                    "Fake",
                    "Fake",
                    "Fake",
                    "Fake",
                    "Fake",
                    "Fake",
                    "Fake",
                    "Fake",
                    "Fake",
                    "Fake",
                    "Fake",
                    "Fake",
                    "Fake",
                    "Fake",
                    "Fake",
                    "Fake",
                    "Fake",
                    "Fake",
                    "Fake",
                    "Fake",
                    "Fake",
                    "Fake",
                    "Fake",
                    "Fake",
                    "Fake",
                    "Fake",
                    "Fake",
                    "Fake",
                    "Fake",
                    "Fake",
                    "Fake",
                    "Fake",
                    "Fake",
                    "Fake",
                    "Fake",
                    "Fake",
                    "Fake",
                    "Fake",
                    "Fake",
                    "Fake",
                    "Real",
                    "Real",
                    "Real",
                    "Real",
                    "Real",
                    "Real",
                    "Real",
                    "Real",
                    "Real",
                    "Real",
                    "Real",
                    "Real",
                    "Real",
                    "Real",
                    "Real",
                    "Real",
                    "Real",
                    "Real",
                    "Real",
                    "Real",
                    "Real",
                    "Real",
                    "Real",
                    "Real",
                    "Real",
                    "Real",
                    "Real",
                    "Real",
                    "Real",
                    "Real",
                    "Real",
                    "Real",
                    "Real",
                    "Real",
                    "Real",
                    "Real",
                    "Real",
                    "Real",
                    "Real",
                    "Real",
                    "Real",
                    "Real",
                    "Real",
                    "Real",
                    "Real",
                    "Real",
                    "Real",
                    "Real",
                    "Real",
                    "Real",
                    "Real",
                    "Real",
                    "Real",
                    "Real",
                    "Real",
                    "Real",
                    "Real",
                    "Real",
                    "Real",
                    "Real",
                    "Real",
                    "Real",
                    "Real",
                    "Real",
                    "Real",
                    "Real",
                    "Real",
                    "Real",
                    "Real",
                    "Real",
                    "Real",
                    "Real",
                    "Real",
                    "Real",
                    "Real",
                    "Real",
                    "Real",
                    "Real",
                    "Real",
                    "Real",
                    "Real",
                    "Real",
                    "Real",
                    "Real",
                    "Real",
                    "Real",
                    "Real",
                    "Real",
                    "Real",
                    "Real",
                    "Real",
                    "Real",
                    "Real",
                    "Real",
                    "Real",
                    "Real",
                    "Real",
                    "Real",
                    "Real",
                    "Real",
                    "Fake",
                    "Fake",
                    "Fake",
                    "Fake",
                    "Fake",
                    "Fake",
                    "Fake",
                    "Fake",
                    "Fake",
                    "Fake",
                    "Fake",
                    "Fake",
                    "Fake",
                    "Fake",
                    "Fake",
                    "Fake",
                    "Fake",
                    "Fake",
                    "Fake",
                    "Fake",
                    "Fake",
                    "Fake",
                    "Fake",
                    "Fake",
                    "Fake",
                    "Fake",
                    "Fake",
                    "Fake",
                    "Fake",
                    "Fake",
                    "Fake",
                    "Fake",
                    "Fake",
                    "Fake",
                    "Fake",
                    "Fake",
                    "Fake",
                    "Fake",
                    "Fake",
                    "Fake",
                    "Fake",
                    "Fake",
                    "Fake",
                    "Fake",
                    "Fake",
                    "Fake",
                    "Fake",
                    "Fake",
                    "Fake",
                    "Fake",
                    "Fake",
                    "Fake",
                    "Fake",
                    "Fake",
                    "Fake",
                    "Fake",
                    "Fake",
                    "Fake",
                    "Fake",
                    "Fake",
                    "Fake",
                    "Fake",
                    "Fake",
                    "Fake",
                    "Fake",
                    "Fake",
                    "Fake",
                    "Fake",
                    "Fake",
                    "Fake",
                    "Fake",
                    "Fake",
                    "Fake",
                    "Fake",
                    "Fake",
                    "Fake",
                    "Fake",
                    "Fake",
                    "Fake",
                    "Fake",
                    "Fake",
                    "Fake",
                    "Fake",
                    "Fake",
                    "Fake",
                    "Fake",
                    "Fake",
                    "Fake",
                    "Fake",
                    "Fake",
                    "Fake",
                    "Fake",
                    "Fake",
                    "Fake",
                    "Fake",
                    "Fake",
                    "Fake",
                    "Fake",
                    "Fake",
                    "Fake",
                    "Fake",
                    "Fake",
                    "Fake",
                    "Fake",
                    "Fake",
                    "Fake",
                    "Fake",
                    "Fake",
                    "Fake",
                    "Fake",
                    "Fake",
                    "Fake",
                    "Fake",
                    "Fake",
                    "Fake",
                    "Fake",
                    "Fake",
                    "Fake",
                    "Fake",
                    "Fake",
                    "Fake",
                    "Fake",
                    "Fake",
                    "Fake",
                    "Fake",
                    "Fake",
                    "Fake",
                    "Fake",
                    "Fake",
                    "Fake",
                    "Fake",
                    "Fake",
                    "Fake",
                    "Fake",
                    "Fake",
                    "Fake",
                    "Fake",
                    "Fake",
                    "Fake",
                    "Fake",
                    "Fake",
                    "Fake",
                    "Fake",
                    "Fake",
                    "Fake",
                    "Fake",
                    "Fake",
                    "Fake",
                    "Fake",
                    "Fake",
                    "Fake",
                    "Fake",
                    "Fake",
                    "Fake",
                    "Fake",
                    "Fake",
                    "Fake",
                    "Fake",
                    "Fake",
                    "Fake",
                    "Fake",
                    "Fake",
                    "Fake",
                    "Fake",
                    "Fake",
                    "Fake",
                    "Fake",
                    "Fake",
                    "Fake",
                    "Fake",
                    "Fake",
                    "Fake",
                    "Fake",
                    "Fake",
                    "Fake",
                    "Fake",
                    "Fake",
                    "Fake",
                    "Fake",
                    "Fake",
                    "Fake",
                    "Fake",
                    "Fake",
                    "Fake",
                    "Fake",
                    "Fake",
                    "Fake",
                    "Fake",
                    "Fake",
                    "Fake",
                    "Fake",
                    "Fake",
                    "Fake",
                    "Fake",
                    "Fake",
                    "Fake",
                    "Fake",
                    "Fake",
                    "Fake",
                    "Fake",
                    "Fake",
                    "Fake",
                    "Fake",
                    "Fake",
                    "Fake",
                    "Fake",
                    "Fake",
                    "Fake",
                    "Fake",
                    "Fake",
                    "Fake",
                    "Fake",
                    "Fake",
                    "Fake",
                    "Fake",
                    "Fake",
                    "Fake",
                    "Fake",
                    "Fake",
                    "Fake",
                    "Fake",
                    "Fake",
                    "Fake",
                    "Fake",
                    "Fake",
                    "Fake",
                    "Fake",
                    "Fake",
                    "Fake",
                    "Fake",
                    "Fake",
                    "Fake",
                    "Fake",
                    "Fake",
                    "Fake",
                    "Fake",
                    "Fake",
                    "Fake",
                    "Fake",
                    "Fake",
                    "Fake",
                    "Fake",
                    "Fake",
                    "Fake",
                    "Fake",
                    "Fake",
                    "Fake",
                    "Fake",
                    "Fake",
                    "Fake",
                    "Fake",
                    "Fake",
                    "Fake",
                    "Fake",
                    "Fake",
                    "Fake",
                    "Fake",
                    "Fake",
                    "Fake",
                    "Real",
                    "Real",
                    "Real",
                    "Real",
                    "Real",
                    "Real",
                    "Real",
                    "Real",
                    "Real",
                    "Real",
                    "Real",
                    "Real",
                    "Real",
                    "Real",
                    "Real",
                    "Real",
                    "Real",
                    "Real",
                    "Real",
                    "Real",
                    "Real",
                    "Real",
                    "Real",
                    "Real",
                    "Real",
                    "Real",
                    "Real",
                    "Real",
                    "Real",
                    "Real",
                    "Real",
                    "Real",
                    "Real",
                    "Real",
                    "Real",
                    "Real",
                    "Real",
                    "Real",
                    "Real",
                    "Real",
                    "Real",
                    "Real",
                    "Real",
                    "Real",
                    "Real",
                    "Real",
                    "Real",
                    "Real",
                    "Real",
                    "Real",
                    "Real",
                    "Real",
                    "Real",
                    "Real",
                    "Real",
                    "Real",
                    "Real",
                    "Real",
                    "Real",
                    "Real",
                    "Real",
                    "Real",
                    "Real",
                    "Real",
                    "Real",
                    "Real",
                    "Real",
                    "Real",
                    "Real",
                    "Real",
                    "Real",
                    "Real",
                    "Real",
                    "Real",
                    "Real",
                    "Real",
                    "Real",
                    "Real",
                    "Real",
                    "Real",
                    "Real",
                    "Real",
                    "Real",
                    "Real",
                    "Real",
                    "Real",
                    "Real",
                    "Real",
                    "Real",
                    "Real",
                    "Real",
                    "Real",
                    "Real",
                    "Real",
                    "Real",
                    "Real",
                    "Real",
                    "Real",
                    "Real",
                    "Real",
                    "Real",
                    "Real",
                    "Real",
                    "Real",
                    "Real",
                    "Real",
                    "Real",
                    "Real",
                    "Real",
                    "Real",
                    "Real",
                    "Real",
                    "Real",
                    "Real",
                    "Real",
                    "Real",
                    "Real",
                    "Real",
                    "Real",
                    "Real",
                    "Real",
                    "Real",
                    "Real",
                    "Real",
                    "Real",
                    "Real",
                    "Real",
                    "Real",
                    "Real",
                    "Real",
                    "Real",
                    "Real",
                    "Real",
                    "Real",
                    "Real",
                    "Real",
                    "Real",
                    "Real",
                    "Real",
                    "Real",
                    "Real",
                    "Real",
                    "Real",
                    "Real",
                    "Real",
                    "Real",
                    "Real",
                    "Real",
                    "Real",
                    "Real",
                    "Real",
                    "Real",
                    "Real",
                    "Real",
                    "Real",
                    "Real",
                    "Real",
                    "Real",
                    "Real",
                    "Real",
                    "Real",
                    "Real",
                    "Real",
                    "Real",
                    "Real",
                    "Real",
                    "Real",
                    "Real",
                    "Real",
                    "Real",
                    "Real",
                    "Real",
                    "Real",
                    "Real",
                    "Real",
                    "Real",
                    "Real",
                    "Real",
                    "Real",
                    "Real",
                    "Real",
                    "Real",
                    "Real",
                    "Real",
                    "Real",
                    "Real",
                    "Real",
                    "Real",
                    "Real",
                    "Real",
                    "Real",
                    "Real",
                    "Real",
                    "Real",
                    "Real",
                    "Real",
                    "Real",
                    "Real",
                    "Real",
                    "Real",
                    "Real",
                    "Real",
                    "Real",
                    "Real",
                    "Real",
                    "Real",
                    "Real",
                    "Real",
                    "Real",
                    "Real",
                    "Real",
                    "Real",
                    "Real",
                    "Real",
                    "Real",
                    "Real",
                    "Real",
                    "Real",
                    "Real",
                    "Real",
                    "Real",
                    "Fake",
                    "Fake",
                    "Fake",
                    "Fake",
                    "Fake",
                    "Fake",
                    "Fake",
                    "Fake",
                    "Fake",
                    "Fake",
                    "Fake",
                    "Fake",
                    "Fake",
                    "Fake",
                    "Fake",
                    "Fake",
                    "Fake",
                    "Fake",
                    "Fake",
                    "Fake",
                    "Fake",
                    "Fake",
                    "Fake",
                    "Fake",
                    "Fake",
                    "Fake",
                    "Fake",
                    "Fake",
                    "Fake",
                    "Fake",
                    "Fake",
                    "Fake",
                    "Fake",
                    "Fake",
                    "Fake",
                    "Fake",
                    "Fake",
                    "Fake",
                    "Fake",
                    "Fake",
                    "Fake",
                    "Fake",
                    "Fake",
                    "Fake",
                    "Fake",
                    "Fake",
                    "Fake",
                    "Fake",
                    "Fake",
                    "Fake",
                    "Fake",
                    "Fake",
                    "Fake",
                    "Fake",
                    "Fake",
                    "Fake",
                    "Fake",
                    "Fake",
                    "Fake",
                    "Fake",
                    "Fake",
                    "Fake",
                    "Fake",
                    "Fake",
                    "Fake",
                    "Fake",
                    "Fake",
                    "Fake",
                    "Fake",
                    "Fake",
                    "Fake",
                    "Fake",
                    "Fake",
                    "Fake",
                    "Fake",
                    "Fake",
                    "Fake",
                    "Fake",
                    "Fake",
                    "Fake",
                    "Fake",
                    "Fake",
                    "Fake",
                    "Fake",
                    "Fake",
                    "Fake",
                    "Fake",
                    "Fake",
                    "Fake",
                    "Fake",
                    "Fake",
                    "Fake",
                    "Fake",
                    "Fake",
                    "Fake",
                    "Fake",
                    "Fake",
                    "Fake",
                    "Fake",
                    "Fake",
                    "Real",
                    "Fake",
                    "Real",
                    "Real",
                    "Real",
                    "Real",
                    "Real",
                    "Real",
                    "Real",
                    "Real",
                    "Real",
                    "Real",
                    "Real",
                    "Real",
                    "Real",
                    "Real",
                    "Real",
                    "Real",
                    "Real",
                    "Real",
                    "Real",
                    "Real",
                    "Real",
                    "Real",
                    "Real",
                    "Real",
                    "Real",
                    "Real",
                    "Real",
                    "Real",
                    "Real",
                    "Real",
                    "Real",
                    "Real",
                    "Real",
                    "Real",
                    "Real",
                    "Real",
                    "Real",
                    "Real",
                    "Real",
                    "Real",
                    "Real",
                    "Real",
                    "Real",
                    "Real",
                    "Real",
                    "Real",
                    "Real",
                    "Real",
                    "Real",
                    "Real",
                    "Real",
                    "Real",
                    "Real",
                    "Real",
                    "Real",
                    "Real",
                    "Real",
                    "Real",
                    "Real",
                    "Real",
                    "Real",
                    "Real",
                    "Real",
                    "Real",
                    "Real",
                    "Real",
                    "Real",
                    "Real",
                    "Real",
                    "Real",
                    "Real",
                    "Real",
                    "Real",
                    "Real",
                    "Real",
                    "Real",
                    "Real",
                    "Real",
                    "Real",
                    "Real",
                    "Real",
                    "Real",
                    "Real",
                    "Real",
                    "Real",
                    "Real",
                    "Real",
                    "Real",
                    "Real",
                    "Real",
                    "Real",
                    "Real",
                    "Real",
                    "Real",
                    "Real",
                    "Real",
                    "Real",
                    "Real",
                    "Real",
                    "Real",
                    "Real",
                    "Fake",
                    "Fake",
                    "Fake",
                    "Fake",
                    "Fake",
                    "Fake",
                    "Fake",
                    "Fake",
                    "Fake",
                    "Fake",
                    "Fake",
                    "Fake",
                    "Fake",
                    "Fake",
                    "Fake",
                    "Fake",
                    "Fake",
                    "Fake",
                    "Fake",
                    "Fake",
                    "Fake",
                    "Fake",
                    "Fake",
                    "Fake",
                    "Fake",
                    "Fake",
                    "Fake",
                    "Fake",
                    "Fake",
                    "Fake",
                    "Fake",
                    "Fake",
                    "Fake",
                    "Fake",
                    "Fake",
                    "Fake",
                    "Fake",
                    "Fake",
                    "Fake",
                    "Fake",
                    "Fake",
                    "Fake",
                    "Fake",
                    "Fake",
                    "Fake",
                    "Fake",
                    "Fake",
                    "Fake",
                    "Fake",
                    "Fake",
                    "Fake",
                    "Fake",
                    "Fake",
                    "Fake",
                    "Fake",
                    "Fake",
                    "Fake",
                    "Fake",
                    "Fake",
                    "Fake",
                    "Fake",
                    "Fake",
                    "Real",
                    "Real",
                    "Real",
                    "Real",
                    "Real",
                    "Real",
                    "Real",
                    "Real",
                    "Real",
                    "Real",
                    "Real",
                    "Real",
                    "Real",
                    "Real",
                    "Real",
                    "Real",
                    "Real",
                    "Real",
                    "Real",
                    "Real",
                    "Real",
                    "Real",
                    "Real",
                    "Real",
                    "Real",
                    "Real",
                    "Real",
                    "Real",
                    "Real",
                    "Real",
                    "Real",
                    "Real",
                    "Real",
                    "Real",
                    "Real",
                    "Real",
                    "Real",
                    "Real",
                    "Real",
                    "Real",
                    "Real",
                    "Real",
                    "Real",
                    "Real",
                    "Real",
                    "Real",
                    "Real",
                    "Real",
                    "Real",
                    "Real",
                    "Real",
                    "Real",
                    "Real",
                    "Real",
                    "Real",
                    "Real",
                    "Real",
                    "Real",
                    "Real",
                    "Real",
                    "Real",
                    "Real",
                    "Real",
                    "Real",
                    "Real",
                    "Real",
                    "Real",
                    "Real",
                    "Real",
                    "Real",
                    "Real",
                    "Real",
                    "Real",
                    "Real",
                    "Real",
                    "Real",
                    "Real",
                    "Real",
                    "Real",
                    "Real",
                    "Real",
                    "Real",
                    "Real",
                    "Real",
                    "Real",
                    "Real",
                    "Real",
                    "Real",
                    "Real",
                    "Real",
                    "Real",
                    "Real",
                    "Real",
                    "Real",
                    "Real",
                    "Real",
                    "Real",
                    "Real",
                    "Real",
                    "Real",
                    "Fake",
                    "Fake",
                    "Fake",
                    "Fake",
                    "Fake",
                    "Fake",
                    "Fake",
                    "Fake",
                    "Fake",
                    "Fake",
                    "Fake",
                    "Fake",
                    "Real",
                    "Real",
                    "Real",
                    "Real",
                    "Real",
                    "Real",
                    "Real",
                    "Real",
                    "Real",
                    "Real",
                    "Real",
                    "Real",
                    "Real",
                    "Real",
                    "Real",
                    "Real",
                    "Real",
                    "Real",
                    "Real",
                    "Real",
                    "Real",
                    "Real",
                    "Real",
                    "Real",
                    "Real",
                    "Real",
                    "Real",
                    "Real",
                    "Real",
                    "Real",
                    "Real",
                    "Real",
                    "Real",
                    "Real",
                    "Real",
                    "Real",
                    "Real",
                    "Real",
                    "Real",
                    "Real",
                    "Real",
                    "Real",
                    "Real",
                    "Real",
                    "Real",
                    "Real",
                    "Real",
                    "Real",
                    "Real",
                    "Real",
                    "Real",
                    "Real",
                    "Real"
                  ],
                  "yaxis": "y",
                  "type": "bar"
                }
              ],
              "layout": {
                "template": {
                  "data": {
                    "histogram2dcontour": [
                      {
                        "type": "histogram2dcontour",
                        "colorbar": {
                          "outlinewidth": 0,
                          "ticks": ""
                        },
                        "colorscale": [
                          [
                            0,
                            "#0d0887"
                          ],
                          [
                            0.1111111111111111,
                            "#46039f"
                          ],
                          [
                            0.2222222222222222,
                            "#7201a8"
                          ],
                          [
                            0.3333333333333333,
                            "#9c179e"
                          ],
                          [
                            0.4444444444444444,
                            "#bd3786"
                          ],
                          [
                            0.5555555555555556,
                            "#d8576b"
                          ],
                          [
                            0.6666666666666666,
                            "#ed7953"
                          ],
                          [
                            0.7777777777777778,
                            "#fb9f3a"
                          ],
                          [
                            0.8888888888888888,
                            "#fdca26"
                          ],
                          [
                            1,
                            "#f0f921"
                          ]
                        ]
                      }
                    ],
                    "choropleth": [
                      {
                        "type": "choropleth",
                        "colorbar": {
                          "outlinewidth": 0,
                          "ticks": ""
                        }
                      }
                    ],
                    "histogram2d": [
                      {
                        "type": "histogram2d",
                        "colorbar": {
                          "outlinewidth": 0,
                          "ticks": ""
                        },
                        "colorscale": [
                          [
                            0,
                            "#0d0887"
                          ],
                          [
                            0.1111111111111111,
                            "#46039f"
                          ],
                          [
                            0.2222222222222222,
                            "#7201a8"
                          ],
                          [
                            0.3333333333333333,
                            "#9c179e"
                          ],
                          [
                            0.4444444444444444,
                            "#bd3786"
                          ],
                          [
                            0.5555555555555556,
                            "#d8576b"
                          ],
                          [
                            0.6666666666666666,
                            "#ed7953"
                          ],
                          [
                            0.7777777777777778,
                            "#fb9f3a"
                          ],
                          [
                            0.8888888888888888,
                            "#fdca26"
                          ],
                          [
                            1,
                            "#f0f921"
                          ]
                        ]
                      }
                    ],
                    "heatmap": [
                      {
                        "type": "heatmap",
                        "colorbar": {
                          "outlinewidth": 0,
                          "ticks": ""
                        },
                        "colorscale": [
                          [
                            0,
                            "#0d0887"
                          ],
                          [
                            0.1111111111111111,
                            "#46039f"
                          ],
                          [
                            0.2222222222222222,
                            "#7201a8"
                          ],
                          [
                            0.3333333333333333,
                            "#9c179e"
                          ],
                          [
                            0.4444444444444444,
                            "#bd3786"
                          ],
                          [
                            0.5555555555555556,
                            "#d8576b"
                          ],
                          [
                            0.6666666666666666,
                            "#ed7953"
                          ],
                          [
                            0.7777777777777778,
                            "#fb9f3a"
                          ],
                          [
                            0.8888888888888888,
                            "#fdca26"
                          ],
                          [
                            1,
                            "#f0f921"
                          ]
                        ]
                      }
                    ],
                    "heatmapgl": [
                      {
                        "type": "heatmapgl",
                        "colorbar": {
                          "outlinewidth": 0,
                          "ticks": ""
                        },
                        "colorscale": [
                          [
                            0,
                            "#0d0887"
                          ],
                          [
                            0.1111111111111111,
                            "#46039f"
                          ],
                          [
                            0.2222222222222222,
                            "#7201a8"
                          ],
                          [
                            0.3333333333333333,
                            "#9c179e"
                          ],
                          [
                            0.4444444444444444,
                            "#bd3786"
                          ],
                          [
                            0.5555555555555556,
                            "#d8576b"
                          ],
                          [
                            0.6666666666666666,
                            "#ed7953"
                          ],
                          [
                            0.7777777777777778,
                            "#fb9f3a"
                          ],
                          [
                            0.8888888888888888,
                            "#fdca26"
                          ],
                          [
                            1,
                            "#f0f921"
                          ]
                        ]
                      }
                    ],
                    "contourcarpet": [
                      {
                        "type": "contourcarpet",
                        "colorbar": {
                          "outlinewidth": 0,
                          "ticks": ""
                        }
                      }
                    ],
                    "contour": [
                      {
                        "type": "contour",
                        "colorbar": {
                          "outlinewidth": 0,
                          "ticks": ""
                        },
                        "colorscale": [
                          [
                            0,
                            "#0d0887"
                          ],
                          [
                            0.1111111111111111,
                            "#46039f"
                          ],
                          [
                            0.2222222222222222,
                            "#7201a8"
                          ],
                          [
                            0.3333333333333333,
                            "#9c179e"
                          ],
                          [
                            0.4444444444444444,
                            "#bd3786"
                          ],
                          [
                            0.5555555555555556,
                            "#d8576b"
                          ],
                          [
                            0.6666666666666666,
                            "#ed7953"
                          ],
                          [
                            0.7777777777777778,
                            "#fb9f3a"
                          ],
                          [
                            0.8888888888888888,
                            "#fdca26"
                          ],
                          [
                            1,
                            "#f0f921"
                          ]
                        ]
                      }
                    ],
                    "surface": [
                      {
                        "type": "surface",
                        "colorbar": {
                          "outlinewidth": 0,
                          "ticks": ""
                        },
                        "colorscale": [
                          [
                            0,
                            "#0d0887"
                          ],
                          [
                            0.1111111111111111,
                            "#46039f"
                          ],
                          [
                            0.2222222222222222,
                            "#7201a8"
                          ],
                          [
                            0.3333333333333333,
                            "#9c179e"
                          ],
                          [
                            0.4444444444444444,
                            "#bd3786"
                          ],
                          [
                            0.5555555555555556,
                            "#d8576b"
                          ],
                          [
                            0.6666666666666666,
                            "#ed7953"
                          ],
                          [
                            0.7777777777777778,
                            "#fb9f3a"
                          ],
                          [
                            0.8888888888888888,
                            "#fdca26"
                          ],
                          [
                            1,
                            "#f0f921"
                          ]
                        ]
                      }
                    ],
                    "mesh3d": [
                      {
                        "type": "mesh3d",
                        "colorbar": {
                          "outlinewidth": 0,
                          "ticks": ""
                        }
                      }
                    ],
                    "scatter": [
                      {
                        "fillpattern": {
                          "fillmode": "overlay",
                          "size": 10,
                          "solidity": 0.2
                        },
                        "type": "scatter"
                      }
                    ],
                    "parcoords": [
                      {
                        "type": "parcoords",
                        "line": {
                          "colorbar": {
                            "outlinewidth": 0,
                            "ticks": ""
                          }
                        }
                      }
                    ],
                    "scatterpolargl": [
                      {
                        "type": "scatterpolargl",
                        "marker": {
                          "colorbar": {
                            "outlinewidth": 0,
                            "ticks": ""
                          }
                        }
                      }
                    ],
                    "bar": [
                      {
                        "error_x": {
                          "color": "#2a3f5f"
                        },
                        "error_y": {
                          "color": "#2a3f5f"
                        },
                        "marker": {
                          "line": {
                            "color": "#E5ECF6",
                            "width": 0.5
                          },
                          "pattern": {
                            "fillmode": "overlay",
                            "size": 10,
                            "solidity": 0.2
                          }
                        },
                        "type": "bar"
                      }
                    ],
                    "scattergeo": [
                      {
                        "type": "scattergeo",
                        "marker": {
                          "colorbar": {
                            "outlinewidth": 0,
                            "ticks": ""
                          }
                        }
                      }
                    ],
                    "scatterpolar": [
                      {
                        "type": "scatterpolar",
                        "marker": {
                          "colorbar": {
                            "outlinewidth": 0,
                            "ticks": ""
                          }
                        }
                      }
                    ],
                    "histogram": [
                      {
                        "marker": {
                          "pattern": {
                            "fillmode": "overlay",
                            "size": 10,
                            "solidity": 0.2
                          }
                        },
                        "type": "histogram"
                      }
                    ],
                    "scattergl": [
                      {
                        "type": "scattergl",
                        "marker": {
                          "colorbar": {
                            "outlinewidth": 0,
                            "ticks": ""
                          }
                        }
                      }
                    ],
                    "scatter3d": [
                      {
                        "type": "scatter3d",
                        "line": {
                          "colorbar": {
                            "outlinewidth": 0,
                            "ticks": ""
                          }
                        },
                        "marker": {
                          "colorbar": {
                            "outlinewidth": 0,
                            "ticks": ""
                          }
                        }
                      }
                    ],
                    "scattermapbox": [
                      {
                        "type": "scattermapbox",
                        "marker": {
                          "colorbar": {
                            "outlinewidth": 0,
                            "ticks": ""
                          }
                        }
                      }
                    ],
                    "scatterternary": [
                      {
                        "type": "scatterternary",
                        "marker": {
                          "colorbar": {
                            "outlinewidth": 0,
                            "ticks": ""
                          }
                        }
                      }
                    ],
                    "scattercarpet": [
                      {
                        "type": "scattercarpet",
                        "marker": {
                          "colorbar": {
                            "outlinewidth": 0,
                            "ticks": ""
                          }
                        }
                      }
                    ],
                    "carpet": [
                      {
                        "aaxis": {
                          "endlinecolor": "#2a3f5f",
                          "gridcolor": "white",
                          "linecolor": "white",
                          "minorgridcolor": "white",
                          "startlinecolor": "#2a3f5f"
                        },
                        "baxis": {
                          "endlinecolor": "#2a3f5f",
                          "gridcolor": "white",
                          "linecolor": "white",
                          "minorgridcolor": "white",
                          "startlinecolor": "#2a3f5f"
                        },
                        "type": "carpet"
                      }
                    ],
                    "table": [
                      {
                        "cells": {
                          "fill": {
                            "color": "#EBF0F8"
                          },
                          "line": {
                            "color": "white"
                          }
                        },
                        "header": {
                          "fill": {
                            "color": "#C8D4E3"
                          },
                          "line": {
                            "color": "white"
                          }
                        },
                        "type": "table"
                      }
                    ],
                    "barpolar": [
                      {
                        "marker": {
                          "line": {
                            "color": "#E5ECF6",
                            "width": 0.5
                          },
                          "pattern": {
                            "fillmode": "overlay",
                            "size": 10,
                            "solidity": 0.2
                          }
                        },
                        "type": "barpolar"
                      }
                    ],
                    "pie": [
                      {
                        "automargin": true,
                        "type": "pie"
                      }
                    ]
                  },
                  "layout": {
                    "autotypenumbers": "strict",
                    "colorway": [
                      "#636efa",
                      "#EF553B",
                      "#00cc96",
                      "#ab63fa",
                      "#FFA15A",
                      "#19d3f3",
                      "#FF6692",
                      "#B6E880",
                      "#FF97FF",
                      "#FECB52"
                    ],
                    "font": {
                      "color": "#2a3f5f"
                    },
                    "hovermode": "closest",
                    "hoverlabel": {
                      "align": "left"
                    },
                    "paper_bgcolor": "white",
                    "plot_bgcolor": "#E5ECF6",
                    "polar": {
                      "bgcolor": "#E5ECF6",
                      "angularaxis": {
                        "gridcolor": "white",
                        "linecolor": "white",
                        "ticks": ""
                      },
                      "radialaxis": {
                        "gridcolor": "white",
                        "linecolor": "white",
                        "ticks": ""
                      }
                    },
                    "ternary": {
                      "bgcolor": "#E5ECF6",
                      "aaxis": {
                        "gridcolor": "white",
                        "linecolor": "white",
                        "ticks": ""
                      },
                      "baxis": {
                        "gridcolor": "white",
                        "linecolor": "white",
                        "ticks": ""
                      },
                      "caxis": {
                        "gridcolor": "white",
                        "linecolor": "white",
                        "ticks": ""
                      }
                    },
                    "coloraxis": {
                      "colorbar": {
                        "outlinewidth": 0,
                        "ticks": ""
                      }
                    },
                    "colorscale": {
                      "sequential": [
                        [
                          0,
                          "#0d0887"
                        ],
                        [
                          0.1111111111111111,
                          "#46039f"
                        ],
                        [
                          0.2222222222222222,
                          "#7201a8"
                        ],
                        [
                          0.3333333333333333,
                          "#9c179e"
                        ],
                        [
                          0.4444444444444444,
                          "#bd3786"
                        ],
                        [
                          0.5555555555555556,
                          "#d8576b"
                        ],
                        [
                          0.6666666666666666,
                          "#ed7953"
                        ],
                        [
                          0.7777777777777778,
                          "#fb9f3a"
                        ],
                        [
                          0.8888888888888888,
                          "#fdca26"
                        ],
                        [
                          1,
                          "#f0f921"
                        ]
                      ],
                      "sequentialminus": [
                        [
                          0,
                          "#0d0887"
                        ],
                        [
                          0.1111111111111111,
                          "#46039f"
                        ],
                        [
                          0.2222222222222222,
                          "#7201a8"
                        ],
                        [
                          0.3333333333333333,
                          "#9c179e"
                        ],
                        [
                          0.4444444444444444,
                          "#bd3786"
                        ],
                        [
                          0.5555555555555556,
                          "#d8576b"
                        ],
                        [
                          0.6666666666666666,
                          "#ed7953"
                        ],
                        [
                          0.7777777777777778,
                          "#fb9f3a"
                        ],
                        [
                          0.8888888888888888,
                          "#fdca26"
                        ],
                        [
                          1,
                          "#f0f921"
                        ]
                      ],
                      "diverging": [
                        [
                          0,
                          "#8e0152"
                        ],
                        [
                          0.1,
                          "#c51b7d"
                        ],
                        [
                          0.2,
                          "#de77ae"
                        ],
                        [
                          0.3,
                          "#f1b6da"
                        ],
                        [
                          0.4,
                          "#fde0ef"
                        ],
                        [
                          0.5,
                          "#f7f7f7"
                        ],
                        [
                          0.6,
                          "#e6f5d0"
                        ],
                        [
                          0.7,
                          "#b8e186"
                        ],
                        [
                          0.8,
                          "#7fbc41"
                        ],
                        [
                          0.9,
                          "#4d9221"
                        ],
                        [
                          1,
                          "#276419"
                        ]
                      ]
                    },
                    "xaxis": {
                      "gridcolor": "white",
                      "linecolor": "white",
                      "ticks": "",
                      "title": {
                        "standoff": 15
                      },
                      "zerolinecolor": "white",
                      "automargin": true,
                      "zerolinewidth": 2
                    },
                    "yaxis": {
                      "gridcolor": "white",
                      "linecolor": "white",
                      "ticks": "",
                      "title": {
                        "standoff": 15
                      },
                      "zerolinecolor": "white",
                      "automargin": true,
                      "zerolinewidth": 2
                    },
                    "scene": {
                      "xaxis": {
                        "backgroundcolor": "#E5ECF6",
                        "gridcolor": "white",
                        "linecolor": "white",
                        "showbackground": true,
                        "ticks": "",
                        "zerolinecolor": "white",
                        "gridwidth": 2
                      },
                      "yaxis": {
                        "backgroundcolor": "#E5ECF6",
                        "gridcolor": "white",
                        "linecolor": "white",
                        "showbackground": true,
                        "ticks": "",
                        "zerolinecolor": "white",
                        "gridwidth": 2
                      },
                      "zaxis": {
                        "backgroundcolor": "#E5ECF6",
                        "gridcolor": "white",
                        "linecolor": "white",
                        "showbackground": true,
                        "ticks": "",
                        "zerolinecolor": "white",
                        "gridwidth": 2
                      }
                    },
                    "shapedefaults": {
                      "line": {
                        "color": "#2a3f5f"
                      }
                    },
                    "annotationdefaults": {
                      "arrowcolor": "#2a3f5f",
                      "arrowhead": 0,
                      "arrowwidth": 1
                    },
                    "geo": {
                      "bgcolor": "white",
                      "landcolor": "#E5ECF6",
                      "subunitcolor": "white",
                      "showland": true,
                      "showlakes": true,
                      "lakecolor": "white"
                    },
                    "title": {
                      "x": 0.05
                    },
                    "mapbox": {
                      "style": "light"
                    }
                  }
                },
                "xaxis": {
                  "anchor": "y",
                  "domain": [
                    0,
                    1
                  ],
                  "title": {
                    "text": "hasImage"
                  }
                },
                "yaxis": {
                  "anchor": "x",
                  "domain": [
                    0,
                    1
                  ],
                  "title": {
                    "text": "label"
                  }
                },
                "legend": {
                  "tracegroupgap": 0
                },
                "title": {
                  "text": "Articles including images vs Label"
                },
                "barmode": "relative"
              },
              "config": {
                "plotlyServerURL": "https://plot.ly"
              }
            },
            "text/html": [
              "<div>                            <div id=\"fbe43ca0-183a-4231-b8f3-1e325bc1a05a\" class=\"plotly-graph-div\" style=\"height:525px; width:100%;\"></div>            <script type=\"text/javascript\">                require([\"plotly\"], function(Plotly) {                    window.PLOTLYENV=window.PLOTLYENV || {};                                    if (document.getElementById(\"fbe43ca0-183a-4231-b8f3-1e325bc1a05a\")) {                    Plotly.newPlot(                        \"fbe43ca0-183a-4231-b8f3-1e325bc1a05a\",                        [{\"alignmentgroup\":\"True\",\"hovertemplate\":\"hasImage=%{x}\\u003cbr\\u003elabel=%{y}\\u003cextra\\u003e\\u003c\\u002fextra\\u003e\",\"legendgroup\":\"\",\"marker\":{\"color\":\"#636efa\",\"pattern\":{\"shape\":\"\"}},\"name\":\"\",\"offsetgroup\":\"\",\"orientation\":\"h\",\"showlegend\":false,\"textposition\":\"auto\",\"x\":[1.0,1.0,1.0,1.0,1.0,1.0,1.0,1.0,1.0,1.0,1.0,1.0,1.0,1.0,1.0,1.0,1.0,1.0,1.0,1.0,1.0,1.0,1.0,1.0,1.0,1.0,1.0,1.0,1.0,1.0,1.0,1.0,1.0,1.0,1.0,1.0,1.0,1.0,1.0,1.0,1.0,1.0,1.0,1.0,1.0,1.0,1.0,1.0,1.0,1.0,1.0,1.0,1.0,1.0,1.0,1.0,1.0,1.0,1.0,0.0,0.0,0.0,0.0,0.0,0.0,0.0,0.0,0.0,0.0,0.0,0.0,0.0,0.0,0.0,0.0,0.0,0.0,0.0,0.0,0.0,0.0,0.0,0.0,0.0,0.0,0.0,0.0,0.0,0.0,0.0,0.0,0.0,0.0,0.0,0.0,0.0,0.0,0.0,0.0,0.0,0.0,0.0,0.0,0.0,0.0,0.0,0.0,0.0,0.0,0.0,0.0,0.0,0.0,0.0,0.0,0.0,0.0,0.0,0.0,0.0,0.0,0.0,0.0,0.0,0.0,0.0,0.0,0.0,0.0,0.0,0.0,0.0,0.0,0.0,0.0,0.0,0.0,0.0,0.0,0.0,0.0,1.0,1.0,1.0,1.0,1.0,1.0,1.0,1.0,1.0,1.0,1.0,1.0,1.0,1.0,1.0,1.0,1.0,1.0,1.0,1.0,1.0,1.0,1.0,1.0,1.0,1.0,1.0,1.0,1.0,1.0,1.0,1.0,1.0,1.0,1.0,1.0,1.0,1.0,1.0,1.0,1.0,1.0,1.0,1.0,1.0,1.0,1.0,1.0,1.0,1.0,1.0,1.0,1.0,0.0,0.0,0.0,1.0,1.0,0.0,0.0,0.0,0.0,0.0,0.0,0.0,0.0,0.0,1.0,0.0,0.0,0.0,0.0,0.0,0.0,0.0,0.0,0.0,0.0,0.0,0.0,0.0,1.0,0.0,0.0,0.0,0.0,0.0,0.0,0.0,0.0,0.0,0.0,0.0,0.0,0.0,0.0,0.0,1.0,0.0,0.0,0.0,0.0,1.0,0.0,0.0,0.0,0.0,0.0,0.0,0.0,0.0,1.0,0.0,0.0,0.0,0.0,0.0,0.0,0.0,0.0,0.0,0.0,0.0,0.0,0.0,1.0,1.0,0.0,0.0,0.0,1.0,0.0,0.0,0.0,0.0,0.0,0.0,0.0,0.0,0.0,0.0,0.0,0.0,0.0,0.0,0.0,0.0,0.0,0.0,0.0,0.0,0.0,0.0,0.0,1.0,1.0,0.0,0.0,0.0,1.0,1.0,1.0,0.0,1.0,1.0,1.0,1.0,1.0,1.0,1.0,1.0,0.0,0.0,1.0,1.0,1.0,1.0,1.0,1.0,1.0,1.0,1.0,1.0,1.0,1.0,1.0,1.0,1.0,1.0,1.0,1.0,1.0,1.0,1.0,1.0,1.0,1.0,1.0,1.0,1.0,1.0,1.0,1.0,1.0,1.0,1.0,1.0,1.0,1.0,1.0,1.0,1.0,1.0,1.0,1.0,1.0,1.0,1.0,1.0,1.0,1.0,1.0,1.0,1.0,1.0,1.0,1.0,1.0,1.0,1.0,1.0,1.0,1.0,1.0,1.0,1.0,1.0,1.0,1.0,1.0,1.0,1.0,1.0,1.0,1.0,1.0,1.0,1.0,1.0,1.0,1.0,1.0,1.0,0.0,1.0,1.0,1.0,1.0,1.0,1.0,1.0,1.0,1.0,1.0,1.0,1.0,1.0,1.0,1.0,1.0,1.0,1.0,1.0,1.0,1.0,1.0,1.0,1.0,1.0,1.0,1.0,1.0,1.0,1.0,1.0,1.0,1.0,1.0,1.0,1.0,1.0,1.0,1.0,1.0,1.0,1.0,1.0,1.0,1.0,1.0,1.0,1.0,1.0,1.0,1.0,1.0,1.0,1.0,1.0,1.0,1.0,1.0,1.0,1.0,1.0,1.0,1.0,1.0,1.0,1.0,1.0,1.0,1.0,1.0,1.0,1.0,1.0,1.0,1.0,1.0,1.0,1.0,1.0,1.0,1.0,1.0,1.0,1.0,1.0,1.0,1.0,1.0,1.0,1.0,1.0,1.0,1.0,1.0,1.0,1.0,1.0,1.0,1.0,1.0,1.0,1.0,1.0,1.0,1.0,1.0,1.0,1.0,1.0,1.0,1.0,1.0,1.0,1.0,1.0,1.0,1.0,1.0,1.0,1.0,1.0,1.0,1.0,1.0,1.0,1.0,1.0,1.0,1.0,1.0,1.0,1.0,1.0,1.0,1.0,1.0,1.0,1.0,1.0,1.0,1.0,1.0,1.0,1.0,1.0,1.0,1.0,1.0,1.0,1.0,1.0,1.0,1.0,1.0,1.0,1.0,1.0,1.0,1.0,1.0,1.0,1.0,1.0,1.0,1.0,1.0,1.0,1.0,1.0,1.0,1.0,1.0,1.0,1.0,1.0,1.0,1.0,1.0,1.0,1.0,1.0,1.0,1.0,1.0,1.0,1.0,1.0,1.0,1.0,1.0,1.0,1.0,1.0,1.0,1.0,1.0,1.0,1.0,1.0,1.0,1.0,1.0,1.0,1.0,1.0,1.0,1.0,1.0,1.0,1.0,1.0,1.0,1.0,1.0,1.0,1.0,1.0,1.0,1.0,1.0,1.0,1.0,1.0,1.0,1.0,1.0,1.0,1.0,1.0,1.0,1.0,1.0,1.0,1.0,1.0,1.0,1.0,1.0,1.0,1.0,1.0,1.0,1.0,1.0,1.0,1.0,1.0,1.0,1.0,1.0,1.0,1.0,1.0,1.0,1.0,1.0,1.0,1.0,1.0,1.0,1.0,1.0,1.0,1.0,1.0,1.0,1.0,1.0,1.0,1.0,1.0,1.0,1.0,1.0,1.0,1.0,1.0,1.0,1.0,1.0,1.0,1.0,1.0,1.0,1.0,1.0,1.0,1.0,1.0,1.0,1.0,1.0,1.0,1.0,0.0,0.0,0.0,0.0,0.0,0.0,0.0,0.0,0.0,0.0,0.0,0.0,0.0,0.0,0.0,0.0,0.0,0.0,0.0,0.0,0.0,0.0,0.0,0.0,0.0,0.0,0.0,0.0,1.0,1.0,1.0,1.0,1.0,1.0,1.0,1.0,1.0,1.0,1.0,1.0,1.0,1.0,1.0,1.0,1.0,1.0,1.0,1.0,1.0,1.0,1.0,1.0,1.0,1.0,1.0,1.0,1.0,1.0,1.0,1.0,1.0,1.0,1.0,1.0,1.0,1.0,1.0,1.0,1.0,1.0,1.0,1.0,1.0,1.0,1.0,1.0,1.0,1.0,1.0,1.0,1.0,1.0,1.0,1.0,1.0,1.0,1.0,1.0,1.0,1.0,1.0,1.0,1.0,1.0,1.0,1.0,1.0,1.0,1.0,1.0,1.0,1.0,1.0,1.0,1.0,1.0,1.0,1.0,1.0,1.0,1.0,1.0,1.0,1.0,1.0,0.0,0.0,0.0,0.0,0.0,0.0,0.0,0.0,0.0,1.0,1.0,1.0,1.0,1.0,1.0,1.0,1.0,1.0,1.0,1.0,1.0,1.0,1.0,1.0,1.0,1.0,1.0,1.0,1.0,1.0,1.0,1.0,1.0,1.0,1.0,1.0,1.0,1.0,1.0,1.0,1.0,1.0,1.0,1.0,1.0,1.0,1.0,1.0,1.0,1.0,1.0,1.0,1.0,1.0,1.0,1.0,1.0,1.0,1.0,1.0,1.0,1.0,1.0,1.0,1.0,1.0,1.0,1.0,1.0,1.0,1.0,1.0,1.0,1.0,1.0,1.0,1.0,1.0,1.0,1.0,1.0,1.0,1.0,1.0,1.0,1.0,1.0,1.0,1.0,1.0,1.0,1.0,1.0,1.0,1.0,1.0,1.0,1.0,1.0,1.0,1.0,1.0,1.0,1.0,1.0,1.0,1.0,1.0,1.0,1.0,1.0,1.0,1.0,1.0,1.0,1.0,1.0,1.0,1.0,1.0,1.0,1.0,1.0,1.0,1.0,1.0,1.0,1.0,1.0,1.0,1.0,1.0,1.0,1.0,1.0,1.0,1.0,1.0,1.0,1.0,1.0,1.0,1.0,1.0,1.0,1.0,1.0,1.0,1.0,1.0,1.0,1.0,1.0,1.0,1.0,1.0,1.0,1.0,1.0,1.0,1.0,1.0,1.0,1.0,1.0,1.0,1.0,1.0,1.0,1.0,1.0,1.0,1.0,1.0,1.0,1.0,1.0,1.0,1.0,1.0,1.0,1.0,1.0,1.0,1.0,1.0,1.0,1.0,1.0,1.0,1.0,1.0,1.0,1.0,1.0,1.0,1.0,1.0,1.0,1.0,1.0,1.0,1.0,1.0,1.0,1.0,1.0,1.0,1.0,1.0,1.0,1.0,1.0,1.0,1.0,1.0,1.0,1.0,1.0,1.0,1.0,1.0,1.0,1.0,1.0,1.0,1.0,1.0,1.0,1.0,1.0,1.0,1.0,1.0,1.0,1.0,1.0,1.0,1.0,1.0,1.0,1.0,1.0,1.0,1.0,1.0,1.0,1.0,1.0,1.0,1.0,1.0,1.0,1.0,1.0,1.0,1.0,1.0,1.0,1.0,1.0,1.0,1.0,1.0,1.0,1.0,1.0,1.0,1.0,1.0,1.0,1.0,1.0,1.0,1.0,1.0,1.0,1.0,1.0,1.0,1.0,1.0,1.0,1.0,1.0,1.0,1.0,1.0,1.0,1.0,1.0,1.0,1.0,1.0,1.0,1.0,1.0,1.0,1.0,1.0,1.0,1.0,1.0,1.0,1.0,1.0,1.0,1.0,1.0,1.0,1.0,1.0,1.0,1.0,1.0,1.0,1.0,1.0,1.0,1.0,1.0,1.0,1.0,1.0,1.0,1.0,1.0,1.0,1.0,1.0,1.0,0.0,0.0,0.0,0.0,0.0,1.0,1.0,1.0,1.0,1.0,1.0,1.0,1.0,1.0,1.0,1.0,1.0,1.0,1.0,1.0,1.0,1.0,1.0,1.0,1.0,1.0,1.0,1.0,1.0,1.0,1.0,1.0,1.0,1.0,1.0,1.0,1.0,1.0,1.0,1.0,1.0,1.0,1.0,1.0,1.0,1.0,1.0,1.0,1.0,1.0,1.0,1.0,1.0,1.0,1.0,1.0,1.0,1.0,1.0,1.0,1.0,1.0,1.0,1.0,1.0,1.0,1.0,1.0,1.0,1.0,1.0,1.0,1.0,1.0,1.0,1.0,1.0,1.0,1.0,1.0,1.0,1.0,1.0,1.0,1.0,1.0,1.0,1.0,1.0,1.0,1.0,1.0,1.0,1.0,1.0,1.0,1.0,1.0,1.0,1.0,1.0,1.0,1.0,1.0,1.0,1.0,0.0,0.0,0.0,0.0,0.0,0.0,0.0,0.0,0.0,0.0,0.0,0.0,0.0,0.0,0.0,0.0,0.0,0.0,0.0,0.0,0.0,0.0,0.0,0.0,0.0,0.0,0.0,0.0,0.0,0.0,0.0,0.0,0.0,0.0,0.0,0.0,0.0,0.0,0.0,0.0,0.0,0.0,0.0,0.0,0.0,0.0,0.0,1.0,1.0,1.0,1.0,1.0,1.0,1.0,1.0,1.0,1.0,1.0,1.0,1.0,1.0,1.0,1.0,1.0,1.0,1.0,1.0,1.0,1.0,1.0,1.0,1.0,1.0,1.0,1.0,1.0,1.0,1.0,1.0,1.0,1.0,1.0,1.0,1.0,1.0,1.0,1.0,1.0,1.0,1.0,1.0,1.0,1.0,1.0,1.0,1.0,1.0,1.0,1.0,1.0,1.0,1.0,1.0,1.0,1.0,1.0,1.0,1.0,1.0,1.0,1.0,1.0,1.0,1.0,1.0,1.0,1.0,1.0,1.0,1.0,1.0,1.0,1.0,1.0,1.0,1.0,1.0,1.0,1.0,1.0,1.0,1.0,1.0,1.0,1.0,1.0,1.0,1.0,1.0,1.0,1.0,1.0,1.0,1.0,1.0,1.0,1.0,1.0,1.0,1.0,1.0,1.0,1.0,1.0,1.0,1.0,1.0,1.0,1.0,1.0,1.0,1.0,1.0,1.0,1.0,1.0,1.0,1.0,1.0,1.0,1.0,1.0,1.0,1.0,1.0,1.0,1.0,1.0,1.0,1.0,1.0,1.0,1.0,1.0,1.0,1.0,1.0,1.0,1.0,1.0,1.0,1.0,1.0,1.0,1.0,1.0,1.0,1.0,1.0,1.0,1.0,1.0,1.0,1.0,1.0,1.0,1.0,1.0,1.0,1.0,1.0,1.0,1.0,1.0,1.0,1.0,1.0,1.0,1.0,1.0,1.0,1.0,1.0,1.0,1.0,1.0,1.0,1.0,1.0,1.0,1.0,1.0,1.0,1.0,1.0,1.0,1.0,1.0,1.0,1.0,1.0,1.0,1.0,1.0,1.0,1.0,1.0,1.0,1.0,1.0,1.0,1.0,1.0,1.0,1.0,1.0,1.0,1.0,1.0,1.0,1.0,1.0,1.0,1.0,1.0,1.0,1.0,1.0,1.0,1.0,1.0,1.0,1.0,1.0,1.0,1.0,1.0,1.0,1.0,1.0,1.0,1.0,1.0,1.0,1.0,1.0,1.0,1.0,1.0,1.0,1.0,1.0,1.0,1.0,1.0,1.0,1.0,1.0,1.0,1.0,1.0,1.0,1.0,1.0,1.0,1.0,1.0,1.0,1.0,1.0,1.0,1.0,1.0,1.0,1.0,1.0,1.0,1.0,1.0,1.0,1.0,1.0,1.0,1.0,1.0,1.0,1.0,1.0,1.0,1.0,1.0,1.0,1.0,1.0,1.0,1.0,1.0,1.0,1.0,1.0,1.0,1.0,1.0,1.0,1.0,1.0,1.0,1.0,1.0,1.0,1.0,1.0,1.0,1.0,1.0,1.0,1.0,1.0,1.0,1.0,1.0,1.0,1.0,1.0,1.0,1.0,1.0,1.0,1.0,1.0,1.0,1.0,1.0,1.0,0.0,0.0,0.0,1.0,1.0,1.0,1.0,1.0,1.0,1.0,1.0,1.0,1.0,1.0,1.0,1.0,1.0,1.0,1.0,1.0,0.0,1.0,0.0,1.0,0.0,0.0,0.0,0.0,0.0,0.0,0.0,0.0,0.0,0.0,0.0,0.0,0.0,0.0,0.0,0.0,0.0,0.0,1.0,0.0,1.0,1.0,1.0,1.0,1.0,0.0,1.0,1.0,1.0,1.0,1.0,1.0,1.0,1.0,1.0,1.0,0.0,1.0,0.0,0.0,0.0,1.0,1.0,1.0,1.0,1.0,1.0,1.0,0.0,0.0,0.0,0.0,0.0,0.0,0.0,0.0,0.0,0.0,0.0,0.0,0.0,0.0,0.0,0.0,0.0,0.0,0.0,0.0,0.0,1.0,1.0,1.0,1.0,1.0,0.0,0.0,1.0,0.0,1.0,0.0,0.0,0.0,0.0,0.0,0.0,0.0,0.0,0.0,0.0,0.0,0.0,0.0,0.0,0.0,0.0,0.0,0.0,0.0,0.0,0.0,0.0,0.0,0.0,0.0,0.0,0.0,0.0,0.0,0.0,0.0,0.0,0.0,0.0,0.0,0.0,0.0,0.0,0.0,0.0,0.0,0.0,0.0,0.0,0.0,0.0,0.0,0.0,0.0,0.0,0.0,0.0,0.0,0.0,0.0,0.0,0.0,0.0,0.0,0.0,0.0,0.0,0.0,0.0,0.0,0.0,0.0,0.0,0.0,0.0,0.0,0.0,0.0,0.0,0.0,0.0,0.0,0.0,0.0,0.0,0.0,0.0,0.0,0.0,0.0,0.0,0.0,0.0,0.0,0.0,0.0,0.0,0.0,0.0,0.0,0.0,0.0,0.0,0.0,0.0,1.0,1.0,1.0,1.0,1.0,1.0,1.0,1.0,1.0,1.0,1.0,0.0,0.0,1.0,0.0,0.0,0.0,0.0,1.0,1.0,1.0,1.0,1.0,1.0,1.0,1.0,1.0,1.0,1.0,1.0,1.0,1.0,1.0,1.0,1.0,1.0,1.0,1.0,1.0,1.0,1.0,1.0,1.0,1.0,1.0,0.0,1.0,0.0,0.0,0.0,0.0,1.0,1.0,0.0,0.0,0.0,0.0,1.0,1.0,0.0,0.0,0.0,1.0,1.0,1.0,1.0,1.0,1.0,1.0,1.0,1.0,1.0,1.0,1.0,1.0,1.0,1.0,1.0,1.0,1.0,1.0,1.0,1.0,1.0,1.0,1.0,1.0,1.0,1.0,1.0,1.0,1.0,1.0,1.0,1.0,1.0,1.0,1.0,1.0,1.0,1.0,1.0,1.0,1.0,1.0,1.0,1.0,1.0,1.0,1.0,1.0,1.0,1.0,1.0,1.0,1.0,1.0,1.0,1.0,1.0,1.0,1.0,1.0,1.0,1.0,1.0,1.0,1.0,1.0,1.0,1.0,1.0,1.0,1.0,1.0,1.0,1.0,1.0,1.0,1.0,1.0,1.0,1.0,1.0,1.0,1.0,1.0,1.0,1.0,1.0,1.0,1.0,1.0,1.0,1.0,1.0,1.0,1.0,1.0,1.0,1.0,1.0,0.0,0.0,0.0,0.0,1.0,0.0,0.0,1.0,1.0,0.0,1.0,1.0,1.0,1.0,1.0,1.0,1.0,1.0,1.0,1.0,1.0,0.0,1.0,1.0,1.0,1.0,1.0,1.0,1.0,1.0,0.0,1.0,1.0,1.0,1.0,1.0,1.0,1.0,1.0,1.0,1.0,1.0,1.0,0.0,0.0,0.0,0.0,0.0,0.0,0.0,1.0,0.0,1.0,1.0,0.0,0.0,0.0,0.0,0.0,0.0,0.0,1.0,1.0,1.0,0.0],\"xaxis\":\"x\",\"y\":[\"Real\",\"Real\",\"Real\",\"Real\",\"Real\",\"Real\",\"Real\",\"Real\",\"Real\",\"Real\",\"Real\",\"Real\",\"Real\",\"Real\",\"Real\",\"Real\",\"Real\",\"Real\",\"Real\",\"Real\",\"Real\",\"Real\",\"Real\",\"Real\",\"Real\",\"Real\",\"Real\",\"Real\",\"Real\",\"Real\",\"Real\",\"Real\",\"Real\",\"Fake\",\"Fake\",\"Fake\",\"Fake\",\"Fake\",\"Fake\",\"Fake\",\"Fake\",\"Fake\",\"Fake\",\"Fake\",\"Fake\",\"Fake\",\"Fake\",\"Fake\",\"Fake\",\"Fake\",\"Fake\",\"Fake\",\"Fake\",\"Fake\",\"Fake\",\"Fake\",\"Fake\",\"Fake\",\"Fake\",\"Fake\",\"Fake\",\"Fake\",\"Fake\",\"Fake\",\"Fake\",\"Fake\",\"Fake\",\"Fake\",\"Fake\",\"Fake\",\"Fake\",\"Fake\",\"Fake\",\"Fake\",\"Fake\",\"Fake\",\"Fake\",\"Fake\",\"Fake\",\"Fake\",\"Fake\",\"Fake\",\"Fake\",\"Fake\",\"Fake\",\"Fake\",\"Fake\",\"Fake\",\"Fake\",\"Fake\",\"Fake\",\"Fake\",\"Fake\",\"Fake\",\"Fake\",\"Fake\",\"Fake\",\"Fake\",\"Fake\",\"Fake\",\"Fake\",\"Fake\",\"Fake\",\"Fake\",\"Fake\",\"Fake\",\"Fake\",\"Fake\",\"Fake\",\"Fake\",\"Fake\",\"Fake\",\"Fake\",\"Fake\",\"Fake\",\"Fake\",\"Fake\",\"Fake\",\"Fake\",\"Fake\",\"Fake\",\"Fake\",\"Fake\",\"Fake\",\"Fake\",\"Fake\",\"Fake\",\"Fake\",\"Fake\",\"Fake\",\"Fake\",\"Fake\",\"Fake\",\"Fake\",\"Fake\",\"Fake\",\"Fake\",\"Fake\",\"Fake\",\"Fake\",\"Fake\",\"Fake\",\"Fake\",\"Fake\",\"Fake\",\"Fake\",\"Fake\",\"Fake\",\"Fake\",\"Fake\",\"Fake\",\"Fake\",\"Fake\",\"Fake\",\"Fake\",\"Fake\",\"Fake\",\"Fake\",\"Fake\",\"Fake\",\"Fake\",\"Fake\",\"Fake\",\"Fake\",\"Fake\",\"Fake\",\"Fake\",\"Fake\",\"Fake\",\"Fake\",\"Fake\",\"Fake\",\"Fake\",\"Fake\",\"Fake\",\"Fake\",\"Fake\",\"Fake\",\"Fake\",\"Fake\",\"Fake\",\"Fake\",\"Fake\",\"Fake\",\"Fake\",\"Fake\",\"Fake\",\"Fake\",\"Fake\",\"Fake\",\"Fake\",\"Fake\",\"Fake\",\"Fake\",\"Fake\",\"Fake\",\"Fake\",\"Fake\",\"Fake\",\"Fake\",\"Fake\",\"Fake\",\"Fake\",\"Fake\",\"Fake\",\"Fake\",\"Fake\",\"Fake\",\"Fake\",\"Fake\",\"Fake\",\"Fake\",\"Fake\",\"Fake\",\"Fake\",\"Fake\",\"Fake\",\"Fake\",\"Fake\",\"Fake\",\"Fake\",\"Fake\",\"Fake\",\"Fake\",\"Fake\",\"Fake\",\"Fake\",\"Fake\",\"Fake\",\"Fake\",\"Fake\",\"Fake\",\"Fake\",\"Fake\",\"Fake\",\"Fake\",\"Fake\",\"Fake\",\"Fake\",\"Fake\",\"Fake\",\"Fake\",\"Fake\",\"Fake\",\"Fake\",\"Fake\",\"Fake\",\"Fake\",\"Fake\",\"Fake\",\"Fake\",\"Fake\",\"Fake\",\"Fake\",\"Fake\",\"Fake\",\"Fake\",\"Fake\",\"Fake\",\"Fake\",\"Fake\",\"Fake\",\"Fake\",\"Fake\",\"Fake\",\"Fake\",\"Fake\",\"Fake\",\"Fake\",\"Fake\",\"Fake\",\"Fake\",\"Fake\",\"Fake\",\"Fake\",\"Fake\",\"Fake\",\"Fake\",\"Fake\",\"Fake\",\"Fake\",\"Fake\",\"Fake\",\"Fake\",\"Fake\",\"Fake\",\"Fake\",\"Fake\",\"Fake\",\"Fake\",\"Fake\",\"Fake\",\"Fake\",\"Fake\",\"Real\",\"Real\",\"Real\",\"Real\",\"Real\",\"Real\",\"Real\",\"Real\",\"Real\",\"Real\",\"Real\",\"Real\",\"Real\",\"Real\",\"Real\",\"Real\",\"Real\",\"Real\",\"Real\",\"Real\",\"Fake\",\"Fake\",\"Fake\",\"Fake\",\"Fake\",\"Fake\",\"Fake\",\"Fake\",\"Fake\",\"Fake\",\"Fake\",\"Fake\",\"Fake\",\"Fake\",\"Fake\",\"Fake\",\"Fake\",\"Fake\",\"Fake\",\"Fake\",\"Fake\",\"Fake\",\"Fake\",\"Fake\",\"Fake\",\"Fake\",\"Fake\",\"Fake\",\"Fake\",\"Fake\",\"Fake\",\"Fake\",\"Fake\",\"Fake\",\"Fake\",\"Fake\",\"Fake\",\"Fake\",\"Fake\",\"Fake\",\"Fake\",\"Fake\",\"Fake\",\"Fake\",\"Fake\",\"Fake\",\"Fake\",\"Fake\",\"Fake\",\"Fake\",\"Fake\",\"Fake\",\"Fake\",\"Fake\",\"Fake\",\"Fake\",\"Fake\",\"Fake\",\"Fake\",\"Fake\",\"Fake\",\"Fake\",\"Fake\",\"Fake\",\"Fake\",\"Fake\",\"Fake\",\"Fake\",\"Fake\",\"Fake\",\"Fake\",\"Fake\",\"Fake\",\"Fake\",\"Fake\",\"Fake\",\"Fake\",\"Fake\",\"Fake\",\"Fake\",\"Fake\",\"Fake\",\"Fake\",\"Fake\",\"Fake\",\"Fake\",\"Fake\",\"Fake\",\"Fake\",\"Fake\",\"Fake\",\"Fake\",\"Fake\",\"Fake\",\"Fake\",\"Fake\",\"Fake\",\"Fake\",\"Fake\",\"Fake\",\"Fake\",\"Fake\",\"Fake\",\"Fake\",\"Fake\",\"Fake\",\"Fake\",\"Fake\",\"Fake\",\"Fake\",\"Fake\",\"Fake\",\"Fake\",\"Fake\",\"Fake\",\"Fake\",\"Fake\",\"Fake\",\"Fake\",\"Fake\",\"Fake\",\"Fake\",\"Fake\",\"Fake\",\"Fake\",\"Fake\",\"Fake\",\"Fake\",\"Fake\",\"Fake\",\"Fake\",\"Fake\",\"Fake\",\"Fake\",\"Fake\",\"Fake\",\"Fake\",\"Fake\",\"Fake\",\"Fake\",\"Fake\",\"Fake\",\"Fake\",\"Fake\",\"Fake\",\"Fake\",\"Fake\",\"Fake\",\"Fake\",\"Fake\",\"Fake\",\"Fake\",\"Fake\",\"Fake\",\"Fake\",\"Fake\",\"Fake\",\"Fake\",\"Fake\",\"Fake\",\"Fake\",\"Fake\",\"Fake\",\"Fake\",\"Fake\",\"Fake\",\"Fake\",\"Fake\",\"Fake\",\"Fake\",\"Fake\",\"Fake\",\"Fake\",\"Fake\",\"Fake\",\"Fake\",\"Fake\",\"Fake\",\"Fake\",\"Fake\",\"Fake\",\"Fake\",\"Fake\",\"Fake\",\"Fake\",\"Fake\",\"Fake\",\"Fake\",\"Fake\",\"Fake\",\"Fake\",\"Fake\",\"Fake\",\"Fake\",\"Fake\",\"Fake\",\"Fake\",\"Fake\",\"Fake\",\"Fake\",\"Fake\",\"Fake\",\"Fake\",\"Fake\",\"Fake\",\"Fake\",\"Fake\",\"Fake\",\"Fake\",\"Fake\",\"Fake\",\"Fake\",\"Fake\",\"Fake\",\"Fake\",\"Fake\",\"Fake\",\"Fake\",\"Fake\",\"Fake\",\"Fake\",\"Fake\",\"Fake\",\"Fake\",\"Fake\",\"Fake\",\"Fake\",\"Fake\",\"Fake\",\"Fake\",\"Fake\",\"Fake\",\"Fake\",\"Fake\",\"Fake\",\"Fake\",\"Fake\",\"Fake\",\"Fake\",\"Fake\",\"Fake\",\"Fake\",\"Fake\",\"Fake\",\"Fake\",\"Fake\",\"Fake\",\"Fake\",\"Fake\",\"Fake\",\"Fake\",\"Fake\",\"Fake\",\"Fake\",\"Fake\",\"Fake\",\"Fake\",\"Fake\",\"Fake\",\"Fake\",\"Fake\",\"Fake\",\"Fake\",\"Fake\",\"Fake\",\"Fake\",\"Fake\",\"Fake\",\"Fake\",\"Fake\",\"Fake\",\"Fake\",\"Fake\",\"Fake\",\"Fake\",\"Fake\",\"Fake\",\"Fake\",\"Fake\",\"Fake\",\"Fake\",\"Fake\",\"Fake\",\"Fake\",\"Fake\",\"Fake\",\"Fake\",\"Fake\",\"Fake\",\"Fake\",\"Fake\",\"Fake\",\"Fake\",\"Fake\",\"Fake\",\"Fake\",\"Fake\",\"Fake\",\"Fake\",\"Fake\",\"Fake\",\"Fake\",\"Fake\",\"Fake\",\"Fake\",\"Fake\",\"Fake\",\"Fake\",\"Fake\",\"Fake\",\"Fake\",\"Fake\",\"Fake\",\"Fake\",\"Fake\",\"Fake\",\"Fake\",\"Fake\",\"Fake\",\"Fake\",\"Fake\",\"Fake\",\"Fake\",\"Fake\",\"Fake\",\"Fake\",\"Fake\",\"Fake\",\"Fake\",\"Fake\",\"Fake\",\"Fake\",\"Fake\",\"Fake\",\"Fake\",\"Fake\",\"Fake\",\"Fake\",\"Fake\",\"Fake\",\"Fake\",\"Fake\",\"Fake\",\"Fake\",\"Fake\",\"Fake\",\"Fake\",\"Fake\",\"Fake\",\"Fake\",\"Fake\",\"Fake\",\"Fake\",\"Fake\",\"Fake\",\"Fake\",\"Fake\",\"Fake\",\"Fake\",\"Fake\",\"Fake\",\"Fake\",\"Fake\",\"Fake\",\"Fake\",\"Fake\",\"Fake\",\"Fake\",\"Fake\",\"Fake\",\"Fake\",\"Fake\",\"Fake\",\"Fake\",\"Fake\",\"Fake\",\"Fake\",\"Fake\",\"Fake\",\"Fake\",\"Fake\",\"Fake\",\"Fake\",\"Fake\",\"Fake\",\"Fake\",\"Fake\",\"Fake\",\"Fake\",\"Fake\",\"Fake\",\"Fake\",\"Fake\",\"Fake\",\"Fake\",\"Fake\",\"Fake\",\"Fake\",\"Fake\",\"Fake\",\"Fake\",\"Fake\",\"Fake\",\"Fake\",\"Fake\",\"Fake\",\"Fake\",\"Fake\",\"Fake\",\"Real\",\"Real\",\"Real\",\"Real\",\"Real\",\"Real\",\"Real\",\"Real\",\"Real\",\"Real\",\"Real\",\"Real\",\"Real\",\"Real\",\"Real\",\"Real\",\"Real\",\"Real\",\"Real\",\"Real\",\"Real\",\"Real\",\"Real\",\"Real\",\"Real\",\"Real\",\"Real\",\"Real\",\"Real\",\"Real\",\"Real\",\"Real\",\"Real\",\"Real\",\"Real\",\"Real\",\"Real\",\"Real\",\"Real\",\"Real\",\"Real\",\"Real\",\"Real\",\"Real\",\"Real\",\"Real\",\"Real\",\"Real\",\"Real\",\"Real\",\"Real\",\"Real\",\"Real\",\"Real\",\"Real\",\"Real\",\"Real\",\"Real\",\"Real\",\"Real\",\"Real\",\"Real\",\"Real\",\"Real\",\"Real\",\"Real\",\"Real\",\"Real\",\"Real\",\"Real\",\"Real\",\"Real\",\"Real\",\"Real\",\"Real\",\"Real\",\"Real\",\"Real\",\"Real\",\"Real\",\"Real\",\"Fake\",\"Fake\",\"Fake\",\"Fake\",\"Fake\",\"Fake\",\"Fake\",\"Fake\",\"Fake\",\"Real\",\"Real\",\"Real\",\"Real\",\"Real\",\"Real\",\"Real\",\"Real\",\"Real\",\"Real\",\"Real\",\"Real\",\"Real\",\"Real\",\"Real\",\"Real\",\"Real\",\"Real\",\"Real\",\"Real\",\"Real\",\"Real\",\"Real\",\"Real\",\"Real\",\"Real\",\"Real\",\"Real\",\"Real\",\"Real\",\"Real\",\"Real\",\"Real\",\"Real\",\"Real\",\"Real\",\"Real\",\"Real\",\"Real\",\"Real\",\"Real\",\"Real\",\"Real\",\"Real\",\"Fake\",\"Fake\",\"Fake\",\"Fake\",\"Fake\",\"Fake\",\"Fake\",\"Fake\",\"Fake\",\"Fake\",\"Fake\",\"Fake\",\"Fake\",\"Fake\",\"Fake\",\"Fake\",\"Fake\",\"Fake\",\"Fake\",\"Fake\",\"Fake\",\"Fake\",\"Fake\",\"Fake\",\"Fake\",\"Fake\",\"Fake\",\"Fake\",\"Fake\",\"Fake\",\"Fake\",\"Fake\",\"Fake\",\"Fake\",\"Fake\",\"Fake\",\"Fake\",\"Fake\",\"Fake\",\"Fake\",\"Fake\",\"Fake\",\"Fake\",\"Fake\",\"Fake\",\"Fake\",\"Fake\",\"Fake\",\"Fake\",\"Fake\",\"Fake\",\"Fake\",\"Fake\",\"Fake\",\"Fake\",\"Fake\",\"Fake\",\"Fake\",\"Fake\",\"Fake\",\"Fake\",\"Fake\",\"Fake\",\"Fake\",\"Fake\",\"Fake\",\"Fake\",\"Fake\",\"Fake\",\"Fake\",\"Fake\",\"Fake\",\"Fake\",\"Fake\",\"Fake\",\"Fake\",\"Fake\",\"Fake\",\"Fake\",\"Fake\",\"Fake\",\"Fake\",\"Fake\",\"Fake\",\"Fake\",\"Fake\",\"Fake\",\"Fake\",\"Fake\",\"Fake\",\"Fake\",\"Fake\",\"Fake\",\"Fake\",\"Fake\",\"Fake\",\"Fake\",\"Fake\",\"Fake\",\"Fake\",\"Fake\",\"Fake\",\"Fake\",\"Fake\",\"Fake\",\"Fake\",\"Fake\",\"Fake\",\"Fake\",\"Fake\",\"Fake\",\"Fake\",\"Fake\",\"Fake\",\"Fake\",\"Fake\",\"Fake\",\"Fake\",\"Fake\",\"Fake\",\"Fake\",\"Fake\",\"Fake\",\"Fake\",\"Fake\",\"Fake\",\"Fake\",\"Fake\",\"Fake\",\"Fake\",\"Fake\",\"Fake\",\"Fake\",\"Fake\",\"Fake\",\"Fake\",\"Fake\",\"Fake\",\"Fake\",\"Fake\",\"Fake\",\"Fake\",\"Fake\",\"Fake\",\"Fake\",\"Fake\",\"Fake\",\"Fake\",\"Fake\",\"Fake\",\"Fake\",\"Fake\",\"Fake\",\"Fake\",\"Fake\",\"Fake\",\"Fake\",\"Fake\",\"Fake\",\"Fake\",\"Fake\",\"Fake\",\"Fake\",\"Fake\",\"Fake\",\"Fake\",\"Fake\",\"Fake\",\"Fake\",\"Fake\",\"Fake\",\"Fake\",\"Fake\",\"Fake\",\"Fake\",\"Fake\",\"Fake\",\"Fake\",\"Real\",\"Real\",\"Real\",\"Real\",\"Real\",\"Real\",\"Real\",\"Real\",\"Real\",\"Real\",\"Real\",\"Real\",\"Real\",\"Real\",\"Real\",\"Real\",\"Real\",\"Real\",\"Real\",\"Real\",\"Real\",\"Real\",\"Real\",\"Real\",\"Real\",\"Real\",\"Real\",\"Real\",\"Real\",\"Real\",\"Real\",\"Real\",\"Real\",\"Real\",\"Real\",\"Real\",\"Real\",\"Real\",\"Real\",\"Real\",\"Real\",\"Real\",\"Real\",\"Real\",\"Real\",\"Real\",\"Real\",\"Real\",\"Real\",\"Real\",\"Real\",\"Real\",\"Real\",\"Real\",\"Real\",\"Real\",\"Real\",\"Real\",\"Real\",\"Real\",\"Real\",\"Real\",\"Real\",\"Real\",\"Real\",\"Real\",\"Real\",\"Real\",\"Real\",\"Real\",\"Real\",\"Real\",\"Real\",\"Real\",\"Real\",\"Real\",\"Real\",\"Real\",\"Real\",\"Real\",\"Real\",\"Real\",\"Real\",\"Real\",\"Real\",\"Real\",\"Real\",\"Real\",\"Real\",\"Real\",\"Real\",\"Real\",\"Real\",\"Real\",\"Real\",\"Real\",\"Real\",\"Real\",\"Real\",\"Real\",\"Fake\",\"Fake\",\"Fake\",\"Fake\",\"Fake\",\"Fake\",\"Fake\",\"Fake\",\"Fake\",\"Fake\",\"Fake\",\"Fake\",\"Fake\",\"Fake\",\"Fake\",\"Fake\",\"Fake\",\"Fake\",\"Fake\",\"Fake\",\"Fake\",\"Fake\",\"Fake\",\"Fake\",\"Fake\",\"Fake\",\"Fake\",\"Fake\",\"Fake\",\"Fake\",\"Fake\",\"Fake\",\"Fake\",\"Fake\",\"Fake\",\"Fake\",\"Fake\",\"Fake\",\"Fake\",\"Fake\",\"Fake\",\"Fake\",\"Fake\",\"Fake\",\"Fake\",\"Fake\",\"Fake\",\"Fake\",\"Fake\",\"Fake\",\"Fake\",\"Fake\",\"Fake\",\"Fake\",\"Fake\",\"Fake\",\"Fake\",\"Fake\",\"Fake\",\"Fake\",\"Fake\",\"Fake\",\"Fake\",\"Fake\",\"Fake\",\"Fake\",\"Fake\",\"Fake\",\"Fake\",\"Fake\",\"Fake\",\"Fake\",\"Fake\",\"Fake\",\"Fake\",\"Fake\",\"Fake\",\"Fake\",\"Fake\",\"Fake\",\"Fake\",\"Fake\",\"Fake\",\"Fake\",\"Fake\",\"Fake\",\"Fake\",\"Fake\",\"Fake\",\"Fake\",\"Fake\",\"Fake\",\"Fake\",\"Fake\",\"Fake\",\"Fake\",\"Fake\",\"Fake\",\"Fake\",\"Fake\",\"Fake\",\"Fake\",\"Fake\",\"Fake\",\"Fake\",\"Fake\",\"Fake\",\"Fake\",\"Fake\",\"Fake\",\"Fake\",\"Fake\",\"Fake\",\"Fake\",\"Fake\",\"Fake\",\"Fake\",\"Fake\",\"Fake\",\"Fake\",\"Fake\",\"Fake\",\"Fake\",\"Fake\",\"Fake\",\"Fake\",\"Fake\",\"Fake\",\"Fake\",\"Fake\",\"Fake\",\"Fake\",\"Fake\",\"Fake\",\"Fake\",\"Fake\",\"Fake\",\"Fake\",\"Fake\",\"Fake\",\"Fake\",\"Fake\",\"Fake\",\"Fake\",\"Fake\",\"Fake\",\"Fake\",\"Fake\",\"Fake\",\"Fake\",\"Fake\",\"Fake\",\"Fake\",\"Fake\",\"Fake\",\"Fake\",\"Fake\",\"Fake\",\"Fake\",\"Fake\",\"Fake\",\"Fake\",\"Fake\",\"Fake\",\"Fake\",\"Fake\",\"Fake\",\"Fake\",\"Fake\",\"Fake\",\"Fake\",\"Fake\",\"Fake\",\"Fake\",\"Fake\",\"Fake\",\"Fake\",\"Fake\",\"Fake\",\"Fake\",\"Fake\",\"Fake\",\"Fake\",\"Fake\",\"Fake\",\"Fake\",\"Fake\",\"Fake\",\"Fake\",\"Fake\",\"Fake\",\"Fake\",\"Fake\",\"Fake\",\"Fake\",\"Fake\",\"Fake\",\"Fake\",\"Fake\",\"Fake\",\"Fake\",\"Fake\",\"Fake\",\"Fake\",\"Fake\",\"Fake\",\"Fake\",\"Fake\",\"Fake\",\"Fake\",\"Fake\",\"Fake\",\"Fake\",\"Fake\",\"Fake\",\"Fake\",\"Fake\",\"Fake\",\"Fake\",\"Fake\",\"Fake\",\"Fake\",\"Fake\",\"Fake\",\"Fake\",\"Fake\",\"Fake\",\"Fake\",\"Fake\",\"Fake\",\"Fake\",\"Fake\",\"Fake\",\"Fake\",\"Fake\",\"Fake\",\"Fake\",\"Fake\",\"Fake\",\"Fake\",\"Fake\",\"Fake\",\"Fake\",\"Fake\",\"Fake\",\"Fake\",\"Fake\",\"Fake\",\"Fake\",\"Fake\",\"Fake\",\"Fake\",\"Fake\",\"Fake\",\"Fake\",\"Fake\",\"Fake\",\"Fake\",\"Fake\",\"Real\",\"Real\",\"Real\",\"Real\",\"Real\",\"Real\",\"Real\",\"Real\",\"Real\",\"Real\",\"Real\",\"Real\",\"Real\",\"Real\",\"Real\",\"Real\",\"Real\",\"Real\",\"Real\",\"Real\",\"Real\",\"Real\",\"Real\",\"Real\",\"Real\",\"Real\",\"Real\",\"Real\",\"Real\",\"Real\",\"Real\",\"Real\",\"Real\",\"Real\",\"Real\",\"Real\",\"Real\",\"Real\",\"Real\",\"Real\",\"Real\",\"Real\",\"Real\",\"Real\",\"Real\",\"Real\",\"Real\",\"Real\",\"Real\",\"Real\",\"Real\",\"Real\",\"Real\",\"Real\",\"Real\",\"Real\",\"Real\",\"Real\",\"Real\",\"Real\",\"Real\",\"Real\",\"Real\",\"Real\",\"Real\",\"Real\",\"Real\",\"Real\",\"Real\",\"Real\",\"Real\",\"Real\",\"Real\",\"Real\",\"Real\",\"Real\",\"Real\",\"Real\",\"Real\",\"Real\",\"Real\",\"Real\",\"Real\",\"Real\",\"Real\",\"Real\",\"Real\",\"Real\",\"Real\",\"Real\",\"Real\",\"Real\",\"Real\",\"Real\",\"Real\",\"Real\",\"Real\",\"Real\",\"Real\",\"Real\",\"Real\",\"Real\",\"Real\",\"Real\",\"Real\",\"Real\",\"Real\",\"Real\",\"Real\",\"Real\",\"Real\",\"Real\",\"Real\",\"Real\",\"Real\",\"Real\",\"Real\",\"Real\",\"Real\",\"Real\",\"Real\",\"Real\",\"Real\",\"Real\",\"Real\",\"Real\",\"Real\",\"Real\",\"Real\",\"Real\",\"Real\",\"Real\",\"Real\",\"Real\",\"Real\",\"Real\",\"Real\",\"Real\",\"Real\",\"Real\",\"Real\",\"Real\",\"Real\",\"Real\",\"Real\",\"Real\",\"Real\",\"Real\",\"Real\",\"Real\",\"Real\",\"Real\",\"Real\",\"Real\",\"Real\",\"Real\",\"Real\",\"Real\",\"Real\",\"Real\",\"Real\",\"Real\",\"Real\",\"Real\",\"Real\",\"Real\",\"Real\",\"Real\",\"Real\",\"Real\",\"Real\",\"Real\",\"Real\",\"Real\",\"Real\",\"Real\",\"Real\",\"Real\",\"Real\",\"Real\",\"Real\",\"Real\",\"Real\",\"Real\",\"Real\",\"Real\",\"Real\",\"Real\",\"Real\",\"Real\",\"Real\",\"Real\",\"Real\",\"Real\",\"Real\",\"Real\",\"Real\",\"Real\",\"Real\",\"Real\",\"Real\",\"Real\",\"Real\",\"Real\",\"Real\",\"Real\",\"Real\",\"Real\",\"Real\",\"Real\",\"Real\",\"Real\",\"Real\",\"Real\",\"Real\",\"Real\",\"Real\",\"Real\",\"Real\",\"Real\",\"Real\",\"Fake\",\"Fake\",\"Fake\",\"Fake\",\"Fake\",\"Fake\",\"Fake\",\"Fake\",\"Fake\",\"Fake\",\"Fake\",\"Fake\",\"Fake\",\"Fake\",\"Fake\",\"Fake\",\"Fake\",\"Fake\",\"Fake\",\"Fake\",\"Fake\",\"Fake\",\"Fake\",\"Fake\",\"Fake\",\"Fake\",\"Fake\",\"Fake\",\"Fake\",\"Fake\",\"Fake\",\"Fake\",\"Fake\",\"Fake\",\"Fake\",\"Fake\",\"Fake\",\"Fake\",\"Fake\",\"Fake\",\"Fake\",\"Fake\",\"Fake\",\"Fake\",\"Fake\",\"Fake\",\"Fake\",\"Fake\",\"Fake\",\"Fake\",\"Fake\",\"Fake\",\"Fake\",\"Fake\",\"Fake\",\"Fake\",\"Fake\",\"Fake\",\"Fake\",\"Fake\",\"Fake\",\"Fake\",\"Fake\",\"Fake\",\"Fake\",\"Fake\",\"Fake\",\"Fake\",\"Fake\",\"Fake\",\"Fake\",\"Fake\",\"Fake\",\"Fake\",\"Fake\",\"Fake\",\"Fake\",\"Fake\",\"Fake\",\"Fake\",\"Fake\",\"Fake\",\"Fake\",\"Fake\",\"Fake\",\"Fake\",\"Fake\",\"Fake\",\"Fake\",\"Fake\",\"Fake\",\"Fake\",\"Fake\",\"Fake\",\"Fake\",\"Fake\",\"Fake\",\"Fake\",\"Fake\",\"Fake\",\"Real\",\"Fake\",\"Real\",\"Real\",\"Real\",\"Real\",\"Real\",\"Real\",\"Real\",\"Real\",\"Real\",\"Real\",\"Real\",\"Real\",\"Real\",\"Real\",\"Real\",\"Real\",\"Real\",\"Real\",\"Real\",\"Real\",\"Real\",\"Real\",\"Real\",\"Real\",\"Real\",\"Real\",\"Real\",\"Real\",\"Real\",\"Real\",\"Real\",\"Real\",\"Real\",\"Real\",\"Real\",\"Real\",\"Real\",\"Real\",\"Real\",\"Real\",\"Real\",\"Real\",\"Real\",\"Real\",\"Real\",\"Real\",\"Real\",\"Real\",\"Real\",\"Real\",\"Real\",\"Real\",\"Real\",\"Real\",\"Real\",\"Real\",\"Real\",\"Real\",\"Real\",\"Real\",\"Real\",\"Real\",\"Real\",\"Real\",\"Real\",\"Real\",\"Real\",\"Real\",\"Real\",\"Real\",\"Real\",\"Real\",\"Real\",\"Real\",\"Real\",\"Real\",\"Real\",\"Real\",\"Real\",\"Real\",\"Real\",\"Real\",\"Real\",\"Real\",\"Real\",\"Real\",\"Real\",\"Real\",\"Real\",\"Real\",\"Real\",\"Real\",\"Real\",\"Real\",\"Real\",\"Real\",\"Real\",\"Real\",\"Real\",\"Real\",\"Real\",\"Fake\",\"Fake\",\"Fake\",\"Fake\",\"Fake\",\"Fake\",\"Fake\",\"Fake\",\"Fake\",\"Fake\",\"Fake\",\"Fake\",\"Fake\",\"Fake\",\"Fake\",\"Fake\",\"Fake\",\"Fake\",\"Fake\",\"Fake\",\"Fake\",\"Fake\",\"Fake\",\"Fake\",\"Fake\",\"Fake\",\"Fake\",\"Fake\",\"Fake\",\"Fake\",\"Fake\",\"Fake\",\"Fake\",\"Fake\",\"Fake\",\"Fake\",\"Fake\",\"Fake\",\"Fake\",\"Fake\",\"Fake\",\"Fake\",\"Fake\",\"Fake\",\"Fake\",\"Fake\",\"Fake\",\"Fake\",\"Fake\",\"Fake\",\"Fake\",\"Fake\",\"Fake\",\"Fake\",\"Fake\",\"Fake\",\"Fake\",\"Fake\",\"Fake\",\"Fake\",\"Fake\",\"Fake\",\"Real\",\"Real\",\"Real\",\"Real\",\"Real\",\"Real\",\"Real\",\"Real\",\"Real\",\"Real\",\"Real\",\"Real\",\"Real\",\"Real\",\"Real\",\"Real\",\"Real\",\"Real\",\"Real\",\"Real\",\"Real\",\"Real\",\"Real\",\"Real\",\"Real\",\"Real\",\"Real\",\"Real\",\"Real\",\"Real\",\"Real\",\"Real\",\"Real\",\"Real\",\"Real\",\"Real\",\"Real\",\"Real\",\"Real\",\"Real\",\"Real\",\"Real\",\"Real\",\"Real\",\"Real\",\"Real\",\"Real\",\"Real\",\"Real\",\"Real\",\"Real\",\"Real\",\"Real\",\"Real\",\"Real\",\"Real\",\"Real\",\"Real\",\"Real\",\"Real\",\"Real\",\"Real\",\"Real\",\"Real\",\"Real\",\"Real\",\"Real\",\"Real\",\"Real\",\"Real\",\"Real\",\"Real\",\"Real\",\"Real\",\"Real\",\"Real\",\"Real\",\"Real\",\"Real\",\"Real\",\"Real\",\"Real\",\"Real\",\"Real\",\"Real\",\"Real\",\"Real\",\"Real\",\"Real\",\"Real\",\"Real\",\"Real\",\"Real\",\"Real\",\"Real\",\"Real\",\"Real\",\"Real\",\"Real\",\"Real\",\"Fake\",\"Fake\",\"Fake\",\"Fake\",\"Fake\",\"Fake\",\"Fake\",\"Fake\",\"Fake\",\"Fake\",\"Fake\",\"Fake\",\"Real\",\"Real\",\"Real\",\"Real\",\"Real\",\"Real\",\"Real\",\"Real\",\"Real\",\"Real\",\"Real\",\"Real\",\"Real\",\"Real\",\"Real\",\"Real\",\"Real\",\"Real\",\"Real\",\"Real\",\"Real\",\"Real\",\"Real\",\"Real\",\"Real\",\"Real\",\"Real\",\"Real\",\"Real\",\"Real\",\"Real\",\"Real\",\"Real\",\"Real\",\"Real\",\"Real\",\"Real\",\"Real\",\"Real\",\"Real\",\"Real\",\"Real\",\"Real\",\"Real\",\"Real\",\"Real\",\"Real\",\"Real\",\"Real\",\"Real\",\"Real\",\"Real\",\"Real\"],\"yaxis\":\"y\",\"type\":\"bar\"}],                        {\"template\":{\"data\":{\"histogram2dcontour\":[{\"type\":\"histogram2dcontour\",\"colorbar\":{\"outlinewidth\":0,\"ticks\":\"\"},\"colorscale\":[[0.0,\"#0d0887\"],[0.1111111111111111,\"#46039f\"],[0.2222222222222222,\"#7201a8\"],[0.3333333333333333,\"#9c179e\"],[0.4444444444444444,\"#bd3786\"],[0.5555555555555556,\"#d8576b\"],[0.6666666666666666,\"#ed7953\"],[0.7777777777777778,\"#fb9f3a\"],[0.8888888888888888,\"#fdca26\"],[1.0,\"#f0f921\"]]}],\"choropleth\":[{\"type\":\"choropleth\",\"colorbar\":{\"outlinewidth\":0,\"ticks\":\"\"}}],\"histogram2d\":[{\"type\":\"histogram2d\",\"colorbar\":{\"outlinewidth\":0,\"ticks\":\"\"},\"colorscale\":[[0.0,\"#0d0887\"],[0.1111111111111111,\"#46039f\"],[0.2222222222222222,\"#7201a8\"],[0.3333333333333333,\"#9c179e\"],[0.4444444444444444,\"#bd3786\"],[0.5555555555555556,\"#d8576b\"],[0.6666666666666666,\"#ed7953\"],[0.7777777777777778,\"#fb9f3a\"],[0.8888888888888888,\"#fdca26\"],[1.0,\"#f0f921\"]]}],\"heatmap\":[{\"type\":\"heatmap\",\"colorbar\":{\"outlinewidth\":0,\"ticks\":\"\"},\"colorscale\":[[0.0,\"#0d0887\"],[0.1111111111111111,\"#46039f\"],[0.2222222222222222,\"#7201a8\"],[0.3333333333333333,\"#9c179e\"],[0.4444444444444444,\"#bd3786\"],[0.5555555555555556,\"#d8576b\"],[0.6666666666666666,\"#ed7953\"],[0.7777777777777778,\"#fb9f3a\"],[0.8888888888888888,\"#fdca26\"],[1.0,\"#f0f921\"]]}],\"heatmapgl\":[{\"type\":\"heatmapgl\",\"colorbar\":{\"outlinewidth\":0,\"ticks\":\"\"},\"colorscale\":[[0.0,\"#0d0887\"],[0.1111111111111111,\"#46039f\"],[0.2222222222222222,\"#7201a8\"],[0.3333333333333333,\"#9c179e\"],[0.4444444444444444,\"#bd3786\"],[0.5555555555555556,\"#d8576b\"],[0.6666666666666666,\"#ed7953\"],[0.7777777777777778,\"#fb9f3a\"],[0.8888888888888888,\"#fdca26\"],[1.0,\"#f0f921\"]]}],\"contourcarpet\":[{\"type\":\"contourcarpet\",\"colorbar\":{\"outlinewidth\":0,\"ticks\":\"\"}}],\"contour\":[{\"type\":\"contour\",\"colorbar\":{\"outlinewidth\":0,\"ticks\":\"\"},\"colorscale\":[[0.0,\"#0d0887\"],[0.1111111111111111,\"#46039f\"],[0.2222222222222222,\"#7201a8\"],[0.3333333333333333,\"#9c179e\"],[0.4444444444444444,\"#bd3786\"],[0.5555555555555556,\"#d8576b\"],[0.6666666666666666,\"#ed7953\"],[0.7777777777777778,\"#fb9f3a\"],[0.8888888888888888,\"#fdca26\"],[1.0,\"#f0f921\"]]}],\"surface\":[{\"type\":\"surface\",\"colorbar\":{\"outlinewidth\":0,\"ticks\":\"\"},\"colorscale\":[[0.0,\"#0d0887\"],[0.1111111111111111,\"#46039f\"],[0.2222222222222222,\"#7201a8\"],[0.3333333333333333,\"#9c179e\"],[0.4444444444444444,\"#bd3786\"],[0.5555555555555556,\"#d8576b\"],[0.6666666666666666,\"#ed7953\"],[0.7777777777777778,\"#fb9f3a\"],[0.8888888888888888,\"#fdca26\"],[1.0,\"#f0f921\"]]}],\"mesh3d\":[{\"type\":\"mesh3d\",\"colorbar\":{\"outlinewidth\":0,\"ticks\":\"\"}}],\"scatter\":[{\"fillpattern\":{\"fillmode\":\"overlay\",\"size\":10,\"solidity\":0.2},\"type\":\"scatter\"}],\"parcoords\":[{\"type\":\"parcoords\",\"line\":{\"colorbar\":{\"outlinewidth\":0,\"ticks\":\"\"}}}],\"scatterpolargl\":[{\"type\":\"scatterpolargl\",\"marker\":{\"colorbar\":{\"outlinewidth\":0,\"ticks\":\"\"}}}],\"bar\":[{\"error_x\":{\"color\":\"#2a3f5f\"},\"error_y\":{\"color\":\"#2a3f5f\"},\"marker\":{\"line\":{\"color\":\"#E5ECF6\",\"width\":0.5},\"pattern\":{\"fillmode\":\"overlay\",\"size\":10,\"solidity\":0.2}},\"type\":\"bar\"}],\"scattergeo\":[{\"type\":\"scattergeo\",\"marker\":{\"colorbar\":{\"outlinewidth\":0,\"ticks\":\"\"}}}],\"scatterpolar\":[{\"type\":\"scatterpolar\",\"marker\":{\"colorbar\":{\"outlinewidth\":0,\"ticks\":\"\"}}}],\"histogram\":[{\"marker\":{\"pattern\":{\"fillmode\":\"overlay\",\"size\":10,\"solidity\":0.2}},\"type\":\"histogram\"}],\"scattergl\":[{\"type\":\"scattergl\",\"marker\":{\"colorbar\":{\"outlinewidth\":0,\"ticks\":\"\"}}}],\"scatter3d\":[{\"type\":\"scatter3d\",\"line\":{\"colorbar\":{\"outlinewidth\":0,\"ticks\":\"\"}},\"marker\":{\"colorbar\":{\"outlinewidth\":0,\"ticks\":\"\"}}}],\"scattermapbox\":[{\"type\":\"scattermapbox\",\"marker\":{\"colorbar\":{\"outlinewidth\":0,\"ticks\":\"\"}}}],\"scatterternary\":[{\"type\":\"scatterternary\",\"marker\":{\"colorbar\":{\"outlinewidth\":0,\"ticks\":\"\"}}}],\"scattercarpet\":[{\"type\":\"scattercarpet\",\"marker\":{\"colorbar\":{\"outlinewidth\":0,\"ticks\":\"\"}}}],\"carpet\":[{\"aaxis\":{\"endlinecolor\":\"#2a3f5f\",\"gridcolor\":\"white\",\"linecolor\":\"white\",\"minorgridcolor\":\"white\",\"startlinecolor\":\"#2a3f5f\"},\"baxis\":{\"endlinecolor\":\"#2a3f5f\",\"gridcolor\":\"white\",\"linecolor\":\"white\",\"minorgridcolor\":\"white\",\"startlinecolor\":\"#2a3f5f\"},\"type\":\"carpet\"}],\"table\":[{\"cells\":{\"fill\":{\"color\":\"#EBF0F8\"},\"line\":{\"color\":\"white\"}},\"header\":{\"fill\":{\"color\":\"#C8D4E3\"},\"line\":{\"color\":\"white\"}},\"type\":\"table\"}],\"barpolar\":[{\"marker\":{\"line\":{\"color\":\"#E5ECF6\",\"width\":0.5},\"pattern\":{\"fillmode\":\"overlay\",\"size\":10,\"solidity\":0.2}},\"type\":\"barpolar\"}],\"pie\":[{\"automargin\":true,\"type\":\"pie\"}]},\"layout\":{\"autotypenumbers\":\"strict\",\"colorway\":[\"#636efa\",\"#EF553B\",\"#00cc96\",\"#ab63fa\",\"#FFA15A\",\"#19d3f3\",\"#FF6692\",\"#B6E880\",\"#FF97FF\",\"#FECB52\"],\"font\":{\"color\":\"#2a3f5f\"},\"hovermode\":\"closest\",\"hoverlabel\":{\"align\":\"left\"},\"paper_bgcolor\":\"white\",\"plot_bgcolor\":\"#E5ECF6\",\"polar\":{\"bgcolor\":\"#E5ECF6\",\"angularaxis\":{\"gridcolor\":\"white\",\"linecolor\":\"white\",\"ticks\":\"\"},\"radialaxis\":{\"gridcolor\":\"white\",\"linecolor\":\"white\",\"ticks\":\"\"}},\"ternary\":{\"bgcolor\":\"#E5ECF6\",\"aaxis\":{\"gridcolor\":\"white\",\"linecolor\":\"white\",\"ticks\":\"\"},\"baxis\":{\"gridcolor\":\"white\",\"linecolor\":\"white\",\"ticks\":\"\"},\"caxis\":{\"gridcolor\":\"white\",\"linecolor\":\"white\",\"ticks\":\"\"}},\"coloraxis\":{\"colorbar\":{\"outlinewidth\":0,\"ticks\":\"\"}},\"colorscale\":{\"sequential\":[[0.0,\"#0d0887\"],[0.1111111111111111,\"#46039f\"],[0.2222222222222222,\"#7201a8\"],[0.3333333333333333,\"#9c179e\"],[0.4444444444444444,\"#bd3786\"],[0.5555555555555556,\"#d8576b\"],[0.6666666666666666,\"#ed7953\"],[0.7777777777777778,\"#fb9f3a\"],[0.8888888888888888,\"#fdca26\"],[1.0,\"#f0f921\"]],\"sequentialminus\":[[0.0,\"#0d0887\"],[0.1111111111111111,\"#46039f\"],[0.2222222222222222,\"#7201a8\"],[0.3333333333333333,\"#9c179e\"],[0.4444444444444444,\"#bd3786\"],[0.5555555555555556,\"#d8576b\"],[0.6666666666666666,\"#ed7953\"],[0.7777777777777778,\"#fb9f3a\"],[0.8888888888888888,\"#fdca26\"],[1.0,\"#f0f921\"]],\"diverging\":[[0,\"#8e0152\"],[0.1,\"#c51b7d\"],[0.2,\"#de77ae\"],[0.3,\"#f1b6da\"],[0.4,\"#fde0ef\"],[0.5,\"#f7f7f7\"],[0.6,\"#e6f5d0\"],[0.7,\"#b8e186\"],[0.8,\"#7fbc41\"],[0.9,\"#4d9221\"],[1,\"#276419\"]]},\"xaxis\":{\"gridcolor\":\"white\",\"linecolor\":\"white\",\"ticks\":\"\",\"title\":{\"standoff\":15},\"zerolinecolor\":\"white\",\"automargin\":true,\"zerolinewidth\":2},\"yaxis\":{\"gridcolor\":\"white\",\"linecolor\":\"white\",\"ticks\":\"\",\"title\":{\"standoff\":15},\"zerolinecolor\":\"white\",\"automargin\":true,\"zerolinewidth\":2},\"scene\":{\"xaxis\":{\"backgroundcolor\":\"#E5ECF6\",\"gridcolor\":\"white\",\"linecolor\":\"white\",\"showbackground\":true,\"ticks\":\"\",\"zerolinecolor\":\"white\",\"gridwidth\":2},\"yaxis\":{\"backgroundcolor\":\"#E5ECF6\",\"gridcolor\":\"white\",\"linecolor\":\"white\",\"showbackground\":true,\"ticks\":\"\",\"zerolinecolor\":\"white\",\"gridwidth\":2},\"zaxis\":{\"backgroundcolor\":\"#E5ECF6\",\"gridcolor\":\"white\",\"linecolor\":\"white\",\"showbackground\":true,\"ticks\":\"\",\"zerolinecolor\":\"white\",\"gridwidth\":2}},\"shapedefaults\":{\"line\":{\"color\":\"#2a3f5f\"}},\"annotationdefaults\":{\"arrowcolor\":\"#2a3f5f\",\"arrowhead\":0,\"arrowwidth\":1},\"geo\":{\"bgcolor\":\"white\",\"landcolor\":\"#E5ECF6\",\"subunitcolor\":\"white\",\"showland\":true,\"showlakes\":true,\"lakecolor\":\"white\"},\"title\":{\"x\":0.05},\"mapbox\":{\"style\":\"light\"}}},\"xaxis\":{\"anchor\":\"y\",\"domain\":[0.0,1.0],\"title\":{\"text\":\"hasImage\"}},\"yaxis\":{\"anchor\":\"x\",\"domain\":[0.0,1.0],\"title\":{\"text\":\"label\"}},\"legend\":{\"tracegroupgap\":0},\"title\":{\"text\":\"Articles including images vs Label\"},\"barmode\":\"relative\"},                        {\"responsive\": true}                    ).then(function(){\n",
              "                            \n",
              "var gd = document.getElementById('fbe43ca0-183a-4231-b8f3-1e325bc1a05a');\n",
              "var x = new MutationObserver(function (mutations, observer) {{\n",
              "        var display = window.getComputedStyle(gd).display;\n",
              "        if (!display || display === 'none') {{\n",
              "            console.log([gd, 'removed!']);\n",
              "            Plotly.purge(gd);\n",
              "            observer.disconnect();\n",
              "        }}\n",
              "}});\n",
              "\n",
              "// Listen for the removal of the full notebook cells\n",
              "var notebookContainer = gd.closest('#notebook-container');\n",
              "if (notebookContainer) {{\n",
              "    x.observe(notebookContainer, {childList: true});\n",
              "}}\n",
              "\n",
              "// Listen for the clearing of the current output cell\n",
              "var outputEl = gd.closest('.output');\n",
              "if (outputEl) {{\n",
              "    x.observe(outputEl, {childList: true});\n",
              "}}\n",
              "\n",
              "                        })                };                });            </script>        </div>"
            ]
          },
          "metadata": {}
        }
      ]
    },
    {
      "cell_type": "code",
      "source": [
        "df_sources = df[['site_url','label','main_img_url']]\n",
        "df_r = df_sources.loc[df['label']== 'Real'].iloc[6:10,:]\n",
        "df_f = df_sources.loc[df['label']== 'Fake'].head(6)"
      ],
      "metadata": {
        "id": "Vchld1Ug4HJ0"
      },
      "execution_count": null,
      "outputs": []
    },
    {
      "cell_type": "code",
      "source": [
        "from IPython.core.display import HTML\n",
        "\n",
        "# Define the convert function\n",
        "def convert(url):\n",
        "    return f'<img src=\"{url}\" width=\"100\">'\n",
        "\n",
        "# Ensure df_r exists before calling .to_html()\n",
        "HTML(df_r.to_html(escape=False, formatters={'main_img_url': convert}))\n"
      ],
      "metadata": {
        "colab": {
          "base_uri": "https://localhost:8080/",
          "height": 367
        },
        "id": "SYnjgJfs4LB0",
        "outputId": "e306a7ac-8704-4c71-9028-588719bac814"
      },
      "execution_count": null,
      "outputs": [
        {
          "output_type": "execute_result",
          "data": {
            "text/plain": [
              "<IPython.core.display.HTML object>"
            ],
            "text/html": [
              "<table border=\"1\" class=\"dataframe\">\n",
              "  <thead>\n",
              "    <tr style=\"text-align: right;\">\n",
              "      <th></th>\n",
              "      <th>site_url</th>\n",
              "      <th>label</th>\n",
              "      <th>main_img_url</th>\n",
              "    </tr>\n",
              "    <tr>\n",
              "      <th>author</th>\n",
              "      <th></th>\n",
              "      <th></th>\n",
              "      <th></th>\n",
              "    </tr>\n",
              "  </thead>\n",
              "  <tbody>\n",
              "    <tr>\n",
              "      <th>Fed Up</th>\n",
              "      <td>100percentfedup.com</td>\n",
              "      <td>Real</td>\n",
              "      <td><img src=\"http://100percentfedup.com/wp-content/uploads/2016/11/hillary-looking-down.jpg\" width=\"100\"></td>\n",
              "    </tr>\n",
              "    <tr>\n",
              "      <th>Fed Up</th>\n",
              "      <td>100percentfedup.com</td>\n",
              "      <td>Real</td>\n",
              "      <td><img src=\"http://100percentfedup.com/wp-content/uploads/2016/11/snipes-dem.jpg\" width=\"100\"></td>\n",
              "    </tr>\n",
              "    <tr>\n",
              "      <th>Fed Up</th>\n",
              "      <td>100percentfedup.com</td>\n",
              "      <td>Real</td>\n",
              "      <td><img src=\"http://100percentfedup.com/wp-content/uploads/2016/05/hillary-comey.jpg\" width=\"100\"></td>\n",
              "    </tr>\n",
              "    <tr>\n",
              "      <th>Fed Up</th>\n",
              "      <td>100percentfedup.com</td>\n",
              "      <td>Real</td>\n",
              "      <td><img src=\"http://100percentfedup.com/wp-content/uploads/2016/11/TRUCK-TORCHED-HILLARY.jpg\" width=\"100\"></td>\n",
              "    </tr>\n",
              "  </tbody>\n",
              "</table>"
            ]
          },
          "metadata": {},
          "execution_count": 19
        }
      ]
    },
    {
      "cell_type": "code",
      "source": [
        "from IPython.core.display import HTML\n",
        "\n",
        "# Define the convert function to display images\n",
        "def convert(url):\n",
        "    return f'<img src=\"{url}\" width=\"100\">'\n",
        "\n",
        "# Ensure df_f exists\n",
        "HTML(df_f.to_html(escape=False, formatters={'main_img_url': convert}))\n"
      ],
      "metadata": {
        "colab": {
          "base_uri": "https://localhost:8080/",
          "height": 584
        },
        "id": "G6xeXTub4NHV",
        "outputId": "67efe253-6a9e-4173-db29-ad3bff77ee37"
      },
      "execution_count": null,
      "outputs": [
        {
          "output_type": "execute_result",
          "data": {
            "text/plain": [
              "<IPython.core.display.HTML object>"
            ],
            "text/html": [
              "<table border=\"1\" class=\"dataframe\">\n",
              "  <thead>\n",
              "    <tr style=\"text-align: right;\">\n",
              "      <th></th>\n",
              "      <th>site_url</th>\n",
              "      <th>label</th>\n",
              "      <th>main_img_url</th>\n",
              "    </tr>\n",
              "    <tr>\n",
              "      <th>author</th>\n",
              "      <th></th>\n",
              "      <th></th>\n",
              "      <th></th>\n",
              "    </tr>\n",
              "  </thead>\n",
              "  <tbody>\n",
              "    <tr>\n",
              "      <th>No Author</th>\n",
              "      <td>21stcenturywire.com</td>\n",
              "      <td>Fake</td>\n",
              "      <td><img src=\"http://21stcenturywire.com/wp-content/uploads/2016/10/1-Syria-No-Fly-Zone.png\" width=\"100\"></td>\n",
              "    </tr>\n",
              "    <tr>\n",
              "      <th>No Author</th>\n",
              "      <td>21stcenturywire.com</td>\n",
              "      <td>Fake</td>\n",
              "      <td><img src=\"http://21stcenturywire.com/wp-content/uploads/2016/10/1-FBI-Comey-Hillary-Clinton-e1477728962985.jpg\" width=\"100\"></td>\n",
              "    </tr>\n",
              "    <tr>\n",
              "      <th>Shawn Helton</th>\n",
              "      <td>21stcenturywire.com</td>\n",
              "      <td>Fake</td>\n",
              "      <td><img src=\"http://21stcenturywire.com/wp-content/uploads/2016/10/Clinton-New-FBI-Probe-21WIRE-SLIDER-New.jpg\" width=\"100\"></td>\n",
              "    </tr>\n",
              "    <tr>\n",
              "      <th>Mike Rivero</th>\n",
              "      <td>21stcenturywire.com</td>\n",
              "      <td>Fake</td>\n",
              "      <td><img src=\"http://i1.wp.com/21stcenturywire.com/wp-content/uploads/2016/10/DNC-SCANDAL-PART2-21WIRE-SLIDER-SH-1.jpg?fit=620%2C415\" width=\"100\"></td>\n",
              "    </tr>\n",
              "    <tr>\n",
              "      <th>No Author</th>\n",
              "      <td>21stcenturywire.com</td>\n",
              "      <td>Fake</td>\n",
              "      <td><img src=\"http://i0.wp.com/21stcenturywire.com/wp-content/uploads/2016/11/2-Clinton-Podesta-Email.jpg?fit=610%2C415\" width=\"100\"></td>\n",
              "    </tr>\n",
              "    <tr>\n",
              "      <th>Shawn Helton</th>\n",
              "      <td>21stcenturywire.com</td>\n",
              "      <td>Fake</td>\n",
              "      <td><img src=\"http://i2.wp.com/21stcenturywire.com/wp-content/uploads/2016/10/Clinton-Gold-21WIRE-SLIDER-SH.jpg?fit=620%2C415\" width=\"100\"></td>\n",
              "    </tr>\n",
              "  </tbody>\n",
              "</table>"
            ]
          },
          "metadata": {},
          "execution_count": 20
        }
      ]
    },
    {
      "cell_type": "code",
      "source": [
        "df['site_url'].unique()\n"
      ],
      "metadata": {
        "colab": {
          "base_uri": "https://localhost:8080/"
        },
        "id": "iqVJFNf_4nUh",
        "outputId": "3d074718-f834-4979-890e-d9c6391ba8fa"
      },
      "execution_count": null,
      "outputs": [
        {
          "output_type": "execute_result",
          "data": {
            "text/plain": [
              "array(['100percentfedup.com', '21stcenturywire.com', 'abcnews.com.co',\n",
              "       'abeldanger.net', 'abovetopsecret.com', 'activistpost.com',\n",
              "       'addictinginfo.org', 'adobochronicles.com', 'ahtribune.com',\n",
              "       'allnewspipeline.com', 'americannews.com',\n",
              "       'americasfreedomfighters.com', 'amren.com', 'amtvmedia.com',\n",
              "       'awdnews.com', 'barenakedislam.com', 'clickhole.com',\n",
              "       'coasttocoastam.com', 'corbettreport.com', 'countercurrents.org',\n",
              "       'counterpunch.org', 'dailywire.com', 'darkmoon.me',\n",
              "       'davidduke.com', 'davidstockmanscontracorner.com',\n",
              "       'davidwolfe.com', 'dcclothesline.com', 'defenddemocracy.press',\n",
              "       'dennismichaellynch.com', 'departed.co', 'der-postillon.com',\n",
              "       'fromthetrenchesworldreport.com', 'frontpagemag.com',\n",
              "       'galacticconnection.com', 'globalresearch.ca', 'infowars.com',\n",
              "       'intrepidreport.com', 'legorafi.fr', 'madworldnews.com',\n",
              "       'naturalnews.com', 'newstarget.com', 'politicususa.com',\n",
              "       'presstv.com', 'presstv.ir', 'prisonplanet.com',\n",
              "       'projectveritas.com', 'proudemocrat.com', 'redstatewatcher.com',\n",
              "       'returnofkings.com', 'shiftfrequency.com', 'thedailysheeple.com',\n",
              "       'theeconomiccollapseblog.com', 'thefreethoughtproject.com',\n",
              "       'themindunleashed.com', 'theonion.com', 'thepeoplescube.com',\n",
              "       'therussophile.org', 'thesaker.is', 'thetruthseeker.co.uk',\n",
              "       'theunrealtimes.com', 'topinfopost.com', 'veteranstoday.com',\n",
              "       'voltairenet.org', 'washingtonsblog.com', 'westernjournalism.com',\n",
              "       'whatreallyhappened.com', 'whydontyoutrythis.com', 'wnd.com'],\n",
              "      dtype=object)"
            ]
          },
          "metadata": {},
          "execution_count": 21
        }
      ]
    },
    {
      "cell_type": "code",
      "source": [
        "type_label = {'Real': 0, 'Fake': 1}\n",
        "df_sources.label = [type_label[item] for item in df_sources.label]"
      ],
      "metadata": {
        "id": "NE83BxcF4tMn"
      },
      "execution_count": null,
      "outputs": []
    },
    {
      "cell_type": "code",
      "source": [
        "val_real=[]\n",
        "val_fake=[]\n",
        "\n",
        "for i,row in df_sources.iterrows():\n",
        "    val = row['site_url']\n",
        "    if row['label'] == 0:\n",
        "        val_real.append(val)\n",
        "    elif row['label']== 1:\n",
        "        val_fake.append(val)"
      ],
      "metadata": {
        "id": "sLGU3Ib84wmG"
      },
      "execution_count": null,
      "outputs": []
    },
    {
      "cell_type": "code",
      "source": [
        "uniqueValues_real = list(OrderedDict.fromkeys(val_real))\n",
        "\n",
        "print(f\"{y_}Websites publishing real news:{g_}{uniqueValues_real}\\n\")"
      ],
      "metadata": {
        "colab": {
          "base_uri": "https://localhost:8080/"
        },
        "id": "vokUdkli40GK",
        "outputId": "8a0945da-061f-4a49-a4c3-5a729b26b764"
      },
      "execution_count": null,
      "outputs": [
        {
          "output_type": "stream",
          "name": "stdout",
          "text": [
            "\u001b[33mWebsites publishing real news:\u001b[32m['100percentfedup.com', 'addictinginfo.org', 'dailywire.com', 'davidduke.com', 'fromthetrenchesworldreport.com', 'frontpagemag.com', 'newstarget.com', 'politicususa.com', 'presstv.com', 'presstv.ir', 'prisonplanet.com', 'proudemocrat.com', 'redstatewatcher.com', 'returnofkings.com', 'washingtonsblog.com', 'westernjournalism.com', 'whydontyoutrythis.com', 'wnd.com']\n",
            "\n"
          ]
        }
      ]
    },
    {
      "cell_type": "code",
      "source": [
        "uniqueValues_fake = list(OrderedDict.fromkeys(val_fake))\n",
        "print(f\"{y_}Websites publishing fake news:{r_}{uniqueValues_fake}\\n\")"
      ],
      "metadata": {
        "colab": {
          "base_uri": "https://localhost:8080/"
        },
        "id": "M1KZiwoE43KR",
        "outputId": "effbef81-3dc1-4394-99ad-b07160fe2138"
      },
      "execution_count": null,
      "outputs": [
        {
          "output_type": "stream",
          "name": "stdout",
          "text": [
            "\u001b[33mWebsites publishing fake news:\u001b[31m['21stcenturywire.com', 'abcnews.com.co', 'abeldanger.net', 'abovetopsecret.com', 'activistpost.com', 'adobochronicles.com', 'ahtribune.com', 'allnewspipeline.com', 'americannews.com', 'americasfreedomfighters.com', 'amren.com', 'amtvmedia.com', 'awdnews.com', 'barenakedislam.com', 'clickhole.com', 'coasttocoastam.com', 'corbettreport.com', 'countercurrents.org', 'counterpunch.org', 'darkmoon.me', 'davidduke.com', 'davidstockmanscontracorner.com', 'davidwolfe.com', 'dcclothesline.com', 'defenddemocracy.press', 'dennismichaellynch.com', 'departed.co', 'der-postillon.com', 'fromthetrenchesworldreport.com', 'frontpagemag.com', 'galacticconnection.com', 'globalresearch.ca', 'infowars.com', 'intrepidreport.com', 'legorafi.fr', 'madworldnews.com', 'naturalnews.com', 'newstarget.com', 'presstv.ir', 'prisonplanet.com', 'projectveritas.com', 'returnofkings.com', 'shiftfrequency.com', 'thedailysheeple.com', 'theeconomiccollapseblog.com', 'thefreethoughtproject.com', 'themindunleashed.com', 'theonion.com', 'thepeoplescube.com', 'therussophile.org', 'thesaker.is', 'thetruthseeker.co.uk', 'theunrealtimes.com', 'topinfopost.com', 'veteranstoday.com', 'voltairenet.org', 'washingtonsblog.com', 'westernjournalism.com', 'whatreallyhappened.com']\n",
            "\n"
          ]
        }
      ]
    },
    {
      "cell_type": "code",
      "source": [
        "real_set = set(uniqueValues_real)\n",
        "fake_set = set(uniqueValues_fake)\n",
        "\n",
        "print(f\"{y_}Websites publishing both real and fake news:{m_}{real_set & fake_set}\\n\")"
      ],
      "metadata": {
        "colab": {
          "base_uri": "https://localhost:8080/"
        },
        "id": "wEEGrQEH48Rp",
        "outputId": "e9800928-51f9-46e5-8365-3d724fb939b9"
      },
      "execution_count": null,
      "outputs": [
        {
          "output_type": "stream",
          "name": "stdout",
          "text": [
            "\u001b[33mWebsites publishing both real and fake news:\u001b[35m{'prisonplanet.com', 'newstarget.com', 'presstv.ir', 'frontpagemag.com', 'davidduke.com', 'fromthetrenchesworldreport.com', 'westernjournalism.com', 'returnofkings.com', 'washingtonsblog.com'}\n",
            "\n"
          ]
        }
      ]
    },
    {
      "cell_type": "code",
      "source": [
        "type1 = {'bias': 0, 'conspiracy': 1,'fake': 2,'bs': 3,'satire': 4, 'hate': 5,'junksci': 6, 'state': 7}\n",
        "df.type = [type1[item] for item in df.type]"
      ],
      "metadata": {
        "id": "sM2wd6pD4_sI"
      },
      "execution_count": null,
      "outputs": []
    },
    {
      "cell_type": "code",
      "source": [
        "def plot_bar(df, feat_x, feat_y, normalize=True):\n",
        "    \"\"\" Plot with vertical bars of the requested dataframe and features\"\"\"\n",
        "\n",
        "    ct = pd.crosstab(df[feat_x], df[feat_y])\n",
        "    if normalize == True:\n",
        "        ct = ct.div(ct.sum(axis=1), axis=0)\n",
        "    return ct.plot(kind='bar', stacked=True)"
      ],
      "metadata": {
        "id": "YvM5E4AZ5CqM"
      },
      "execution_count": null,
      "outputs": []
    },
    {
      "cell_type": "code",
      "source": [
        "plot_bar(df,'type' , 'label')\n",
        "plt.show()"
      ],
      "metadata": {
        "colab": {
          "base_uri": "https://localhost:8080/",
          "height": 444
        },
        "id": "9m7bW7OM5Fe7",
        "outputId": "8edf6e4d-1ae5-48d9-9631-83e5cfae640e"
      },
      "execution_count": null,
      "outputs": [
        {
          "output_type": "display_data",
          "data": {
            "text/plain": [
              "<Figure size 640x480 with 1 Axes>"
            ],
            "image/png": "[encoded data removed]"
          },
          "metadata": {}
        }
      ]
    },
    {
      "cell_type": "code",
      "source": [
        "fig = px.sunburst(df, path=['label', 'type'])\n",
        "fig.show()"
      ],
      "metadata": {
        "colab": {
          "base_uri": "https://localhost:8080/",
          "height": 542
        },
        "id": "iTE5Fo555LFM",
        "outputId": "16eb3260-2eb0-4811-aef2-68e673e2fb65"
      },
      "execution_count": null,
      "outputs": [
        {
          "output_type": "display_data",
          "data": {
            "application/vnd.plotly.v1+json": {
              "data": [
                {
                  "branchvalues": "total",
                  "domain": {
                    "x": [
                      0,
                      1
                    ],
                    "y": [
                      0,
                      1
                    ]
                  },
                  "hovertemplate": "labels=%{label}<br>count=%{value}<br>parent=%{parent}<br>id=%{id}<extra></extra>",
                  "ids": [
                    "Real/0",
                    "Fake/1",
                    "Fake/2",
                    "Fake/3",
                    "Fake/4",
                    "Real/5",
                    "Fake/6",
                    "Real/7",
                    "Fake",
                    "Real"
                  ],
                  "labels": [
                    "0",
                    "1",
                    "2",
                    "3",
                    "4",
                    "5",
                    "6",
                    "7",
                    "Fake",
                    "Real"
                  ],
                  "name": "",
                  "parents": [
                    "Real",
                    "Fake",
                    "Fake",
                    "Fake",
                    "Fake",
                    "Real",
                    "Fake",
                    "Real",
                    "",
                    ""
                  ],
                  "values": [
                    389,
                    430,
                    15,
                    598,
                    146,
                    244,
                    102,
                    121,
                    1291,
                    754
                  ],
                  "type": "sunburst"
                }
              ],
              "layout": {
                "template": {
                  "data": {
                    "histogram2dcontour": [
                      {
                        "type": "histogram2dcontour",
                        "colorbar": {
                          "outlinewidth": 0,
                          "ticks": ""
                        },
                        "colorscale": [
                          [
                            0,
                            "#0d0887"
                          ],
                          [
                            0.1111111111111111,
                            "#46039f"
                          ],
                          [
                            0.2222222222222222,
                            "#7201a8"
                          ],
                          [
                            0.3333333333333333,
                            "#9c179e"
                          ],
                          [
                            0.4444444444444444,
                            "#bd3786"
                          ],
                          [
                            0.5555555555555556,
                            "#d8576b"
                          ],
                          [
                            0.6666666666666666,
                            "#ed7953"
                          ],
                          [
                            0.7777777777777778,
                            "#fb9f3a"
                          ],
                          [
                            0.8888888888888888,
                            "#fdca26"
                          ],
                          [
                            1,
                            "#f0f921"
                          ]
                        ]
                      }
                    ],
                    "choropleth": [
                      {
                        "type": "choropleth",
                        "colorbar": {
                          "outlinewidth": 0,
                          "ticks": ""
                        }
                      }
                    ],
                    "histogram2d": [
                      {
                        "type": "histogram2d",
                        "colorbar": {
                          "outlinewidth": 0,
                          "ticks": ""
                        },
                        "colorscale": [
                          [
                            0,
                            "#0d0887"
                          ],
                          [
                            0.1111111111111111,
                            "#46039f"
                          ],
                          [
                            0.2222222222222222,
                            "#7201a8"
                          ],
                          [
                            0.3333333333333333,
                            "#9c179e"
                          ],
                          [
                            0.4444444444444444,
                            "#bd3786"
                          ],
                          [
                            0.5555555555555556,
                            "#d8576b"
                          ],
                          [
                            0.6666666666666666,
                            "#ed7953"
                          ],
                          [
                            0.7777777777777778,
                            "#fb9f3a"
                          ],
                          [
                            0.8888888888888888,
                            "#fdca26"
                          ],
                          [
                            1,
                            "#f0f921"
                          ]
                        ]
                      }
                    ],
                    "heatmap": [
                      {
                        "type": "heatmap",
                        "colorbar": {
                          "outlinewidth": 0,
                          "ticks": ""
                        },
                        "colorscale": [
                          [
                            0,
                            "#0d0887"
                          ],
                          [
                            0.1111111111111111,
                            "#46039f"
                          ],
                          [
                            0.2222222222222222,
                            "#7201a8"
                          ],
                          [
                            0.3333333333333333,
                            "#9c179e"
                          ],
                          [
                            0.4444444444444444,
                            "#bd3786"
                          ],
                          [
                            0.5555555555555556,
                            "#d8576b"
                          ],
                          [
                            0.6666666666666666,
                            "#ed7953"
                          ],
                          [
                            0.7777777777777778,
                            "#fb9f3a"
                          ],
                          [
                            0.8888888888888888,
                            "#fdca26"
                          ],
                          [
                            1,
                            "#f0f921"
                          ]
                        ]
                      }
                    ],
                    "heatmapgl": [
                      {
                        "type": "heatmapgl",
                        "colorbar": {
                          "outlinewidth": 0,
                          "ticks": ""
                        },
                        "colorscale": [
                          [
                            0,
                            "#0d0887"
                          ],
                          [
                            0.1111111111111111,
                            "#46039f"
                          ],
                          [
                            0.2222222222222222,
                            "#7201a8"
                          ],
                          [
                            0.3333333333333333,
                            "#9c179e"
                          ],
                          [
                            0.4444444444444444,
                            "#bd3786"
                          ],
                          [
                            0.5555555555555556,
                            "#d8576b"
                          ],
                          [
                            0.6666666666666666,
                            "#ed7953"
                          ],
                          [
                            0.7777777777777778,
                            "#fb9f3a"
                          ],
                          [
                            0.8888888888888888,
                            "#fdca26"
                          ],
                          [
                            1,
                            "#f0f921"
                          ]
                        ]
                      }
                    ],
                    "contourcarpet": [
                      {
                        "type": "contourcarpet",
                        "colorbar": {
                          "outlinewidth": 0,
                          "ticks": ""
                        }
                      }
                    ],
                    "contour": [
                      {
                        "type": "contour",
                        "colorbar": {
                          "outlinewidth": 0,
                          "ticks": ""
                        },
                        "colorscale": [
                          [
                            0,
                            "#0d0887"
                          ],
                          [
                            0.1111111111111111,
                            "#46039f"
                          ],
                          [
                            0.2222222222222222,
                            "#7201a8"
                          ],
                          [
                            0.3333333333333333,
                            "#9c179e"
                          ],
                          [
                            0.4444444444444444,
                            "#bd3786"
                          ],
                          [
                            0.5555555555555556,
                            "#d8576b"
                          ],
                          [
                            0.6666666666666666,
                            "#ed7953"
                          ],
                          [
                            0.7777777777777778,
                            "#fb9f3a"
                          ],
                          [
                            0.8888888888888888,
                            "#fdca26"
                          ],
                          [
                            1,
                            "#f0f921"
                          ]
                        ]
                      }
                    ],
                    "surface": [
                      {
                        "type": "surface",
                        "colorbar": {
                          "outlinewidth": 0,
                          "ticks": ""
                        },
                        "colorscale": [
                          [
                            0,
                            "#0d0887"
                          ],
                          [
                            0.1111111111111111,
                            "#46039f"
                          ],
                          [
                            0.2222222222222222,
                            "#7201a8"
                          ],
                          [
                            0.3333333333333333,
                            "#9c179e"
                          ],
                          [
                            0.4444444444444444,
                            "#bd3786"
                          ],
                          [
                            0.5555555555555556,
                            "#d8576b"
                          ],
                          [
                            0.6666666666666666,
                            "#ed7953"
                          ],
                          [
                            0.7777777777777778,
                            "#fb9f3a"
                          ],
                          [
                            0.8888888888888888,
                            "#fdca26"
                          ],
                          [
                            1,
                            "#f0f921"
                          ]
                        ]
                      }
                    ],
                    "mesh3d": [
                      {
                        "type": "mesh3d",
                        "colorbar": {
                          "outlinewidth": 0,
                          "ticks": ""
                        }
                      }
                    ],
                    "scatter": [
                      {
                        "fillpattern": {
                          "fillmode": "overlay",
                          "size": 10,
                          "solidity": 0.2
                        },
                        "type": "scatter"
                      }
                    ],
                    "parcoords": [
                      {
                        "type": "parcoords",
                        "line": {
                          "colorbar": {
                            "outlinewidth": 0,
                            "ticks": ""
                          }
                        }
                      }
                    ],
                    "scatterpolargl": [
                      {
                        "type": "scatterpolargl",
                        "marker": {
                          "colorbar": {
                            "outlinewidth": 0,
                            "ticks": ""
                          }
                        }
                      }
                    ],
                    "bar": [
                      {
                        "error_x": {
                          "color": "#2a3f5f"
                        },
                        "error_y": {
                          "color": "#2a3f5f"
                        },
                        "marker": {
                          "line": {
                            "color": "#E5ECF6",
                            "width": 0.5
                          },
                          "pattern": {
                            "fillmode": "overlay",
                            "size": 10,
                            "solidity": 0.2
                          }
                        },
                        "type": "bar"
                      }
                    ],
                    "scattergeo": [
                      {
                        "type": "scattergeo",
                        "marker": {
                          "colorbar": {
                            "outlinewidth": 0,
                            "ticks": ""
                          }
                        }
                      }
                    ],
                    "scatterpolar": [
                      {
                        "type": "scatterpolar",
                        "marker": {
                          "colorbar": {
                            "outlinewidth": 0,
                            "ticks": ""
                          }
                        }
                      }
                    ],
                    "histogram": [
                      {
                        "marker": {
                          "pattern": {
                            "fillmode": "overlay",
                            "size": 10,
                            "solidity": 0.2
                          }
                        },
                        "type": "histogram"
                      }
                    ],
                    "scattergl": [
                      {
                        "type": "scattergl",
                        "marker": {
                          "colorbar": {
                            "outlinewidth": 0,
                            "ticks": ""
                          }
                        }
                      }
                    ],
                    "scatter3d": [
                      {
                        "type": "scatter3d",
                        "line": {
                          "colorbar": {
                            "outlinewidth": 0,
                            "ticks": ""
                          }
                        },
                        "marker": {
                          "colorbar": {
                            "outlinewidth": 0,
                            "ticks": ""
                          }
                        }
                      }
                    ],
                    "scattermapbox": [
                      {
                        "type": "scattermapbox",
                        "marker": {
                          "colorbar": {
                            "outlinewidth": 0,
                            "ticks": ""
                          }
                        }
                      }
                    ],
                    "scatterternary": [
                      {
                        "type": "scatterternary",
                        "marker": {
                          "colorbar": {
                            "outlinewidth": 0,
                            "ticks": ""
                          }
                        }
                      }
                    ],
                    "scattercarpet": [
                      {
                        "type": "scattercarpet",
                        "marker": {
                          "colorbar": {
                            "outlinewidth": 0,
                            "ticks": ""
                          }
                        }
                      }
                    ],
                    "carpet": [
                      {
                        "aaxis": {
                          "endlinecolor": "#2a3f5f",
                          "gridcolor": "white",
                          "linecolor": "white",
                          "minorgridcolor": "white",
                          "startlinecolor": "#2a3f5f"
                        },
                        "baxis": {
                          "endlinecolor": "#2a3f5f",
                          "gridcolor": "white",
                          "linecolor": "white",
                          "minorgridcolor": "white",
                          "startlinecolor": "#2a3f5f"
                        },
                        "type": "carpet"
                      }
                    ],
                    "table": [
                      {
                        "cells": {
                          "fill": {
                            "color": "#EBF0F8"
                          },
                          "line": {
                            "color": "white"
                          }
                        },
                        "header": {
                          "fill": {
                            "color": "#C8D4E3"
                          },
                          "line": {
                            "color": "white"
                          }
                        },
                        "type": "table"
                      }
                    ],
                    "barpolar": [
                      {
                        "marker": {
                          "line": {
                            "color": "#E5ECF6",
                            "width": 0.5
                          },
                          "pattern": {
                            "fillmode": "overlay",
                            "size": 10,
                            "solidity": 0.2
                          }
                        },
                        "type": "barpolar"
                      }
                    ],
                    "pie": [
                      {
                        "automargin": true,
                        "type": "pie"
                      }
                    ]
                  },
                  "layout": {
                    "autotypenumbers": "strict",
                    "colorway": [
                      "#636efa",
                      "#EF553B",
                      "#00cc96",
                      "#ab63fa",
                      "#FFA15A",
                      "#19d3f3",
                      "#FF6692",
                      "#B6E880",
                      "#FF97FF",
                      "#FECB52"
                    ],
                    "font": {
                      "color": "#2a3f5f"
                    },
                    "hovermode": "closest",
                    "hoverlabel": {
                      "align": "left"
                    },
                    "paper_bgcolor": "white",
                    "plot_bgcolor": "#E5ECF6",
                    "polar": {
                      "bgcolor": "#E5ECF6",
                      "angularaxis": {
                        "gridcolor": "white",
                        "linecolor": "white",
                        "ticks": ""
                      },
                      "radialaxis": {
                        "gridcolor": "white",
                        "linecolor": "white",
                        "ticks": ""
                      }
                    },
                    "ternary": {
                      "bgcolor": "#E5ECF6",
                      "aaxis": {
                        "gridcolor": "white",
                        "linecolor": "white",
                        "ticks": ""
                      },
                      "baxis": {
                        "gridcolor": "white",
                        "linecolor": "white",
                        "ticks": ""
                      },
                      "caxis": {
                        "gridcolor": "white",
                        "linecolor": "white",
                        "ticks": ""
                      }
                    },
                    "coloraxis": {
                      "colorbar": {
                        "outlinewidth": 0,
                        "ticks": ""
                      }
                    },
                    "colorscale": {
                      "sequential": [
                        [
                          0,
                          "#0d0887"
                        ],
                        [
                          0.1111111111111111,
                          "#46039f"
                        ],
                        [
                          0.2222222222222222,
                          "#7201a8"
                        ],
                        [
                          0.3333333333333333,
                          "#9c179e"
                        ],
                        [
                          0.4444444444444444,
                          "#bd3786"
                        ],
                        [
                          0.5555555555555556,
                          "#d8576b"
                        ],
                        [
                          0.6666666666666666,
                          "#ed7953"
                        ],
                        [
                          0.7777777777777778,
                          "#fb9f3a"
                        ],
                        [
                          0.8888888888888888,
                          "#fdca26"
                        ],
                        [
                          1,
                          "#f0f921"
                        ]
                      ],
                      "sequentialminus": [
                        [
                          0,
                          "#0d0887"
                        ],
                        [
                          0.1111111111111111,
                          "#46039f"
                        ],
                        [
                          0.2222222222222222,
                          "#7201a8"
                        ],
                        [
                          0.3333333333333333,
                          "#9c179e"
                        ],
                        [
                          0.4444444444444444,
                          "#bd3786"
                        ],
                        [
                          0.5555555555555556,
                          "#d8576b"
                        ],
                        [
                          0.6666666666666666,
                          "#ed7953"
                        ],
                        [
                          0.7777777777777778,
                          "#fb9f3a"
                        ],
                        [
                          0.8888888888888888,
                          "#fdca26"
                        ],
                        [
                          1,
                          "#f0f921"
                        ]
                      ],
                      "diverging": [
                        [
                          0,
                          "#8e0152"
                        ],
                        [
                          0.1,
                          "#c51b7d"
                        ],
                        [
                          0.2,
                          "#de77ae"
                        ],
                        [
                          0.3,
                          "#f1b6da"
                        ],
                        [
                          0.4,
                          "#fde0ef"
                        ],
                        [
                          0.5,
                          "#f7f7f7"
                        ],
                        [
                          0.6,
                          "#e6f5d0"
                        ],
                        [
                          0.7,
                          "#b8e186"
                        ],
                        [
                          0.8,
                          "#7fbc41"
                        ],
                        [
                          0.9,
                          "#4d9221"
                        ],
                        [
                          1,
                          "#276419"
                        ]
                      ]
                    },
                    "xaxis": {
                      "gridcolor": "white",
                      "linecolor": "white",
                      "ticks": "",
                      "title": {
                        "standoff": 15
                      },
                      "zerolinecolor": "white",
                      "automargin": true,
                      "zerolinewidth": 2
                    },
                    "yaxis": {
                      "gridcolor": "white",
                      "linecolor": "white",
                      "ticks": "",
                      "title": {
                        "standoff": 15
                      },
                      "zerolinecolor": "white",
                      "automargin": true,
                      "zerolinewidth": 2
                    },
                    "scene": {
                      "xaxis": {
                        "backgroundcolor": "#E5ECF6",
                        "gridcolor": "white",
                        "linecolor": "white",
                        "showbackground": true,
                        "ticks": "",
                        "zerolinecolor": "white",
                        "gridwidth": 2
                      },
                      "yaxis": {
                        "backgroundcolor": "#E5ECF6",
                        "gridcolor": "white",
                        "linecolor": "white",
                        "showbackground": true,
                        "ticks": "",
                        "zerolinecolor": "white",
                        "gridwidth": 2
                      },
                      "zaxis": {
                        "backgroundcolor": "#E5ECF6",
                        "gridcolor": "white",
                        "linecolor": "white",
                        "showbackground": true,
                        "ticks": "",
                        "zerolinecolor": "white",
                        "gridwidth": 2
                      }
                    },
                    "shapedefaults": {
                      "line": {
                        "color": "#2a3f5f"
                      }
                    },
                    "annotationdefaults": {
                      "arrowcolor": "#2a3f5f",
                      "arrowhead": 0,
                      "arrowwidth": 1
                    },
                    "geo": {
                      "bgcolor": "white",
                      "landcolor": "#E5ECF6",
                      "subunitcolor": "white",
                      "showland": true,
                      "showlakes": true,
                      "lakecolor": "white"
                    },
                    "title": {
                      "x": 0.05
                    },
                    "mapbox": {
                      "style": "light"
                    }
                  }
                },
                "legend": {
                  "tracegroupgap": 0
                },
                "margin": {
                  "t": 60
                }
              },
              "config": {
                "plotlyServerURL": "https://plot.ly"
              }
            },
            "text/html": [
              "<div>                            <div id=\"1a2d9f95-6343-405f-a867-79ca9846af94\" class=\"plotly-graph-div\" style=\"height:525px; width:100%;\"></div>            <script type=\"text/javascript\">                require([\"plotly\"], function(Plotly) {                    window.PLOTLYENV=window.PLOTLYENV || {};                                    if (document.getElementById(\"1a2d9f95-6343-405f-a867-79ca9846af94\")) {                    Plotly.newPlot(                        \"1a2d9f95-6343-405f-a867-79ca9846af94\",                        [{\"branchvalues\":\"total\",\"domain\":{\"x\":[0.0,1.0],\"y\":[0.0,1.0]},\"hovertemplate\":\"labels=%{label}\\u003cbr\\u003ecount=%{value}\\u003cbr\\u003eparent=%{parent}\\u003cbr\\u003eid=%{id}\\u003cextra\\u003e\\u003c\\u002fextra\\u003e\",\"ids\":[\"Real\\u002f0\",\"Fake\\u002f1\",\"Fake\\u002f2\",\"Fake\\u002f3\",\"Fake\\u002f4\",\"Real\\u002f5\",\"Fake\\u002f6\",\"Real\\u002f7\",\"Fake\",\"Real\"],\"labels\":[\"0\",\"1\",\"2\",\"3\",\"4\",\"5\",\"6\",\"7\",\"Fake\",\"Real\"],\"name\":\"\",\"parents\":[\"Real\",\"Fake\",\"Fake\",\"Fake\",\"Fake\",\"Real\",\"Fake\",\"Real\",\"\",\"\"],\"values\":[389,430,15,598,146,244,102,121,1291,754],\"type\":\"sunburst\"}],                        {\"template\":{\"data\":{\"histogram2dcontour\":[{\"type\":\"histogram2dcontour\",\"colorbar\":{\"outlinewidth\":0,\"ticks\":\"\"},\"colorscale\":[[0.0,\"#0d0887\"],[0.1111111111111111,\"#46039f\"],[0.2222222222222222,\"#7201a8\"],[0.3333333333333333,\"#9c179e\"],[0.4444444444444444,\"#bd3786\"],[0.5555555555555556,\"#d8576b\"],[0.6666666666666666,\"#ed7953\"],[0.7777777777777778,\"#fb9f3a\"],[0.8888888888888888,\"#fdca26\"],[1.0,\"#f0f921\"]]}],\"choropleth\":[{\"type\":\"choropleth\",\"colorbar\":{\"outlinewidth\":0,\"ticks\":\"\"}}],\"histogram2d\":[{\"type\":\"histogram2d\",\"colorbar\":{\"outlinewidth\":0,\"ticks\":\"\"},\"colorscale\":[[0.0,\"#0d0887\"],[0.1111111111111111,\"#46039f\"],[0.2222222222222222,\"#7201a8\"],[0.3333333333333333,\"#9c179e\"],[0.4444444444444444,\"#bd3786\"],[0.5555555555555556,\"#d8576b\"],[0.6666666666666666,\"#ed7953\"],[0.7777777777777778,\"#fb9f3a\"],[0.8888888888888888,\"#fdca26\"],[1.0,\"#f0f921\"]]}],\"heatmap\":[{\"type\":\"heatmap\",\"colorbar\":{\"outlinewidth\":0,\"ticks\":\"\"},\"colorscale\":[[0.0,\"#0d0887\"],[0.1111111111111111,\"#46039f\"],[0.2222222222222222,\"#7201a8\"],[0.3333333333333333,\"#9c179e\"],[0.4444444444444444,\"#bd3786\"],[0.5555555555555556,\"#d8576b\"],[0.6666666666666666,\"#ed7953\"],[0.7777777777777778,\"#fb9f3a\"],[0.8888888888888888,\"#fdca26\"],[1.0,\"#f0f921\"]]}],\"heatmapgl\":[{\"type\":\"heatmapgl\",\"colorbar\":{\"outlinewidth\":0,\"ticks\":\"\"},\"colorscale\":[[0.0,\"#0d0887\"],[0.1111111111111111,\"#46039f\"],[0.2222222222222222,\"#7201a8\"],[0.3333333333333333,\"#9c179e\"],[0.4444444444444444,\"#bd3786\"],[0.5555555555555556,\"#d8576b\"],[0.6666666666666666,\"#ed7953\"],[0.7777777777777778,\"#fb9f3a\"],[0.8888888888888888,\"#fdca26\"],[1.0,\"#f0f921\"]]}],\"contourcarpet\":[{\"type\":\"contourcarpet\",\"colorbar\":{\"outlinewidth\":0,\"ticks\":\"\"}}],\"contour\":[{\"type\":\"contour\",\"colorbar\":{\"outlinewidth\":0,\"ticks\":\"\"},\"colorscale\":[[0.0,\"#0d0887\"],[0.1111111111111111,\"#46039f\"],[0.2222222222222222,\"#7201a8\"],[0.3333333333333333,\"#9c179e\"],[0.4444444444444444,\"#bd3786\"],[0.5555555555555556,\"#d8576b\"],[0.6666666666666666,\"#ed7953\"],[0.7777777777777778,\"#fb9f3a\"],[0.8888888888888888,\"#fdca26\"],[1.0,\"#f0f921\"]]}],\"surface\":[{\"type\":\"surface\",\"colorbar\":{\"outlinewidth\":0,\"ticks\":\"\"},\"colorscale\":[[0.0,\"#0d0887\"],[0.1111111111111111,\"#46039f\"],[0.2222222222222222,\"#7201a8\"],[0.3333333333333333,\"#9c179e\"],[0.4444444444444444,\"#bd3786\"],[0.5555555555555556,\"#d8576b\"],[0.6666666666666666,\"#ed7953\"],[0.7777777777777778,\"#fb9f3a\"],[0.8888888888888888,\"#fdca26\"],[1.0,\"#f0f921\"]]}],\"mesh3d\":[{\"type\":\"mesh3d\",\"colorbar\":{\"outlinewidth\":0,\"ticks\":\"\"}}],\"scatter\":[{\"fillpattern\":{\"fillmode\":\"overlay\",\"size\":10,\"solidity\":0.2},\"type\":\"scatter\"}],\"parcoords\":[{\"type\":\"parcoords\",\"line\":{\"colorbar\":{\"outlinewidth\":0,\"ticks\":\"\"}}}],\"scatterpolargl\":[{\"type\":\"scatterpolargl\",\"marker\":{\"colorbar\":{\"outlinewidth\":0,\"ticks\":\"\"}}}],\"bar\":[{\"error_x\":{\"color\":\"#2a3f5f\"},\"error_y\":{\"color\":\"#2a3f5f\"},\"marker\":{\"line\":{\"color\":\"#E5ECF6\",\"width\":0.5},\"pattern\":{\"fillmode\":\"overlay\",\"size\":10,\"solidity\":0.2}},\"type\":\"bar\"}],\"scattergeo\":[{\"type\":\"scattergeo\",\"marker\":{\"colorbar\":{\"outlinewidth\":0,\"ticks\":\"\"}}}],\"scatterpolar\":[{\"type\":\"scatterpolar\",\"marker\":{\"colorbar\":{\"outlinewidth\":0,\"ticks\":\"\"}}}],\"histogram\":[{\"marker\":{\"pattern\":{\"fillmode\":\"overlay\",\"size\":10,\"solidity\":0.2}},\"type\":\"histogram\"}],\"scattergl\":[{\"type\":\"scattergl\",\"marker\":{\"colorbar\":{\"outlinewidth\":0,\"ticks\":\"\"}}}],\"scatter3d\":[{\"type\":\"scatter3d\",\"line\":{\"colorbar\":{\"outlinewidth\":0,\"ticks\":\"\"}},\"marker\":{\"colorbar\":{\"outlinewidth\":0,\"ticks\":\"\"}}}],\"scattermapbox\":[{\"type\":\"scattermapbox\",\"marker\":{\"colorbar\":{\"outlinewidth\":0,\"ticks\":\"\"}}}],\"scatterternary\":[{\"type\":\"scatterternary\",\"marker\":{\"colorbar\":{\"outlinewidth\":0,\"ticks\":\"\"}}}],\"scattercarpet\":[{\"type\":\"scattercarpet\",\"marker\":{\"colorbar\":{\"outlinewidth\":0,\"ticks\":\"\"}}}],\"carpet\":[{\"aaxis\":{\"endlinecolor\":\"#2a3f5f\",\"gridcolor\":\"white\",\"linecolor\":\"white\",\"minorgridcolor\":\"white\",\"startlinecolor\":\"#2a3f5f\"},\"baxis\":{\"endlinecolor\":\"#2a3f5f\",\"gridcolor\":\"white\",\"linecolor\":\"white\",\"minorgridcolor\":\"white\",\"startlinecolor\":\"#2a3f5f\"},\"type\":\"carpet\"}],\"table\":[{\"cells\":{\"fill\":{\"color\":\"#EBF0F8\"},\"line\":{\"color\":\"white\"}},\"header\":{\"fill\":{\"color\":\"#C8D4E3\"},\"line\":{\"color\":\"white\"}},\"type\":\"table\"}],\"barpolar\":[{\"marker\":{\"line\":{\"color\":\"#E5ECF6\",\"width\":0.5},\"pattern\":{\"fillmode\":\"overlay\",\"size\":10,\"solidity\":0.2}},\"type\":\"barpolar\"}],\"pie\":[{\"automargin\":true,\"type\":\"pie\"}]},\"layout\":{\"autotypenumbers\":\"strict\",\"colorway\":[\"#636efa\",\"#EF553B\",\"#00cc96\",\"#ab63fa\",\"#FFA15A\",\"#19d3f3\",\"#FF6692\",\"#B6E880\",\"#FF97FF\",\"#FECB52\"],\"font\":{\"color\":\"#2a3f5f\"},\"hovermode\":\"closest\",\"hoverlabel\":{\"align\":\"left\"},\"paper_bgcolor\":\"white\",\"plot_bgcolor\":\"#E5ECF6\",\"polar\":{\"bgcolor\":\"#E5ECF6\",\"angularaxis\":{\"gridcolor\":\"white\",\"linecolor\":\"white\",\"ticks\":\"\"},\"radialaxis\":{\"gridcolor\":\"white\",\"linecolor\":\"white\",\"ticks\":\"\"}},\"ternary\":{\"bgcolor\":\"#E5ECF6\",\"aaxis\":{\"gridcolor\":\"white\",\"linecolor\":\"white\",\"ticks\":\"\"},\"baxis\":{\"gridcolor\":\"white\",\"linecolor\":\"white\",\"ticks\":\"\"},\"caxis\":{\"gridcolor\":\"white\",\"linecolor\":\"white\",\"ticks\":\"\"}},\"coloraxis\":{\"colorbar\":{\"outlinewidth\":0,\"ticks\":\"\"}},\"colorscale\":{\"sequential\":[[0.0,\"#0d0887\"],[0.1111111111111111,\"#46039f\"],[0.2222222222222222,\"#7201a8\"],[0.3333333333333333,\"#9c179e\"],[0.4444444444444444,\"#bd3786\"],[0.5555555555555556,\"#d8576b\"],[0.6666666666666666,\"#ed7953\"],[0.7777777777777778,\"#fb9f3a\"],[0.8888888888888888,\"#fdca26\"],[1.0,\"#f0f921\"]],\"sequentialminus\":[[0.0,\"#0d0887\"],[0.1111111111111111,\"#46039f\"],[0.2222222222222222,\"#7201a8\"],[0.3333333333333333,\"#9c179e\"],[0.4444444444444444,\"#bd3786\"],[0.5555555555555556,\"#d8576b\"],[0.6666666666666666,\"#ed7953\"],[0.7777777777777778,\"#fb9f3a\"],[0.8888888888888888,\"#fdca26\"],[1.0,\"#f0f921\"]],\"diverging\":[[0,\"#8e0152\"],[0.1,\"#c51b7d\"],[0.2,\"#de77ae\"],[0.3,\"#f1b6da\"],[0.4,\"#fde0ef\"],[0.5,\"#f7f7f7\"],[0.6,\"#e6f5d0\"],[0.7,\"#b8e186\"],[0.8,\"#7fbc41\"],[0.9,\"#4d9221\"],[1,\"#276419\"]]},\"xaxis\":{\"gridcolor\":\"white\",\"linecolor\":\"white\",\"ticks\":\"\",\"title\":{\"standoff\":15},\"zerolinecolor\":\"white\",\"automargin\":true,\"zerolinewidth\":2},\"yaxis\":{\"gridcolor\":\"white\",\"linecolor\":\"white\",\"ticks\":\"\",\"title\":{\"standoff\":15},\"zerolinecolor\":\"white\",\"automargin\":true,\"zerolinewidth\":2},\"scene\":{\"xaxis\":{\"backgroundcolor\":\"#E5ECF6\",\"gridcolor\":\"white\",\"linecolor\":\"white\",\"showbackground\":true,\"ticks\":\"\",\"zerolinecolor\":\"white\",\"gridwidth\":2},\"yaxis\":{\"backgroundcolor\":\"#E5ECF6\",\"gridcolor\":\"white\",\"linecolor\":\"white\",\"showbackground\":true,\"ticks\":\"\",\"zerolinecolor\":\"white\",\"gridwidth\":2},\"zaxis\":{\"backgroundcolor\":\"#E5ECF6\",\"gridcolor\":\"white\",\"linecolor\":\"white\",\"showbackground\":true,\"ticks\":\"\",\"zerolinecolor\":\"white\",\"gridwidth\":2}},\"shapedefaults\":{\"line\":{\"color\":\"#2a3f5f\"}},\"annotationdefaults\":{\"arrowcolor\":\"#2a3f5f\",\"arrowhead\":0,\"arrowwidth\":1},\"geo\":{\"bgcolor\":\"white\",\"landcolor\":\"#E5ECF6\",\"subunitcolor\":\"white\",\"showland\":true,\"showlakes\":true,\"lakecolor\":\"white\"},\"title\":{\"x\":0.05},\"mapbox\":{\"style\":\"light\"}}},\"legend\":{\"tracegroupgap\":0},\"margin\":{\"t\":60}},                        {\"responsive\": true}                    ).then(function(){\n",
              "                            \n",
              "var gd = document.getElementById('1a2d9f95-6343-405f-a867-79ca9846af94');\n",
              "var x = new MutationObserver(function (mutations, observer) {{\n",
              "        var display = window.getComputedStyle(gd).display;\n",
              "        if (!display || display === 'none') {{\n",
              "            console.log([gd, 'removed!']);\n",
              "            Plotly.purge(gd);\n",
              "            observer.disconnect();\n",
              "        }}\n",
              "}});\n",
              "\n",
              "// Listen for the removal of the full notebook cells\n",
              "var notebookContainer = gd.closest('#notebook-container');\n",
              "if (notebookContainer) {{\n",
              "    x.observe(notebookContainer, {childList: true});\n",
              "}}\n",
              "\n",
              "// Listen for the clearing of the current output cell\n",
              "var outputEl = gd.closest('.output');\n",
              "if (outputEl) {{\n",
              "    x.observe(outputEl, {childList: true});\n",
              "}}\n",
              "\n",
              "                        })                };                });            </script>        </div>"
            ]
          },
          "metadata": {}
        }
      ]
    },
    {
      "cell_type": "code",
      "source": [
        "df_type = df[['site_url','type']]\n",
        "\n",
        "val_bias=[]\n",
        "val_conspiracy=[]\n",
        "val_fake1=[]\n",
        "val_bs=[]\n",
        "val_satire=[]\n",
        "val_hate=[]\n",
        "val_junksci=[]\n",
        "val_state=[]\n",
        "{'bias': 0, 'conspiracy': 1,'fake': 2,'bs': 3,'satire': 4, 'hate': 5,'junksci': 6, 'state': 7}\n",
        "for i,row in df_type.iterrows():\n",
        "    val = row['site_url']\n",
        "    if row['type'] == 0:\n",
        "        val_bias.append(val)\n",
        "    elif row['type']== 1:\n",
        "        val_conspiracy.append(val)\n",
        "    elif row['type']== 2:\n",
        "        val_fake1.append(val)\n",
        "    elif row['type']== 3:\n",
        "        val_bs.append(val)\n",
        "    elif row['type']== 4:\n",
        "        val_satire.append(val)\n",
        "    elif row['type']== 5:\n",
        "        val_hate.append(val)\n",
        "    elif row['type']== 6:\n",
        "        val_junksci.append(val)\n",
        "    elif row['type']== 7:\n",
        "        val_state.append(val)"
      ],
      "metadata": {
        "id": "-aJSYLNx5NvW"
      },
      "execution_count": null,
      "outputs": []
    },
    {
      "cell_type": "code",
      "source": [
        "uv_bias = list(OrderedDict.fromkeys(val_bias))\n",
        "uv_conspiracy = list(OrderedDict.fromkeys(val_conspiracy))\n",
        "uv_fake = list(OrderedDict.fromkeys(val_fake1))\n",
        "uv_bs = list(OrderedDict.fromkeys(val_bs))\n",
        "uv_satire = list(OrderedDict.fromkeys(val_satire))\n",
        "uv_hate = list(OrderedDict.fromkeys(val_hate))\n",
        "uv_junksci = list(OrderedDict.fromkeys(val_junksci))\n",
        "uv_state = list(OrderedDict.fromkeys(val_state))\n",
        "\n",
        "print(f\"{b_}{type1}\\n\")\n",
        "i=0\n",
        "for lst in (uv_bias,uv_conspiracy,uv_fake,uv_bs,uv_satire, uv_hate,uv_junksci,uv_state):\n",
        "    print(f\"{y_}Source URLs for type:{b_}{i}{r_}{lst}\\n\")\n",
        "    i+=1"
      ],
      "metadata": {
        "colab": {
          "base_uri": "https://localhost:8080/"
        },
        "id": "scvDwpeO5X0W",
        "outputId": "7b5d95c4-c90d-4f56-8331-4e0924d54c3c"
      },
      "execution_count": null,
      "outputs": [
        {
          "output_type": "stream",
          "name": "stdout",
          "text": [
            "\u001b[34m{'bias': 0, 'conspiracy': 1, 'fake': 2, 'bs': 3, 'satire': 4, 'hate': 5, 'junksci': 6, 'state': 7}\n",
            "\n",
            "\u001b[33mSource URLs for type:\u001b[34m0\u001b[31m['100percentfedup.com', 'addictinginfo.org', 'dailywire.com', 'newstarget.com', 'politicususa.com', 'prisonplanet.com', 'proudemocrat.com', 'washingtonsblog.com', 'westernjournalism.com', 'whydontyoutrythis.com', 'wnd.com']\n",
            "\n",
            "\u001b[33mSource URLs for type:\u001b[34m1\u001b[31m['21stcenturywire.com', 'activistpost.com', 'awdnews.com', 'galacticconnection.com', 'globalresearch.ca', 'infowars.com', 'naturalnews.com', 'newstarget.com', 'presstv.ir', 'prisonplanet.com']\n",
            "\n",
            "\u001b[33mSource URLs for type:\u001b[34m2\u001b[31m['abcnews.com.co', 'adobochronicles.com']\n",
            "\n",
            "\u001b[33mSource URLs for type:\u001b[34m3\u001b[31m['abeldanger.net', 'abovetopsecret.com', 'ahtribune.com', 'allnewspipeline.com', 'americannews.com', 'americasfreedomfighters.com', 'amren.com', 'amtvmedia.com', 'barenakedislam.com', 'coasttocoastam.com', 'corbettreport.com', 'countercurrents.org', 'counterpunch.org', 'darkmoon.me', 'davidduke.com', 'davidstockmanscontracorner.com', 'davidwolfe.com', 'dcclothesline.com', 'defenddemocracy.press', 'dennismichaellynch.com', 'departed.co', 'der-postillon.com', 'fromthetrenchesworldreport.com', 'frontpagemag.com', 'galacticconnection.com', 'infowars.com', 'legorafi.fr', 'projectveritas.com', 'returnofkings.com', 'shiftfrequency.com', 'thedailysheeple.com', 'theeconomiccollapseblog.com', 'thefreethoughtproject.com', 'themindunleashed.com', 'theonion.com', 'thepeoplescube.com', 'therussophile.org', 'thesaker.is', 'thetruthseeker.co.uk', 'theunrealtimes.com', 'topinfopost.com', 'veteranstoday.com', 'voltairenet.org', 'washingtonsblog.com', 'westernjournalism.com', 'whatreallyhappened.com']\n",
            "\n",
            "\u001b[33mSource URLs for type:\u001b[34m4\u001b[31m['clickhole.com', 'intrepidreport.com', 'legorafi.fr']\n",
            "\n",
            "\u001b[33mSource URLs for type:\u001b[34m5\u001b[31m['davidduke.com', 'fromthetrenchesworldreport.com', 'frontpagemag.com', 'redstatewatcher.com', 'returnofkings.com']\n",
            "\n",
            "\u001b[33mSource URLs for type:\u001b[34m6\u001b[31m['davidstockmanscontracorner.com', 'davidwolfe.com', 'madworldnews.com', 'naturalnews.com']\n",
            "\n",
            "\u001b[33mSource URLs for type:\u001b[34m7\u001b[31m['politicususa.com', 'presstv.com', 'presstv.ir']\n",
            "\n"
          ]
        }
      ]
    },
    {
      "cell_type": "code",
      "source": [
        "df1 = df.sample(frac=1)\n",
        "df1.head()"
      ],
      "metadata": {
        "colab": {
          "base_uri": "https://localhost:8080/",
          "height": 639
        },
        "id": "ir4tzer15cAy",
        "outputId": "2f760fd4-630c-4ca5-c26a-363a30760610"
      },
      "execution_count": null,
      "outputs": [
        {
          "output_type": "execute_result",
          "data": {
            "text/plain": [
              "                                   published  \\\n",
              "author                                         \n",
              "No Author      2016-10-27T21:11:19.331+03:00   \n",
              "Jared Taylor   2016-10-29T04:38:59.696+03:00   \n",
              "admin          2016-10-27T17:44:45.437+03:00   \n",
              "Daniel Barker  2016-10-28T09:34:00.532+03:00   \n",
              "No Author      2016-11-06T03:17:00.000+02:00   \n",
              "\n",
              "                                                           title  \\\n",
              "author                                                             \n",
              "No Author      wikileaks hillary got  million for clinton cha...   \n",
              "Jared Taylor                       media selfdestruct over trump   \n",
              "admin                   trump warns of vote flipping on machines   \n",
              "Daniel Barker  is too much screen time hurting your kids ment...   \n",
              "No Author      presstvus admits afghan strike likely caused c...   \n",
              "\n",
              "                                                            text language  \\\n",
              "author                                                                      \n",
              "No Author      email president barack obama admonished donald...  english   \n",
              "Jared Taylor   some cities want their noncitizen immigrants t...  english   \n",
              "admin          home this month popular feminism has lost the ...  english   \n",
              "Daniel Barker  dakota access pipeline violence grows as milit...  english   \n",
              "No Author      indian princess watches over rare paleontologi...  english   \n",
              "\n",
              "                       site_url  \\\n",
              "author                            \n",
              "No Author           awdnews.com   \n",
              "Jared Taylor          amren.com   \n",
              "admin          prisonplanet.com   \n",
              "Daniel Barker   naturalnews.com   \n",
              "No Author           presstv.com   \n",
              "\n",
              "                                                    main_img_url  type label  \\\n",
              "author                                                                         \n",
              "No Author      http://awdnews.com/images/1477586403hillary-cl...     1  Fake   \n",
              "Jared Taylor   http://www.amren.com/wp-content/uploads/2014/0...     3  Fake   \n",
              "admin          http://static.infowars.com/images/INFOWARS_sta...     1  Fake   \n",
              "Daniel Barker  http://www.naturalnews.com/gallery/640/Food/So...     6  Fake   \n",
              "No Author      http://media.presstv.com/photo/20161112/d13fd5...     7  Real   \n",
              "\n",
              "                                         title_without_stopwords  \\\n",
              "author                                                             \n",
              "No Author      wikileaks hillary got million clinton charity ...   \n",
              "Jared Taylor                            media selfdestruct trump   \n",
              "admin          republicans congress ready hillary prepare new...   \n",
              "Daniel Barker  see list presstitutes colluded clintons defrau...   \n",
              "No Author                      presstvputin would attack anybody   \n",
              "\n",
              "                                          text_without_stopwords  hasImage  \n",
              "author                                                                      \n",
              "No Author      email president barack obama admonished donald...       1.0  \n",
              "Jared Taylor   cities want noncitizen immigrants vote carolin...       1.0  \n",
              "admin          population growth industrial agriculture envir...       1.0  \n",
              "Daniel Barker  fda withdraw generic adhd drugs determining th...       1.0  \n",
              "No Author      foreign policy debate house commons parliament...       1.0  "
            ],
            "text/html": [
              "\n",
              "  <div id=\"df-e0d13294-b81c-4bf4-9cbe-244d867ca6a0\" class=\"colab-df-container\">\n",
              "    <div>\n",
              "<style scoped>\n",
              "    .dataframe tbody tr th:only-of-type {\n",
              "        vertical-align: middle;\n",
              "    }\n",
              "\n",
              "    .dataframe tbody tr th {\n",
              "        vertical-align: top;\n",
              "    }\n",
              "\n",
              "    .dataframe thead th {\n",
              "        text-align: right;\n",
              "    }\n",
              "</style>\n",
              "<table border=\"1\" class=\"dataframe\">\n",
              "  <thead>\n",
              "    <tr style=\"text-align: right;\">\n",
              "      <th></th>\n",
              "      <th>published</th>\n",
              "      <th>title</th>\n",
              "      <th>text</th>\n",
              "      <th>language</th>\n",
              "      <th>site_url</th>\n",
              "      <th>main_img_url</th>\n",
              "      <th>type</th>\n",
              "      <th>label</th>\n",
              "      <th>title_without_stopwords</th>\n",
              "      <th>text_without_stopwords</th>\n",
              "      <th>hasImage</th>\n",
              "    </tr>\n",
              "    <tr>\n",
              "      <th>author</th>\n",
              "      <th></th>\n",
              "      <th></th>\n",
              "      <th></th>\n",
              "      <th></th>\n",
              "      <th></th>\n",
              "      <th></th>\n",
              "      <th></th>\n",
              "      <th></th>\n",
              "      <th></th>\n",
              "      <th></th>\n",
              "      <th></th>\n",
              "    </tr>\n",
              "  </thead>\n",
              "  <tbody>\n",
              "    <tr>\n",
              "      <th>No Author</th>\n",
              "      <td>2016-10-27T21:11:19.331+03:00</td>\n",
              "      <td>wikileaks hillary got  million for clinton cha...</td>\n",
              "      <td>email president barack obama admonished donald...</td>\n",
              "      <td>english</td>\n",
              "      <td>awdnews.com</td>\n",
              "      <td>http://awdnews.com/images/1477586403hillary-cl...</td>\n",
              "      <td>1</td>\n",
              "      <td>Fake</td>\n",
              "      <td>wikileaks hillary got million clinton charity ...</td>\n",
              "      <td>email president barack obama admonished donald...</td>\n",
              "      <td>1.0</td>\n",
              "    </tr>\n",
              "    <tr>\n",
              "      <th>Jared Taylor</th>\n",
              "      <td>2016-10-29T04:38:59.696+03:00</td>\n",
              "      <td>media selfdestruct over trump</td>\n",
              "      <td>some cities want their noncitizen immigrants t...</td>\n",
              "      <td>english</td>\n",
              "      <td>amren.com</td>\n",
              "      <td>http://www.amren.com/wp-content/uploads/2014/0...</td>\n",
              "      <td>3</td>\n",
              "      <td>Fake</td>\n",
              "      <td>media selfdestruct trump</td>\n",
              "      <td>cities want noncitizen immigrants vote carolin...</td>\n",
              "      <td>1.0</td>\n",
              "    </tr>\n",
              "    <tr>\n",
              "      <th>admin</th>\n",
              "      <td>2016-10-27T17:44:45.437+03:00</td>\n",
              "      <td>trump warns of vote flipping on machines</td>\n",
              "      <td>home this month popular feminism has lost the ...</td>\n",
              "      <td>english</td>\n",
              "      <td>prisonplanet.com</td>\n",
              "      <td>http://static.infowars.com/images/INFOWARS_sta...</td>\n",
              "      <td>1</td>\n",
              "      <td>Fake</td>\n",
              "      <td>republicans congress ready hillary prepare new...</td>\n",
              "      <td>population growth industrial agriculture envir...</td>\n",
              "      <td>1.0</td>\n",
              "    </tr>\n",
              "    <tr>\n",
              "      <th>Daniel Barker</th>\n",
              "      <td>2016-10-28T09:34:00.532+03:00</td>\n",
              "      <td>is too much screen time hurting your kids ment...</td>\n",
              "      <td>dakota access pipeline violence grows as milit...</td>\n",
              "      <td>english</td>\n",
              "      <td>naturalnews.com</td>\n",
              "      <td>http://www.naturalnews.com/gallery/640/Food/So...</td>\n",
              "      <td>6</td>\n",
              "      <td>Fake</td>\n",
              "      <td>see list presstitutes colluded clintons defrau...</td>\n",
              "      <td>fda withdraw generic adhd drugs determining th...</td>\n",
              "      <td>1.0</td>\n",
              "    </tr>\n",
              "    <tr>\n",
              "      <th>No Author</th>\n",
              "      <td>2016-11-06T03:17:00.000+02:00</td>\n",
              "      <td>presstvus admits afghan strike likely caused c...</td>\n",
              "      <td>indian princess watches over rare paleontologi...</td>\n",
              "      <td>english</td>\n",
              "      <td>presstv.com</td>\n",
              "      <td>http://media.presstv.com/photo/20161112/d13fd5...</td>\n",
              "      <td>7</td>\n",
              "      <td>Real</td>\n",
              "      <td>presstvputin would attack anybody</td>\n",
              "      <td>foreign policy debate house commons parliament...</td>\n",
              "      <td>1.0</td>\n",
              "    </tr>\n",
              "  </tbody>\n",
              "</table>\n",
              "</div>\n",
              "    <div class=\"colab-df-buttons\">\n",
              "\n",
              "  <div class=\"colab-df-container\">\n",
              "    <button class=\"colab-df-convert\" onclick=\"convertToInteractive('df-e0d13294-b81c-4bf4-9cbe-244d867ca6a0')\"\n",
              "            title=\"Convert this dataframe to an interactive table.\"\n",
              "            style=\"display:none;\">\n",
              "\n",
              "  <svg xmlns=\"http://www.w3.org/2000/svg\" height=\"24px\" viewBox=\"0 -960 960 960\">\n",
              "    <path d=\"M120-120v-720h720v720H120Zm60-500h600v-160H180v160Zm220 220h160v-160H400v160Zm0 220h160v-160H400v160ZM180-400h160v-160H180v160Zm440 0h160v-160H620v160ZM180-180h160v-160H180v160Zm440 0h160v-160H620v160Z\"/>\n",
              "  </svg>\n",
              "    </button>\n",
              "\n",
              "  <style>\n",
              "    .colab-df-container {\n",
              "      display:flex;\n",
              "      gap: 12px;\n",
              "    }\n",
              "\n",
              "    .colab-df-convert {\n",
              "      background-color: #E8F0FE;\n",
              "      border: none;\n",
              "      border-radius: 50%;\n",
              "      cursor: pointer;\n",
              "      display: none;\n",
              "      fill: #1967D2;\n",
              "      height: 32px;\n",
              "      padding: 0 0 0 0;\n",
              "      width: 32px;\n",
              "    }\n",
              "\n",
              "    .colab-df-convert:hover {\n",
              "      background-color: #E2EBFA;\n",
              "      box-shadow: 0px 1px 2px rgba(60, 64, 67, 0.3), 0px 1px 3px 1px rgba(60, 64, 67, 0.15);\n",
              "      fill: #174EA6;\n",
              "    }\n",
              "\n",
              "    .colab-df-buttons div {\n",
              "      margin-bottom: 4px;\n",
              "    }\n",
              "\n",
              "    [theme=dark] .colab-df-convert {\n",
              "      background-color: #3B4455;\n",
              "      fill: #D2E3FC;\n",
              "    }\n",
              "\n",
              "    [theme=dark] .colab-df-convert:hover {\n",
              "      background-color: #434B5C;\n",
              "      box-shadow: 0px 1px 3px 1px rgba(0, 0, 0, 0.15);\n",
              "      filter: drop-shadow(0px 1px 2px rgba(0, 0, 0, 0.3));\n",
              "      fill: #FFFFFF;\n",
              "    }\n",
              "  </style>\n",
              "\n",
              "    <script>\n",
              "      const buttonEl =\n",
              "        document.querySelector('#df-e0d13294-b81c-4bf4-9cbe-244d867ca6a0 button.colab-df-convert');\n",
              "      buttonEl.style.display =\n",
              "        google.colab.kernel.accessAllowed ? 'block' : 'none';\n",
              "\n",
              "      async function convertToInteractive(key) {\n",
              "        const element = document.querySelector('#df-e0d13294-b81c-4bf4-9cbe-244d867ca6a0');\n",
              "        const dataTable =\n",
              "          await google.colab.kernel.invokeFunction('convertToInteractive',\n",
              "                                                    [key], {});\n",
              "        if (!dataTable) return;\n",
              "\n",
              "        const docLinkHtml = 'Like what you see? Visit the ' +\n",
              "          '<a target=\"_blank\" href=https://colab.research.google.com/notebooks/data_table.ipynb>data table notebook</a>'\n",
              "          + ' to learn more about interactive tables.';\n",
              "        element.innerHTML = '';\n",
              "        dataTable['output_type'] = 'display_data';\n",
              "        await google.colab.output.renderOutput(dataTable, element);\n",
              "        const docLink = document.createElement('div');\n",
              "        docLink.innerHTML = docLinkHtml;\n",
              "        element.appendChild(docLink);\n",
              "      }\n",
              "    </script>\n",
              "  </div>\n",
              "\n",
              "\n",
              "<div id=\"df-9c453cdb-916d-4016-b08f-f921f0bd573f\">\n",
              "  <button class=\"colab-df-quickchart\" onclick=\"quickchart('df-9c453cdb-916d-4016-b08f-f921f0bd573f')\"\n",
              "            title=\"Suggest charts\"\n",
              "            style=\"display:none;\">\n",
              "\n",
              "<svg xmlns=\"http://www.w3.org/2000/svg\" height=\"24px\"viewBox=\"0 0 24 24\"\n",
              "     width=\"24px\">\n",
              "    <g>\n",
              "        <path d=\"M19 3H5c-1.1 0-2 .9-2 2v14c0 1.1.9 2 2 2h14c1.1 0 2-.9 2-2V5c0-1.1-.9-2-2-2zM9 17H7v-7h2v7zm4 0h-2V7h2v10zm4 0h-2v-4h2v4z\"/>\n",
              "    </g>\n",
              "</svg>\n",
              "  </button>\n",
              "\n",
              "<style>\n",
              "  .colab-df-quickchart {\n",
              "      --bg-color: #E8F0FE;\n",
              "      --fill-color: #1967D2;\n",
              "      --hover-bg-color: #E2EBFA;\n",
              "      --hover-fill-color: #174EA6;\n",
              "      --disabled-fill-color: #AAA;\n",
              "      --disabled-bg-color: #DDD;\n",
              "  }\n",
              "\n",
              "  [theme=dark] .colab-df-quickchart {\n",
              "      --bg-color: #3B4455;\n",
              "      --fill-color: #D2E3FC;\n",
              "      --hover-bg-color: #434B5C;\n",
              "      --hover-fill-color: #FFFFFF;\n",
              "      --disabled-bg-color: #3B4455;\n",
              "      --disabled-fill-color: #666;\n",
              "  }\n",
              "\n",
              "  .colab-df-quickchart {\n",
              "    background-color: var(--bg-color);\n",
              "    border: none;\n",
              "    border-radius: 50%;\n",
              "    cursor: pointer;\n",
              "    display: none;\n",
              "    fill: var(--fill-color);\n",
              "    height: 32px;\n",
              "    padding: 0;\n",
              "    width: 32px;\n",
              "  }\n",
              "\n",
              "  .colab-df-quickchart:hover {\n",
              "    background-color: var(--hover-bg-color);\n",
              "    box-shadow: 0 1px 2px rgba(60, 64, 67, 0.3), 0 1px 3px 1px rgba(60, 64, 67, 0.15);\n",
              "    fill: var(--button-hover-fill-color);\n",
              "  }\n",
              "\n",
              "  .colab-df-quickchart-complete:disabled,\n",
              "  .colab-df-quickchart-complete:disabled:hover {\n",
              "    background-color: var(--disabled-bg-color);\n",
              "    fill: var(--disabled-fill-color);\n",
              "    box-shadow: none;\n",
              "  }\n",
              "\n",
              "  .colab-df-spinner {\n",
              "    border: 2px solid var(--fill-color);\n",
              "    border-color: transparent;\n",
              "    border-bottom-color: var(--fill-color);\n",
              "    animation:\n",
              "      spin 1s steps(1) infinite;\n",
              "  }\n",
              "\n",
              "  @keyframes spin {\n",
              "    0% {\n",
              "      border-color: transparent;\n",
              "      border-bottom-color: var(--fill-color);\n",
              "      border-left-color: var(--fill-color);\n",
              "    }\n",
              "    20% {\n",
              "      border-color: transparent;\n",
              "      border-left-color: var(--fill-color);\n",
              "      border-top-color: var(--fill-color);\n",
              "    }\n",
              "    30% {\n",
              "      border-color: transparent;\n",
              "      border-left-color: var(--fill-color);\n",
              "      border-top-color: var(--fill-color);\n",
              "      border-right-color: var(--fill-color);\n",
              "    }\n",
              "    40% {\n",
              "      border-color: transparent;\n",
              "      border-right-color: var(--fill-color);\n",
              "      border-top-color: var(--fill-color);\n",
              "    }\n",
              "    60% {\n",
              "      border-color: transparent;\n",
              "      border-right-color: var(--fill-color);\n",
              "    }\n",
              "    80% {\n",
              "      border-color: transparent;\n",
              "      border-right-color: var(--fill-color);\n",
              "      border-bottom-color: var(--fill-color);\n",
              "    }\n",
              "    90% {\n",
              "      border-color: transparent;\n",
              "      border-bottom-color: var(--fill-color);\n",
              "    }\n",
              "  }\n",
              "</style>\n",
              "\n",
              "  <script>\n",
              "    async function quickchart(key) {\n",
              "      const quickchartButtonEl =\n",
              "        document.querySelector('#' + key + ' button');\n",
              "      quickchartButtonEl.disabled = true;  // To prevent multiple clicks.\n",
              "      quickchartButtonEl.classList.add('colab-df-spinner');\n",
              "      try {\n",
              "        const charts = await google.colab.kernel.invokeFunction(\n",
              "            'suggestCharts', [key], {});\n",
              "      } catch (error) {\n",
              "        console.error('Error during call to suggestCharts:', error);\n",
              "      }\n",
              "      quickchartButtonEl.classList.remove('colab-df-spinner');\n",
              "      quickchartButtonEl.classList.add('colab-df-quickchart-complete');\n",
              "    }\n",
              "    (() => {\n",
              "      let quickchartButtonEl =\n",
              "        document.querySelector('#df-9c453cdb-916d-4016-b08f-f921f0bd573f button');\n",
              "      quickchartButtonEl.style.display =\n",
              "        google.colab.kernel.accessAllowed ? 'block' : 'none';\n",
              "    })();\n",
              "  </script>\n",
              "</div>\n",
              "\n",
              "    </div>\n",
              "  </div>\n"
            ],
            "application/vnd.google.colaboratory.intrinsic+json": {
              "type": "dataframe",
              "variable_name": "df1",
              "summary": "{\n  \"name\": \"df1\",\n  \"rows\": 2045,\n  \"fields\": [\n    {\n      \"column\": \"author\",\n      \"properties\": {\n        \"dtype\": \"category\",\n        \"num_unique_values\": 485,\n        \"samples\": [\n          \"hawkmo99\",\n          \"Lisa Beach\",\n          \"KD7ONE\"\n        ],\n        \"semantic_type\": \"\",\n        \"description\": \"\"\n      }\n    },\n    {\n      \"column\": \"published\",\n      \"properties\": {\n        \"dtype\": \"string\",\n        \"num_unique_values\": 1956,\n        \"samples\": [\n          \"2016-10-29T00:46:02.536+03:00\",\n          \"2016-11-01T19:47:00.000+02:00\",\n          \"2016-10-27T00:40:21.214+03:00\"\n        ],\n        \"semantic_type\": \"\",\n        \"description\": \"\"\n      }\n    },\n    {\n      \"column\": \"title\",\n      \"properties\": {\n        \"dtype\": \"string\",\n        \"num_unique_values\": 1755,\n        \"samples\": [\n          \"executes  iraqi civilians in hammam alalil  in arij village official\",\n          \"massive increase reported in illegal immigrants coming across southern border\",\n          \"comment on donald trump to replace filipina white house chef with paula deen by mitch jalandoni\"\n        ],\n        \"semantic_type\": \"\",\n        \"description\": \"\"\n      }\n    },\n    {\n      \"column\": \"text\",\n      \"properties\": {\n        \"dtype\": \"string\",\n        \"num_unique_values\": 1936,\n        \"samples\": [\n          \"dems sue gop over trumps rigged complaints claim argument designed to suppress vote in minority communities published  mins ago \\ncnn the democratic national committee is suing the republican national committee for aiding gop nominee donald trump as he argues that the presidential election is rigged claiming that trumps argument is designed to suppress the vote in minority communities \\nthe suit filed wednesday in us district court in new jersey argues that the rnc has not sufficiently rebuked trump for the line of attack which he has used as a rallying cry and is assumed to be a way to explain away a potential loss on election day \\nwhat more weve learned about clintons circle neera tanden from email hack\",\n          \"newsbusters october   \\non wednesdays morning joe  cohost joe scarborough once again was forced to actually tell the truth about the liberal bias in media coverage throughout this entire election \\nscarborough a former florida republican congressman began the discussion stating that \\nas a republican theres a natural reaction to press bias and it has been so overwhelming even if it is has been earned the media has taken sides theyve aggressively taken sides and theyve admitted that were aggressively taking sides and i think you get some republicans that see that every four years its so funny they do that every four years every four years its like the end of the world if a republican gets elected president because theyre all racist its the boy that cried wolf \\nin a sense what was articulated is that the mass medias historic liberal bias against conservatives is reflected in every election so much so that in this one their usual partisan attacks against trumps controversial personality are not as effective also scarborough stated the fact shared by many conservatives that there is an overwhelming and aggressive agenda by the press to defend liberals \\nfurthermore in conversation with frequent panelist mike barnicle scarborough added also its such a confounding election where we go back and forth on what its about mike barnicle said all along that its about hillary clinton people say im going to vote for hillary clinton as a protest against and then after sitting on that for a couple of weeks that thought for a couple weeks they go ehmaybe not \\nin a way they were all trying to explain how trump is still almost tied to clinton in a number of battleground state polls despite the disproportionate amount of negative coverage later on in response to cohost willie geists remarks about the race being almost over scarborough proved his earlier point about the medias disconnect \\ni got to say willie everybody that is saying its over and youre a fool if youre suggesting that the american people may have the final say at the voting booth are the same people that were saying in august september october november december january february that there was no way in a million years that donald trump would ever win the republican nomination stating it just as emphatically as theyre stating now that we need to avert our eyes this race is over  \\nhere are the excerpts from the october th discussion on morning joe  \\nmsnbcs morning joe \\n \\n am \\njoe scarborough people in the press wont like to hear there also is  as a republican theres a natural reaction to press bias and it has been so overwhelming even if it is has been earned the media has taken sides theyve aggressively taken sides and theyve admitted that were aggressively taking sides and i think you get some republicans that see that every four years its so funny they do that every four years every four years its like the end of the world if a republican gets elected president because theyre all racist its the boy that cried wolf also its such a confounding election where we go back and forth on what its about mike barnicle said all along that its about hillary clinton people say im going to vote for hillary clinton as a protest against and then after sitting on that for a couple of weeks that thought for a couple weeks they go ehmaybe not \\n \\n   am \\nscarborough i got to say willie everybody that is saying its over and youre a fool if youre suggesting that the american people may have the final say at the voting booth are the same people that were saying in august september october november december january february that there was no way in a million years that donald trump would ever win the republican nomination stating it just as emphatically as theyre stating now that we need to avert our eyes this race is over   \",\n          \"potus is so clueless about everything that he doesnt hear about it until when the rest of us do talk about being unprepared for the presidency this guy is still unprepared\"\n        ],\n        \"semantic_type\": \"\",\n        \"description\": \"\"\n      }\n    },\n    {\n      \"column\": \"language\",\n      \"properties\": {\n        \"dtype\": \"category\",\n        \"num_unique_values\": 5,\n        \"samples\": [\n          \"german\",\n          \"spanish\",\n          \"french\"\n        ],\n        \"semantic_type\": \"\",\n        \"description\": \"\"\n      }\n    },\n    {\n      \"column\": \"site_url\",\n      \"properties\": {\n        \"dtype\": \"category\",\n        \"num_unique_values\": 68,\n        \"samples\": [\n          \"intrepidreport.com\",\n          \"politicususa.com\",\n          \"presstv.com\"\n        ],\n        \"semantic_type\": \"\",\n        \"description\": \"\"\n      }\n    },\n    {\n      \"column\": \"main_img_url\",\n      \"properties\": {\n        \"dtype\": \"string\",\n        \"num_unique_values\": 1181,\n        \"samples\": [\n          \"http://ahtribune.com/images/media/Sergei_Shoigu_690a3.jpg\",\n          \"http://mobile.wnd.com/files/2015/11/Nov-2-2015-7.jpg\",\n          \"http://media.presstv.com/photo/20161027/e5ef60c2-b730-417d-8c7f-a0a23de96800.jpg\"\n        ],\n        \"semantic_type\": \"\",\n        \"description\": \"\"\n      }\n    },\n    {\n      \"column\": \"type\",\n      \"properties\": {\n        \"dtype\": \"number\",\n        \"std\": 2,\n        \"min\": 0,\n        \"max\": 7,\n        \"num_unique_values\": 8,\n        \"samples\": [\n          3,\n          0,\n          1\n        ],\n        \"semantic_type\": \"\",\n        \"description\": \"\"\n      }\n    },\n    {\n      \"column\": \"label\",\n      \"properties\": {\n        \"dtype\": \"category\",\n        \"num_unique_values\": 2,\n        \"samples\": [\n          \"Real\",\n          \"Fake\"\n        ],\n        \"semantic_type\": \"\",\n        \"description\": \"\"\n      }\n    },\n    {\n      \"column\": \"title_without_stopwords\",\n      \"properties\": {\n        \"dtype\": \"string\",\n        \"num_unique_values\": 1752,\n        \"samples\": [\n          \"reasons ill vote trump\",\n          \"chaos bei jochen schweizer beschenkte person tats\\u00c3\\u00a4chlich erlebnisgutschein einl\\u00c3\\u00b6sen\"\n        ],\n        \"semantic_type\": \"\",\n        \"description\": \"\"\n      }\n    },\n    {\n      \"column\": \"text_without_stopwords\",\n      \"properties\": {\n        \"dtype\": \"string\",\n        \"num_unique_values\": 1936,\n        \"samples\": [\n          \"dems sue gop trumps rigged complaints claim argument designed suppress vote minority communities published hours ago cnn democratic national committee suing republican national committee aiding gop nominee donald trump argues presidential election rigged claiming trumps argument designed suppress vote minority communities suit filed wednesday us district court new jersey argues rnc sufficiently rebuked trump line attack used rallying cry assumed way explain away potential loss election day weve learned clintons circle neera tanden email hack\",\n          \"undated handout photo received antarctic ocean alliance october shows adelie penguin pack ice ross sea antarctica afp international leaders joined hands create worlds largest marine park antarctic ocean european union countries reached momentous agreement open ross sea park deal sealed hobart australia prolonged negotiations run united nations commission conservation antarctic marine living resources ross sea marine park cover area million square kilometers protected commercial fishing years preserved area covers percent southern ocean home species scientists activists consider deal historic milestone decades global efforts marine preservation ross sea seen one worlds ecologically important oceans unique qualities scientists believe marine park platform deeper understanding climate change impacts member commission comprised russia china us eu unanimous support decision loading\"\n        ],\n        \"semantic_type\": \"\",\n        \"description\": \"\"\n      }\n    },\n    {\n      \"column\": \"hasImage\",\n      \"properties\": {\n        \"dtype\": \"number\",\n        \"std\": 0.4192450252856324,\n        \"min\": 0.0,\n        \"max\": 1.0,\n        \"num_unique_values\": 2,\n        \"samples\": [\n          0.0,\n          1.0\n        ],\n        \"semantic_type\": \"\",\n        \"description\": \"\"\n      }\n    }\n  ]\n}"
            }
          },
          "metadata": {},
          "execution_count": 34
        }
      ]
    },
    {
      "cell_type": "code",
      "source": [
        "y = df1.type\n",
        "\n",
        "x = df1.loc[:,['site_url','text_without_stopwords']]\n",
        "x['source'] = x[\"site_url\"].astype(str) +\" \"+ x[\"text_without_stopwords\"]\n",
        "x = x.drop(['site_url','text_without_stopwords'],axis=1)\n",
        "x = x.source"
      ],
      "metadata": {
        "id": "rTAzwkWf5hM2"
      },
      "execution_count": null,
      "outputs": []
    },
    {
      "cell_type": "code",
      "source": [
        "from sklearn.feature_extraction.text import TfidfVectorizer\n",
        "from sklearn.model_selection import train_test_split\n",
        "import pandas as pd\n",
        "\n",
        "# Splitting the dataset\n",
        "x_train, x_test, y_train, y_test = train_test_split(x, y, test_size=0.30, random_state=42)\n",
        "\n",
        "# Initialize and fit the TfidfVectorizer\n",
        "tfidf_vect = TfidfVectorizer(stop_words='english')\n",
        "tfidf_train = tfidf_vect.fit_transform(x_train)\n",
        "tfidf_test = tfidf_vect.transform(x_test)\n",
        "\n",
        "# Use get_feature_names_out() instead of get_feature_names()\n",
        "tfidf_df = pd.DataFrame(tfidf_train.A, columns=tfidf_vect.get_feature_names_out())\n",
        "\n",
        "# Display the DataFrame\n",
        "print(tfidf_df.head())\n"
      ],
      "metadata": {
        "colab": {
          "base_uri": "https://localhost:8080/"
        },
        "id": "i_XfC2Bm5mq1",
        "outputId": "a216480f-dd1d-43f4-d40d-d4a86566360a"
      },
      "execution_count": null,
      "outputs": [
        {
          "output_type": "stream",
          "name": "stdout",
          "text": [
            "   100percentfedup  21stcenturywire  ___   aa  aab  aadmi  aafe  aaja  aali  \\\n",
            "0              0.0              0.0  0.0  0.0  0.0    0.0   0.0   0.0   0.0   \n",
            "1              0.0              0.0  0.0  0.0  0.0    0.0   0.0   0.0   0.0   \n",
            "2              0.0              0.0  0.0  0.0  0.0    0.0   0.0   0.0   0.0   \n",
            "3              0.0              0.0  0.0  0.0  0.0    0.0   0.0   0.0   0.0   \n",
            "4              0.0              0.0  0.0  0.0  0.0    0.0   0.0   0.0   0.0   \n",
            "\n",
            "   aam  ...  ã¼berraschend  ã¼berrascht  ã¼berreden  ã¼berreicht  ã¼berschwã  \\\n",
            "0  0.0  ...            0.0          0.0         0.0          0.0         0.0   \n",
            "1  0.0  ...            0.0          0.0         0.0          0.0         0.0   \n",
            "2  0.0  ...            0.0          0.0         0.0          0.0         0.0   \n",
            "3  0.0  ...            0.0          0.0         0.0          0.0         0.0   \n",
            "4  0.0  ...            0.0          0.0         0.0          0.0         0.0   \n",
            "\n",
            "   ã¼bertrieben  ã¼berwacht  ã¼berwachungskamera  ã¼berwachungskameras  \\\n",
            "0           0.0         0.0                  0.0                   0.0   \n",
            "1           0.0         0.0                  0.0                   0.0   \n",
            "2           0.0         0.0                  0.0                   0.0   \n",
            "3           0.0         0.0                  0.0                   0.0   \n",
            "4           0.0         0.0                  0.0                   0.0   \n",
            "\n",
            "   ã¼berwã  \n",
            "0      0.0  \n",
            "1      0.0  \n",
            "2      0.0  \n",
            "3      0.0  \n",
            "4      0.0  \n",
            "\n",
            "[5 rows x 38890 columns]\n"
          ]
        }
      ]
    },
    {
      "cell_type": "code",
      "source": [
        "tfidf_vect"
      ],
      "metadata": {
        "colab": {
          "base_uri": "https://localhost:8080/",
          "height": 80
        },
        "id": "GggB_hpw5pax",
        "outputId": "0c2e9f61-2c44-48e0-e5e8-b7cbd8bda1cb"
      },
      "execution_count": null,
      "outputs": [
        {
          "output_type": "execute_result",
          "data": {
            "text/plain": [
              "TfidfVectorizer(stop_words='english')"
            ],
            "text/html": [
              "<style>#sk-container-id-1 {\n",
              "  /* Definition of color scheme common for light and dark mode */\n",
              "  --sklearn-color-text: #000;\n",
              "  --sklearn-color-text-muted: #666;\n",
              "  --sklearn-color-line: gray;\n",
              "  /* Definition of color scheme for unfitted estimators */\n",
              "  --sklearn-color-unfitted-level-0: #fff5e6;\n",
              "  --sklearn-color-unfitted-level-1: #f6e4d2;\n",
              "  --sklearn-color-unfitted-level-2: #ffe0b3;\n",
              "  --sklearn-color-unfitted-level-3: chocolate;\n",
              "  /* Definition of color scheme for fitted estimators */\n",
              "  --sklearn-color-fitted-level-0: #f0f8ff;\n",
              "  --sklearn-color-fitted-level-1: #d4ebff;\n",
              "  --sklearn-color-fitted-level-2: #b3dbfd;\n",
              "  --sklearn-color-fitted-level-3: cornflowerblue;\n",
              "\n",
              "  /* Specific color for light theme */\n",
              "  --sklearn-color-text-on-default-background: var(--sg-text-color, var(--theme-code-foreground, var(--jp-content-font-color1, black)));\n",
              "  --sklearn-color-background: var(--sg-background-color, var(--theme-background, var(--jp-layout-color0, white)));\n",
              "  --sklearn-color-border-box: var(--sg-text-color, var(--theme-code-foreground, var(--jp-content-font-color1, black)));\n",
              "  --sklearn-color-icon: #696969;\n",
              "\n",
              "  @media (prefers-color-scheme: dark) {\n",
              "    /* Redefinition of color scheme for dark theme */\n",
              "    --sklearn-color-text-on-default-background: var(--sg-text-color, var(--theme-code-foreground, var(--jp-content-font-color1, white)));\n",
              "    --sklearn-color-background: var(--sg-background-color, var(--theme-background, var(--jp-layout-color0, #111)));\n",
              "    --sklearn-color-border-box: var(--sg-text-color, var(--theme-code-foreground, var(--jp-content-font-color1, white)));\n",
              "    --sklearn-color-icon: #878787;\n",
              "  }\n",
              "}\n",
              "\n",
              "#sk-container-id-1 {\n",
              "  color: var(--sklearn-color-text);\n",
              "}\n",
              "\n",
              "#sk-container-id-1 pre {\n",
              "  padding: 0;\n",
              "}\n",
              "\n",
              "#sk-container-id-1 input.sk-hidden--visually {\n",
              "  border: 0;\n",
              "  clip: rect(1px 1px 1px 1px);\n",
              "  clip: rect(1px, 1px, 1px, 1px);\n",
              "  height: 1px;\n",
              "  margin: -1px;\n",
              "  overflow: hidden;\n",
              "  padding: 0;\n",
              "  position: absolute;\n",
              "  width: 1px;\n",
              "}\n",
              "\n",
              "#sk-container-id-1 div.sk-dashed-wrapped {\n",
              "  border: 1px dashed var(--sklearn-color-line);\n",
              "  margin: 0 0.4em 0.5em 0.4em;\n",
              "  box-sizing: border-box;\n",
              "  padding-bottom: 0.4em;\n",
              "  background-color: var(--sklearn-color-background);\n",
              "}\n",
              "\n",
              "#sk-container-id-1 div.sk-container {\n",
              "  /* jupyter's `normalize.less` sets `[hidden] { display: none; }`\n",
              "     but bootstrap.min.css set `[hidden] { display: none !important; }`\n",
              "     so we also need the `!important` here to be able to override the\n",
              "     default hidden behavior on the sphinx rendered scikit-learn.org.\n",
              "     See: https://github.com/scikit-learn/scikit-learn/issues/21755 */\n",
              "  display: inline-block !important;\n",
              "  position: relative;\n",
              "}\n",
              "\n",
              "#sk-container-id-1 div.sk-text-repr-fallback {\n",
              "  display: none;\n",
              "}\n",
              "\n",
              "div.sk-parallel-item,\n",
              "div.sk-serial,\n",
              "div.sk-item {\n",
              "  /* draw centered vertical line to link estimators */\n",
              "  background-image: linear-gradient(var(--sklearn-color-text-on-default-background), var(--sklearn-color-text-on-default-background));\n",
              "  background-size: 2px 100%;\n",
              "  background-repeat: no-repeat;\n",
              "  background-position: center center;\n",
              "}\n",
              "\n",
              "/* Parallel-specific style estimator block */\n",
              "\n",
              "#sk-container-id-1 div.sk-parallel-item::after {\n",
              "  content: \"\";\n",
              "  width: 100%;\n",
              "  border-bottom: 2px solid var(--sklearn-color-text-on-default-background);\n",
              "  flex-grow: 1;\n",
              "}\n",
              "\n",
              "#sk-container-id-1 div.sk-parallel {\n",
              "  display: flex;\n",
              "  align-items: stretch;\n",
              "  justify-content: center;\n",
              "  background-color: var(--sklearn-color-background);\n",
              "  position: relative;\n",
              "}\n",
              "\n",
              "#sk-container-id-1 div.sk-parallel-item {\n",
              "  display: flex;\n",
              "  flex-direction: column;\n",
              "}\n",
              "\n",
              "#sk-container-id-1 div.sk-parallel-item:first-child::after {\n",
              "  align-self: flex-end;\n",
              "  width: 50%;\n",
              "}\n",
              "\n",
              "#sk-container-id-1 div.sk-parallel-item:last-child::after {\n",
              "  align-self: flex-start;\n",
              "  width: 50%;\n",
              "}\n",
              "\n",
              "#sk-container-id-1 div.sk-parallel-item:only-child::after {\n",
              "  width: 0;\n",
              "}\n",
              "\n",
              "/* Serial-specific style estimator block */\n",
              "\n",
              "#sk-container-id-1 div.sk-serial {\n",
              "  display: flex;\n",
              "  flex-direction: column;\n",
              "  align-items: center;\n",
              "  background-color: var(--sklearn-color-background);\n",
              "  padding-right: 1em;\n",
              "  padding-left: 1em;\n",
              "}\n",
              "\n",
              "\n",
              "/* Toggleable style: style used for estimator/Pipeline/ColumnTransformer box that is\n",
              "clickable and can be expanded/collapsed.\n",
              "- Pipeline and ColumnTransformer use this feature and define the default style\n",
              "- Estimators will overwrite some part of the style using the `sk-estimator` class\n",
              "*/\n",
              "\n",
              "/* Pipeline and ColumnTransformer style (default) */\n",
              "\n",
              "#sk-container-id-1 div.sk-toggleable {\n",
              "  /* Default theme specific background. It is overwritten whether we have a\n",
              "  specific estimator or a Pipeline/ColumnTransformer */\n",
              "  background-color: var(--sklearn-color-background);\n",
              "}\n",
              "\n",
              "/* Toggleable label */\n",
              "#sk-container-id-1 label.sk-toggleable__label {\n",
              "  cursor: pointer;\n",
              "  display: flex;\n",
              "  width: 100%;\n",
              "  margin-bottom: 0;\n",
              "  padding: 0.5em;\n",
              "  box-sizing: border-box;\n",
              "  text-align: center;\n",
              "  align-items: start;\n",
              "  justify-content: space-between;\n",
              "  gap: 0.5em;\n",
              "}\n",
              "\n",
              "#sk-container-id-1 label.sk-toggleable__label .caption {\n",
              "  font-size: 0.6rem;\n",
              "  font-weight: lighter;\n",
              "  color: var(--sklearn-color-text-muted);\n",
              "}\n",
              "\n",
              "#sk-container-id-1 label.sk-toggleable__label-arrow:before {\n",
              "  /* Arrow on the left of the label */\n",
              "  content: \"▸\";\n",
              "  float: left;\n",
              "  margin-right: 0.25em;\n",
              "  color: var(--sklearn-color-icon);\n",
              "}\n",
              "\n",
              "#sk-container-id-1 label.sk-toggleable__label-arrow:hover:before {\n",
              "  color: var(--sklearn-color-text);\n",
              "}\n",
              "\n",
              "/* Toggleable content - dropdown */\n",
              "\n",
              "#sk-container-id-1 div.sk-toggleable__content {\n",
              "  max-height: 0;\n",
              "  max-width: 0;\n",
              "  overflow: hidden;\n",
              "  text-align: left;\n",
              "  /* unfitted */\n",
              "  background-color: var(--sklearn-color-unfitted-level-0);\n",
              "}\n",
              "\n",
              "#sk-container-id-1 div.sk-toggleable__content.fitted {\n",
              "  /* fitted */\n",
              "  background-color: var(--sklearn-color-fitted-level-0);\n",
              "}\n",
              "\n",
              "#sk-container-id-1 div.sk-toggleable__content pre {\n",
              "  margin: 0.2em;\n",
              "  border-radius: 0.25em;\n",
              "  color: var(--sklearn-color-text);\n",
              "  /* unfitted */\n",
              "  background-color: var(--sklearn-color-unfitted-level-0);\n",
              "}\n",
              "\n",
              "#sk-container-id-1 div.sk-toggleable__content.fitted pre {\n",
              "  /* unfitted */\n",
              "  background-color: var(--sklearn-color-fitted-level-0);\n",
              "}\n",
              "\n",
              "#sk-container-id-1 input.sk-toggleable__control:checked~div.sk-toggleable__content {\n",
              "  /* Expand drop-down */\n",
              "  max-height: 200px;\n",
              "  max-width: 100%;\n",
              "  overflow: auto;\n",
              "}\n",
              "\n",
              "#sk-container-id-1 input.sk-toggleable__control:checked~label.sk-toggleable__label-arrow:before {\n",
              "  content: \"▾\";\n",
              "}\n",
              "\n",
              "/* Pipeline/ColumnTransformer-specific style */\n",
              "\n",
              "#sk-container-id-1 div.sk-label input.sk-toggleable__control:checked~label.sk-toggleable__label {\n",
              "  color: var(--sklearn-color-text);\n",
              "  background-color: var(--sklearn-color-unfitted-level-2);\n",
              "}\n",
              "\n",
              "#sk-container-id-1 div.sk-label.fitted input.sk-toggleable__control:checked~label.sk-toggleable__label {\n",
              "  background-color: var(--sklearn-color-fitted-level-2);\n",
              "}\n",
              "\n",
              "/* Estimator-specific style */\n",
              "\n",
              "/* Colorize estimator box */\n",
              "#sk-container-id-1 div.sk-estimator input.sk-toggleable__control:checked~label.sk-toggleable__label {\n",
              "  /* unfitted */\n",
              "  background-color: var(--sklearn-color-unfitted-level-2);\n",
              "}\n",
              "\n",
              "#sk-container-id-1 div.sk-estimator.fitted input.sk-toggleable__control:checked~label.sk-toggleable__label {\n",
              "  /* fitted */\n",
              "  background-color: var(--sklearn-color-fitted-level-2);\n",
              "}\n",
              "\n",
              "#sk-container-id-1 div.sk-label label.sk-toggleable__label,\n",
              "#sk-container-id-1 div.sk-label label {\n",
              "  /* The background is the default theme color */\n",
              "  color: var(--sklearn-color-text-on-default-background);\n",
              "}\n",
              "\n",
              "/* On hover, darken the color of the background */\n",
              "#sk-container-id-1 div.sk-label:hover label.sk-toggleable__label {\n",
              "  color: var(--sklearn-color-text);\n",
              "  background-color: var(--sklearn-color-unfitted-level-2);\n",
              "}\n",
              "\n",
              "/* Label box, darken color on hover, fitted */\n",
              "#sk-container-id-1 div.sk-label.fitted:hover label.sk-toggleable__label.fitted {\n",
              "  color: var(--sklearn-color-text);\n",
              "  background-color: var(--sklearn-color-fitted-level-2);\n",
              "}\n",
              "\n",
              "/* Estimator label */\n",
              "\n",
              "#sk-container-id-1 div.sk-label label {\n",
              "  font-family: monospace;\n",
              "  font-weight: bold;\n",
              "  display: inline-block;\n",
              "  line-height: 1.2em;\n",
              "}\n",
              "\n",
              "#sk-container-id-1 div.sk-label-container {\n",
              "  text-align: center;\n",
              "}\n",
              "\n",
              "/* Estimator-specific */\n",
              "#sk-container-id-1 div.sk-estimator {\n",
              "  font-family: monospace;\n",
              "  border: 1px dotted var(--sklearn-color-border-box);\n",
              "  border-radius: 0.25em;\n",
              "  box-sizing: border-box;\n",
              "  margin-bottom: 0.5em;\n",
              "  /* unfitted */\n",
              "  background-color: var(--sklearn-color-unfitted-level-0);\n",
              "}\n",
              "\n",
              "#sk-container-id-1 div.sk-estimator.fitted {\n",
              "  /* fitted */\n",
              "  background-color: var(--sklearn-color-fitted-level-0);\n",
              "}\n",
              "\n",
              "/* on hover */\n",
              "#sk-container-id-1 div.sk-estimator:hover {\n",
              "  /* unfitted */\n",
              "  background-color: var(--sklearn-color-unfitted-level-2);\n",
              "}\n",
              "\n",
              "#sk-container-id-1 div.sk-estimator.fitted:hover {\n",
              "  /* fitted */\n",
              "  background-color: var(--sklearn-color-fitted-level-2);\n",
              "}\n",
              "\n",
              "/* Specification for estimator info (e.g. \"i\" and \"?\") */\n",
              "\n",
              "/* Common style for \"i\" and \"?\" */\n",
              "\n",
              ".sk-estimator-doc-link,\n",
              "a:link.sk-estimator-doc-link,\n",
              "a:visited.sk-estimator-doc-link {\n",
              "  float: right;\n",
              "  font-size: smaller;\n",
              "  line-height: 1em;\n",
              "  font-family: monospace;\n",
              "  background-color: var(--sklearn-color-background);\n",
              "  border-radius: 1em;\n",
              "  height: 1em;\n",
              "  width: 1em;\n",
              "  text-decoration: none !important;\n",
              "  margin-left: 0.5em;\n",
              "  text-align: center;\n",
              "  /* unfitted */\n",
              "  border: var(--sklearn-color-unfitted-level-1) 1pt solid;\n",
              "  color: var(--sklearn-color-unfitted-level-1);\n",
              "}\n",
              "\n",
              ".sk-estimator-doc-link.fitted,\n",
              "a:link.sk-estimator-doc-link.fitted,\n",
              "a:visited.sk-estimator-doc-link.fitted {\n",
              "  /* fitted */\n",
              "  border: var(--sklearn-color-fitted-level-1) 1pt solid;\n",
              "  color: var(--sklearn-color-fitted-level-1);\n",
              "}\n",
              "\n",
              "/* On hover */\n",
              "div.sk-estimator:hover .sk-estimator-doc-link:hover,\n",
              ".sk-estimator-doc-link:hover,\n",
              "div.sk-label-container:hover .sk-estimator-doc-link:hover,\n",
              ".sk-estimator-doc-link:hover {\n",
              "  /* unfitted */\n",
              "  background-color: var(--sklearn-color-unfitted-level-3);\n",
              "  color: var(--sklearn-color-background);\n",
              "  text-decoration: none;\n",
              "}\n",
              "\n",
              "div.sk-estimator.fitted:hover .sk-estimator-doc-link.fitted:hover,\n",
              ".sk-estimator-doc-link.fitted:hover,\n",
              "div.sk-label-container:hover .sk-estimator-doc-link.fitted:hover,\n",
              ".sk-estimator-doc-link.fitted:hover {\n",
              "  /* fitted */\n",
              "  background-color: var(--sklearn-color-fitted-level-3);\n",
              "  color: var(--sklearn-color-background);\n",
              "  text-decoration: none;\n",
              "}\n",
              "\n",
              "/* Span, style for the box shown on hovering the info icon */\n",
              ".sk-estimator-doc-link span {\n",
              "  display: none;\n",
              "  z-index: 9999;\n",
              "  position: relative;\n",
              "  font-weight: normal;\n",
              "  right: .2ex;\n",
              "  padding: .5ex;\n",
              "  margin: .5ex;\n",
              "  width: min-content;\n",
              "  min-width: 20ex;\n",
              "  max-width: 50ex;\n",
              "  color: var(--sklearn-color-text);\n",
              "  box-shadow: 2pt 2pt 4pt #999;\n",
              "  /* unfitted */\n",
              "  background: var(--sklearn-color-unfitted-level-0);\n",
              "  border: .5pt solid var(--sklearn-color-unfitted-level-3);\n",
              "}\n",
              "\n",
              ".sk-estimator-doc-link.fitted span {\n",
              "  /* fitted */\n",
              "  background: var(--sklearn-color-fitted-level-0);\n",
              "  border: var(--sklearn-color-fitted-level-3);\n",
              "}\n",
              "\n",
              ".sk-estimator-doc-link:hover span {\n",
              "  display: block;\n",
              "}\n",
              "\n",
              "/* \"?\"-specific style due to the `<a>` HTML tag */\n",
              "\n",
              "#sk-container-id-1 a.estimator_doc_link {\n",
              "  float: right;\n",
              "  font-size: 1rem;\n",
              "  line-height: 1em;\n",
              "  font-family: monospace;\n",
              "  background-color: var(--sklearn-color-background);\n",
              "  border-radius: 1rem;\n",
              "  height: 1rem;\n",
              "  width: 1rem;\n",
              "  text-decoration: none;\n",
              "  /* unfitted */\n",
              "  color: var(--sklearn-color-unfitted-level-1);\n",
              "  border: var(--sklearn-color-unfitted-level-1) 1pt solid;\n",
              "}\n",
              "\n",
              "#sk-container-id-1 a.estimator_doc_link.fitted {\n",
              "  /* fitted */\n",
              "  border: var(--sklearn-color-fitted-level-1) 1pt solid;\n",
              "  color: var(--sklearn-color-fitted-level-1);\n",
              "}\n",
              "\n",
              "/* On hover */\n",
              "#sk-container-id-1 a.estimator_doc_link:hover {\n",
              "  /* unfitted */\n",
              "  background-color: var(--sklearn-color-unfitted-level-3);\n",
              "  color: var(--sklearn-color-background);\n",
              "  text-decoration: none;\n",
              "}\n",
              "\n",
              "#sk-container-id-1 a.estimator_doc_link.fitted:hover {\n",
              "  /* fitted */\n",
              "  background-color: var(--sklearn-color-fitted-level-3);\n",
              "}\n",
              "</style><div id=\"sk-container-id-1\" class=\"sk-top-container\"><div class=\"sk-text-repr-fallback\"><pre>TfidfVectorizer(stop_words=&#x27;english&#x27;)</pre><b>In a Jupyter environment, please rerun this cell to show the HTML representation or trust the notebook. <br />On GitHub, the HTML representation is unable to render, please try loading this page with nbviewer.org.</b></div><div class=\"sk-container\" hidden><div class=\"sk-item\"><div class=\"sk-estimator fitted sk-toggleable\"><input class=\"sk-toggleable__control sk-hidden--visually\" id=\"sk-estimator-id-1\" type=\"checkbox\" checked><label for=\"sk-estimator-id-1\" class=\"sk-toggleable__label fitted sk-toggleable__label-arrow\"><div><div>TfidfVectorizer</div></div><div><a class=\"sk-estimator-doc-link fitted\" rel=\"noreferrer\" target=\"_blank\" href=\"https://scikit-learn.org/1.6/modules/generated/sklearn.feature_extraction.text.TfidfVectorizer.html\">?<span>Documentation for TfidfVectorizer</span></a><span class=\"sk-estimator-doc-link fitted\">i<span>Fitted</span></span></div></label><div class=\"sk-toggleable__content fitted\"><pre>TfidfVectorizer(stop_words=&#x27;english&#x27;)</pre></div> </div></div></div></div>"
            ]
          },
          "metadata": {},
          "execution_count": 38
        }
      ]
    },
    {
      "cell_type": "code",
      "source": [
        "tfidf_train.shape"
      ],
      "metadata": {
        "colab": {
          "base_uri": "https://localhost:8080/"
        },
        "id": "pjKJMvvY6Ffa",
        "outputId": "a7035bc5-d4f0-4454-eafa-b82ba5ef9541"
      },
      "execution_count": null,
      "outputs": [
        {
          "output_type": "execute_result",
          "data": {
            "text/plain": [
              "(1431, 38890)"
            ]
          },
          "metadata": {},
          "execution_count": 39
        }
      ]
    },
    {
      "cell_type": "code",
      "source": [
        "Adab = AdaBoostClassifier(DecisionTreeClassifier(max_depth=10),n_estimators=5,random_state=1)\n",
        "Adab.fit(tfidf_train, y_train)\n",
        "y_pred3 = Adab.predict(tfidf_test)\n",
        "ABscore = metrics.accuracy_score(y_test,y_pred3)\n",
        "print(\"accuracy: %0.3f\" %ABscore)"
      ],
      "metadata": {
        "colab": {
          "base_uri": "https://localhost:8080/"
        },
        "id": "KYcnUyTi6IxC",
        "outputId": "162a46ad-15ca-4593-d7be-81469752ceb7"
      },
      "execution_count": null,
      "outputs": [
        {
          "output_type": "stream",
          "name": "stdout",
          "text": [
            "accuracy: 0.956\n"
          ]
        }
      ]
    },
    {
      "cell_type": "code",
      "source": [
        "Rando = RandomForestClassifier(n_estimators=100,random_state=0)\n",
        "Rando.fit(tfidf_train,y_train)\n",
        "y_pred1 = Rando.predict(tfidf_test)\n",
        "RFscore = metrics.accuracy_score(y_test,y_pred1)\n",
        "print(\"accuracy:  %0.3f\" %RFscore)"
      ],
      "metadata": {
        "id": "lghJMW3q6NFb",
        "outputId": "87d71f61-d5fd-47b8-bfa4-753ba0d46097",
        "colab": {
          "base_uri": "https://localhost:8080/"
        }
      },
      "execution_count": null,
      "outputs": [
        {
          "output_type": "stream",
          "name": "stdout",
          "text": [
            "accuracy:  0.870\n"
          ]
        }
      ]
    },
    {
      "cell_type": "code",
      "source": [],
      "metadata": {
        "id": "SjsRWUa96Rg3"
      },
      "execution_count": null,
      "outputs": []
    }
  ]
}